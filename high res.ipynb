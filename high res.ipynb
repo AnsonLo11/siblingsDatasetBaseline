{
 "cells": [
  {
   "attachments": {},
   "cell_type": "markdown",
   "metadata": {},
   "source": [
    "### 数据预处理"
   ]
  },
  {
   "cell_type": "code",
   "execution_count": 1,
   "metadata": {},
   "outputs": [],
   "source": [
    "import csv\n",
    "import pandas as pd\n",
    "import numpy as np\n",
    "import json"
   ]
  },
  {
   "cell_type": "code",
   "execution_count": 2,
   "metadata": {},
   "outputs": [],
   "source": [
    "data = pd.read_csv('data.csv')"
   ]
  },
  {
   "cell_type": "code",
   "execution_count": 3,
   "metadata": {},
   "outputs": [
    {
     "data": {
      "text/html": [
       "<div>\n",
       "<style scoped>\n",
       "    .dataframe tbody tr th:only-of-type {\n",
       "        vertical-align: middle;\n",
       "    }\n",
       "\n",
       "    .dataframe tbody tr th {\n",
       "        vertical-align: top;\n",
       "    }\n",
       "\n",
       "    .dataframe thead th {\n",
       "        text-align: right;\n",
       "    }\n",
       "</style>\n",
       "<table border=\"1\" class=\"dataframe\">\n",
       "  <thead>\n",
       "    <tr style=\"text-align: right;\">\n",
       "      <th></th>\n",
       "      <th>high0</th>\n",
       "      <th>high1</th>\n",
       "      <th>high2</th>\n",
       "      <th>high3</th>\n",
       "      <th>high4</th>\n",
       "      <th>high5</th>\n",
       "      <th>high6</th>\n",
       "      <th>high7</th>\n",
       "      <th>high8</th>\n",
       "      <th>high9</th>\n",
       "      <th>...</th>\n",
       "      <th>low694</th>\n",
       "      <th>low695</th>\n",
       "      <th>low696</th>\n",
       "      <th>low697</th>\n",
       "      <th>low698</th>\n",
       "      <th>low699</th>\n",
       "      <th>y1</th>\n",
       "      <th>y2</th>\n",
       "      <th>y3</th>\n",
       "      <th>y4</th>\n",
       "    </tr>\n",
       "  </thead>\n",
       "  <tbody>\n",
       "    <tr>\n",
       "      <th>0</th>\n",
       "      <td>0.359752</td>\n",
       "      <td>0.424275</td>\n",
       "      <td>-0.681706</td>\n",
       "      <td>0.433839</td>\n",
       "      <td>0.004776</td>\n",
       "      <td>0.001909</td>\n",
       "      <td>0.004776</td>\n",
       "      <td>0.001909</td>\n",
       "      <td>97.547158</td>\n",
       "      <td>48.476906</td>\n",
       "      <td>...</td>\n",
       "      <td>147867.681361</td>\n",
       "      <td>34273.003529</td>\n",
       "      <td>147552.433395</td>\n",
       "      <td>33959.200637</td>\n",
       "      <td>39.083400</td>\n",
       "      <td>10.692026</td>\n",
       "      <td>2</td>\n",
       "      <td>1</td>\n",
       "      <td>0</td>\n",
       "      <td>6</td>\n",
       "    </tr>\n",
       "    <tr>\n",
       "      <th>1</th>\n",
       "      <td>0.374953</td>\n",
       "      <td>0.477638</td>\n",
       "      <td>-0.666732</td>\n",
       "      <td>0.429372</td>\n",
       "      <td>0.010201</td>\n",
       "      <td>0.002640</td>\n",
       "      <td>0.010201</td>\n",
       "      <td>0.002640</td>\n",
       "      <td>94.752225</td>\n",
       "      <td>45.264284</td>\n",
       "      <td>...</td>\n",
       "      <td>0.000000</td>\n",
       "      <td>0.000000</td>\n",
       "      <td>0.000000</td>\n",
       "      <td>0.000000</td>\n",
       "      <td>9.121715</td>\n",
       "      <td>3.024193</td>\n",
       "      <td>2</td>\n",
       "      <td>1</td>\n",
       "      <td>0</td>\n",
       "      <td>6</td>\n",
       "    </tr>\n",
       "    <tr>\n",
       "      <th>2</th>\n",
       "      <td>0.374791</td>\n",
       "      <td>0.433773</td>\n",
       "      <td>-0.650851</td>\n",
       "      <td>0.302914</td>\n",
       "      <td>0.027013</td>\n",
       "      <td>0.007587</td>\n",
       "      <td>0.027013</td>\n",
       "      <td>0.007587</td>\n",
       "      <td>103.646422</td>\n",
       "      <td>66.342239</td>\n",
       "      <td>...</td>\n",
       "      <td>309465.762848</td>\n",
       "      <td>70251.212387</td>\n",
       "      <td>86736.061773</td>\n",
       "      <td>19023.865616</td>\n",
       "      <td>272.618048</td>\n",
       "      <td>39.410815</td>\n",
       "      <td>0</td>\n",
       "      <td>1</td>\n",
       "      <td>0</td>\n",
       "      <td>4</td>\n",
       "    </tr>\n",
       "    <tr>\n",
       "      <th>3</th>\n",
       "      <td>0.425997</td>\n",
       "      <td>0.407457</td>\n",
       "      <td>-0.651442</td>\n",
       "      <td>0.335262</td>\n",
       "      <td>0.018433</td>\n",
       "      <td>0.004401</td>\n",
       "      <td>0.018433</td>\n",
       "      <td>0.004401</td>\n",
       "      <td>107.650662</td>\n",
       "      <td>116.364404</td>\n",
       "      <td>...</td>\n",
       "      <td>34427.765392</td>\n",
       "      <td>8119.821369</td>\n",
       "      <td>0.000000</td>\n",
       "      <td>0.000000</td>\n",
       "      <td>243362.224842</td>\n",
       "      <td>54139.263203</td>\n",
       "      <td>2</td>\n",
       "      <td>1</td>\n",
       "      <td>0</td>\n",
       "      <td>4</td>\n",
       "    </tr>\n",
       "    <tr>\n",
       "      <th>4</th>\n",
       "      <td>0.462599</td>\n",
       "      <td>0.428727</td>\n",
       "      <td>-0.676588</td>\n",
       "      <td>0.425349</td>\n",
       "      <td>0.004667</td>\n",
       "      <td>0.002822</td>\n",
       "      <td>0.004667</td>\n",
       "      <td>0.002822</td>\n",
       "      <td>104.963457</td>\n",
       "      <td>19.671929</td>\n",
       "      <td>...</td>\n",
       "      <td>516165.111104</td>\n",
       "      <td>112837.709221</td>\n",
       "      <td>355822.121392</td>\n",
       "      <td>80991.490121</td>\n",
       "      <td>142600.840444</td>\n",
       "      <td>31689.816294</td>\n",
       "      <td>0</td>\n",
       "      <td>1</td>\n",
       "      <td>0</td>\n",
       "      <td>4</td>\n",
       "    </tr>\n",
       "  </tbody>\n",
       "</table>\n",
       "<p>5 rows × 1450 columns</p>\n",
       "</div>"
      ],
      "text/plain": [
       "      high0     high1     high2     high3     high4     high5     high6   \n",
       "0  0.359752  0.424275 -0.681706  0.433839  0.004776  0.001909  0.004776  \\\n",
       "1  0.374953  0.477638 -0.666732  0.429372  0.010201  0.002640  0.010201   \n",
       "2  0.374791  0.433773 -0.650851  0.302914  0.027013  0.007587  0.027013   \n",
       "3  0.425997  0.407457 -0.651442  0.335262  0.018433  0.004401  0.018433   \n",
       "4  0.462599  0.428727 -0.676588  0.425349  0.004667  0.002822  0.004667   \n",
       "\n",
       "      high7       high8       high9  ...         low694         low695   \n",
       "0  0.001909   97.547158   48.476906  ...  147867.681361   34273.003529  \\\n",
       "1  0.002640   94.752225   45.264284  ...       0.000000       0.000000   \n",
       "2  0.007587  103.646422   66.342239  ...  309465.762848   70251.212387   \n",
       "3  0.004401  107.650662  116.364404  ...   34427.765392    8119.821369   \n",
       "4  0.002822  104.963457   19.671929  ...  516165.111104  112837.709221   \n",
       "\n",
       "          low696        low697         low698        low699  y1  y2  y3  y4  \n",
       "0  147552.433395  33959.200637      39.083400     10.692026   2   1   0   6  \n",
       "1       0.000000      0.000000       9.121715      3.024193   2   1   0   6  \n",
       "2   86736.061773  19023.865616     272.618048     39.410815   0   1   0   4  \n",
       "3       0.000000      0.000000  243362.224842  54139.263203   2   1   0   4  \n",
       "4  355822.121392  80991.490121  142600.840444  31689.816294   0   1   0   4  \n",
       "\n",
       "[5 rows x 1450 columns]"
      ]
     },
     "execution_count": 3,
     "metadata": {},
     "output_type": "execute_result"
    }
   ],
   "source": [
    "data.head()"
   ]
  },
  {
   "attachments": {},
   "cell_type": "markdown",
   "metadata": {},
   "source": [
    "选择 High-level features"
   ]
  },
  {
   "cell_type": "code",
   "execution_count": 6,
   "metadata": {},
   "outputs": [],
   "source": [
    "X = data.drop(['y1','y2','y3','y4'],axis=1)\n",
    "X = X.iloc[:,:746]\n",
    "y1 = data['y1']\n",
    "y2 = data['y2']\n",
    "y3 = data['y3']\n",
    "y4 = data['y4']\n",
    "y = data[['y1','y2','y3','y4']]"
   ]
  },
  {
   "cell_type": "code",
   "execution_count": 7,
   "metadata": {},
   "outputs": [
    {
     "data": {
      "text/html": [
       "<div>\n",
       "<style scoped>\n",
       "    .dataframe tbody tr th:only-of-type {\n",
       "        vertical-align: middle;\n",
       "    }\n",
       "\n",
       "    .dataframe tbody tr th {\n",
       "        vertical-align: top;\n",
       "    }\n",
       "\n",
       "    .dataframe thead th {\n",
       "        text-align: right;\n",
       "    }\n",
       "</style>\n",
       "<table border=\"1\" class=\"dataframe\">\n",
       "  <thead>\n",
       "    <tr style=\"text-align: right;\">\n",
       "      <th></th>\n",
       "      <th>high0</th>\n",
       "      <th>high1</th>\n",
       "      <th>high2</th>\n",
       "      <th>high3</th>\n",
       "      <th>high4</th>\n",
       "      <th>high5</th>\n",
       "      <th>high6</th>\n",
       "      <th>high7</th>\n",
       "      <th>high8</th>\n",
       "      <th>high9</th>\n",
       "      <th>...</th>\n",
       "      <th>high736</th>\n",
       "      <th>high737</th>\n",
       "      <th>high738</th>\n",
       "      <th>high739</th>\n",
       "      <th>high740</th>\n",
       "      <th>high741</th>\n",
       "      <th>high742</th>\n",
       "      <th>high743</th>\n",
       "      <th>high744</th>\n",
       "      <th>high745</th>\n",
       "    </tr>\n",
       "  </thead>\n",
       "  <tbody>\n",
       "    <tr>\n",
       "      <th>0</th>\n",
       "      <td>0.359752</td>\n",
       "      <td>0.424275</td>\n",
       "      <td>-0.681706</td>\n",
       "      <td>0.433839</td>\n",
       "      <td>0.004776</td>\n",
       "      <td>0.001909</td>\n",
       "      <td>0.004776</td>\n",
       "      <td>0.001909</td>\n",
       "      <td>97.547158</td>\n",
       "      <td>48.476906</td>\n",
       "      <td>...</td>\n",
       "      <td>272112.252243</td>\n",
       "      <td>76047.684898</td>\n",
       "      <td>169839.362072</td>\n",
       "      <td>46701.487476</td>\n",
       "      <td>147867.681361</td>\n",
       "      <td>34273.003529</td>\n",
       "      <td>147552.433395</td>\n",
       "      <td>33959.200637</td>\n",
       "      <td>39.083400</td>\n",
       "      <td>10.692026</td>\n",
       "    </tr>\n",
       "    <tr>\n",
       "      <th>1</th>\n",
       "      <td>0.374953</td>\n",
       "      <td>0.477638</td>\n",
       "      <td>-0.666732</td>\n",
       "      <td>0.429372</td>\n",
       "      <td>0.010201</td>\n",
       "      <td>0.002640</td>\n",
       "      <td>0.010201</td>\n",
       "      <td>0.002640</td>\n",
       "      <td>94.752225</td>\n",
       "      <td>45.264284</td>\n",
       "      <td>...</td>\n",
       "      <td>52893.963203</td>\n",
       "      <td>14728.068098</td>\n",
       "      <td>508166.296681</td>\n",
       "      <td>136867.615309</td>\n",
       "      <td>0.000000</td>\n",
       "      <td>0.000000</td>\n",
       "      <td>0.000000</td>\n",
       "      <td>0.000000</td>\n",
       "      <td>9.121715</td>\n",
       "      <td>3.024193</td>\n",
       "    </tr>\n",
       "    <tr>\n",
       "      <th>2</th>\n",
       "      <td>0.374791</td>\n",
       "      <td>0.433773</td>\n",
       "      <td>-0.650851</td>\n",
       "      <td>0.302914</td>\n",
       "      <td>0.027013</td>\n",
       "      <td>0.007587</td>\n",
       "      <td>0.027013</td>\n",
       "      <td>0.007587</td>\n",
       "      <td>103.646422</td>\n",
       "      <td>66.342239</td>\n",
       "      <td>...</td>\n",
       "      <td>297675.765155</td>\n",
       "      <td>78163.056222</td>\n",
       "      <td>373672.168560</td>\n",
       "      <td>94835.329620</td>\n",
       "      <td>309465.762848</td>\n",
       "      <td>70251.212387</td>\n",
       "      <td>86736.061773</td>\n",
       "      <td>19023.865616</td>\n",
       "      <td>272.618048</td>\n",
       "      <td>39.410815</td>\n",
       "    </tr>\n",
       "    <tr>\n",
       "      <th>3</th>\n",
       "      <td>0.425997</td>\n",
       "      <td>0.407457</td>\n",
       "      <td>-0.651442</td>\n",
       "      <td>0.335262</td>\n",
       "      <td>0.018433</td>\n",
       "      <td>0.004401</td>\n",
       "      <td>0.018433</td>\n",
       "      <td>0.004401</td>\n",
       "      <td>107.650662</td>\n",
       "      <td>116.364404</td>\n",
       "      <td>...</td>\n",
       "      <td>150644.829017</td>\n",
       "      <td>40168.147290</td>\n",
       "      <td>396776.193606</td>\n",
       "      <td>104552.824689</td>\n",
       "      <td>34427.765392</td>\n",
       "      <td>8119.821369</td>\n",
       "      <td>0.000000</td>\n",
       "      <td>0.000000</td>\n",
       "      <td>243362.224842</td>\n",
       "      <td>54139.263203</td>\n",
       "    </tr>\n",
       "    <tr>\n",
       "      <th>4</th>\n",
       "      <td>0.462599</td>\n",
       "      <td>0.428727</td>\n",
       "      <td>-0.676588</td>\n",
       "      <td>0.425349</td>\n",
       "      <td>0.004667</td>\n",
       "      <td>0.002822</td>\n",
       "      <td>0.004667</td>\n",
       "      <td>0.002822</td>\n",
       "      <td>104.963457</td>\n",
       "      <td>19.671929</td>\n",
       "      <td>...</td>\n",
       "      <td>368334.318820</td>\n",
       "      <td>96758.790944</td>\n",
       "      <td>230614.666407</td>\n",
       "      <td>61553.069717</td>\n",
       "      <td>516165.111104</td>\n",
       "      <td>112837.709221</td>\n",
       "      <td>355822.121392</td>\n",
       "      <td>80991.490121</td>\n",
       "      <td>142600.840444</td>\n",
       "      <td>31689.816294</td>\n",
       "    </tr>\n",
       "  </tbody>\n",
       "</table>\n",
       "<p>5 rows × 746 columns</p>\n",
       "</div>"
      ],
      "text/plain": [
       "      high0     high1     high2     high3     high4     high5     high6   \n",
       "0  0.359752  0.424275 -0.681706  0.433839  0.004776  0.001909  0.004776  \\\n",
       "1  0.374953  0.477638 -0.666732  0.429372  0.010201  0.002640  0.010201   \n",
       "2  0.374791  0.433773 -0.650851  0.302914  0.027013  0.007587  0.027013   \n",
       "3  0.425997  0.407457 -0.651442  0.335262  0.018433  0.004401  0.018433   \n",
       "4  0.462599  0.428727 -0.676588  0.425349  0.004667  0.002822  0.004667   \n",
       "\n",
       "      high7       high8       high9  ...        high736       high737   \n",
       "0  0.001909   97.547158   48.476906  ...  272112.252243  76047.684898  \\\n",
       "1  0.002640   94.752225   45.264284  ...   52893.963203  14728.068098   \n",
       "2  0.007587  103.646422   66.342239  ...  297675.765155  78163.056222   \n",
       "3  0.004401  107.650662  116.364404  ...  150644.829017  40168.147290   \n",
       "4  0.002822  104.963457   19.671929  ...  368334.318820  96758.790944   \n",
       "\n",
       "         high738        high739        high740        high741        high742   \n",
       "0  169839.362072   46701.487476  147867.681361   34273.003529  147552.433395  \\\n",
       "1  508166.296681  136867.615309       0.000000       0.000000       0.000000   \n",
       "2  373672.168560   94835.329620  309465.762848   70251.212387   86736.061773   \n",
       "3  396776.193606  104552.824689   34427.765392    8119.821369       0.000000   \n",
       "4  230614.666407   61553.069717  516165.111104  112837.709221  355822.121392   \n",
       "\n",
       "        high743        high744       high745  \n",
       "0  33959.200637      39.083400     10.692026  \n",
       "1      0.000000       9.121715      3.024193  \n",
       "2  19023.865616     272.618048     39.410815  \n",
       "3      0.000000  243362.224842  54139.263203  \n",
       "4  80991.490121  142600.840444  31689.816294  \n",
       "\n",
       "[5 rows x 746 columns]"
      ]
     },
     "execution_count": 7,
     "metadata": {},
     "output_type": "execute_result"
    }
   ],
   "source": [
    "X.head()"
   ]
  },
  {
   "attachments": {},
   "cell_type": "markdown",
   "metadata": {},
   "source": [
    "检查 nan"
   ]
  },
  {
   "cell_type": "code",
   "execution_count": 8,
   "metadata": {},
   "outputs": [
    {
     "data": {
      "text/plain": [
       "array([1564])"
      ]
     },
     "execution_count": 8,
     "metadata": {},
     "output_type": "execute_result"
    }
   ],
   "source": [
    "idx = np.where(np.isnan(X).any(axis=1)==True)[0]\n",
    "idx"
   ]
  },
  {
   "cell_type": "code",
   "execution_count": 9,
   "metadata": {},
   "outputs": [
    {
     "name": "stdout",
     "output_type": "stream",
     "text": [
      "drop 1 rows with nan value\n"
     ]
    }
   ],
   "source": [
    "if len(idx) != 0:\n",
    "    print(f\"drop {len(idx)} rows with nan value\")\n",
    "    for i in idx:\n",
    "        X = np.delete(X, i, axis=0)\n",
    "        y1 = np.delete(y1, i, axis=0)\n",
    "        y2 = np.delete(y2, i, axis=0)\n",
    "        y3 = np.delete(y3, i, axis=0)\n",
    "        y4 = np.delete(y4, i, axis=0)\n",
    "        y = np.delete(y, i, axis=0)"
   ]
  },
  {
   "cell_type": "code",
   "execution_count": 10,
   "metadata": {},
   "outputs": [],
   "source": [
    "X_norm = np.apply_along_axis(lambda x: x / np.linalg.norm(x), axis=0, arr=X)\n"
   ]
  },
  {
   "cell_type": "code",
   "execution_count": 11,
   "metadata": {},
   "outputs": [
    {
     "data": {
      "text/plain": [
       "(array([], dtype=int64),)"
      ]
     },
     "execution_count": 11,
     "metadata": {},
     "output_type": "execute_result"
    }
   ],
   "source": [
    "# check nan in X_norm\n",
    "np.where(np.isnan(X_norm).any(axis=1)==True)"
   ]
  },
  {
   "cell_type": "code",
   "execution_count": 12,
   "metadata": {},
   "outputs": [
    {
     "name": "stdout",
     "output_type": "stream",
     "text": [
      "Read in videos y:3655\n"
     ]
    }
   ],
   "source": [
    "print(f\"Read in videos y:{len(y1)}\")"
   ]
  },
  {
   "attachments": {},
   "cell_type": "markdown",
   "metadata": {},
   "source": [
    "维度"
   ]
  },
  {
   "cell_type": "code",
   "execution_count": 13,
   "metadata": {},
   "outputs": [
    {
     "name": "stdout",
     "output_type": "stream",
     "text": [
      "X:746\n"
     ]
    }
   ],
   "source": [
    "print(f\"X:{len(X[0])}\")"
   ]
  },
  {
   "attachments": {},
   "cell_type": "markdown",
   "metadata": {},
   "source": [
    "## Train "
   ]
  },
  {
   "cell_type": "code",
   "execution_count": 14,
   "metadata": {},
   "outputs": [
    {
     "name": "stdout",
     "output_type": "stream",
     "text": [
      "Video num: X_train:2924, X_test:731, y_train:2924, y_test:731\n"
     ]
    }
   ],
   "source": [
    "from sklearn.model_selection import train_test_split\n",
    "# frame split\n",
    "X_train, X_test, y_train, y_test = train_test_split(X_norm, y, test_size=0.2, random_state=42)\n",
    "print(f\"Video num: X_train:{len(X_train)}, X_test:{len(X_test)}, y_train:{len(y_train)}, y_test:{len(y_test)}\")\n",
    "\n",
    "y1_train, y1_test = y_train[:,0], y_test[:,0]\n",
    "y2_train, y2_test = y_train[:,1], y_test[:,1]\n",
    "y3_train, y3_test = y_train[:,2], y_test[:,2]\n",
    "y4_train, y4_test = y_train[:,3], y_test[:,3]"
   ]
  },
  {
   "cell_type": "code",
   "execution_count": 15,
   "metadata": {},
   "outputs": [],
   "source": [
    "target = [[\"强\",\"中\",\"弱\",\"没有回应（忽视）\"], \n",
    "        ['中性','积极','消极'], \n",
    "        [\"专注（任务中）\",\"走神（任务外）\"], \n",
    "        [\"玩乐\", \"闲聊\", \"一人独立尝试一人摸鱼\", \"各自神游\", \"主导\", \"支持\", \"旁观\", \"冲突\"]]"
   ]
  },
  {
   "attachments": {},
   "cell_type": "markdown",
   "metadata": {},
   "source": [
    "查看数据分布"
   ]
  },
  {
   "cell_type": "code",
   "execution_count": 16,
   "metadata": {},
   "outputs": [
    {
     "name": "stdout",
     "output_type": "stream",
     "text": [
      "强:873, 中:524, 弱:1506, 没有回应（忽视）:752, \n"
     ]
    },
    {
     "data": {
      "image/png": "[encoded data removed]",
      "text/plain": [
       "<Figure size 640x480 with 1 Axes>"
      ]
     },
     "metadata": {},
     "output_type": "display_data"
    },
    {
     "name": "stdout",
     "output_type": "stream",
     "text": [
      "中性:2068, 积极:1076, 消极:511, \n"
     ]
    },
    {
     "data": {
      "image/png": "[encoded data removed]",
      "text/plain": [
       "<Figure size 640x480 with 1 Axes>"
      ]
     },
     "metadata": {},
     "output_type": "display_data"
    },
    {
     "name": "stdout",
     "output_type": "stream",
     "text": [
      "专注（任务中）:3216, 走神（任务外）:439, \n"
     ]
    },
    {
     "data": {
      "image/png": "[encoded data removed]",
      "text/plain": [
       "<Figure size 640x480 with 1 Axes>"
      ]
     },
     "metadata": {},
     "output_type": "display_data"
    },
    {
     "name": "stdout",
     "output_type": "stream",
     "text": [
      "玩乐:13, 闲聊:39, 一人独立尝试一人摸鱼:371, 各自神游:20, 主导:1022, 支持:1045, 旁观:1121, 冲突:24, \n"
     ]
    },
    {
     "data": {
      "image/png": "[encoded data removed]",
      "text/plain": [
       "<Figure size 640x480 with 1 Axes>"
      ]
     },
     "metadata": {},
     "output_type": "display_data"
    }
   ],
   "source": [
    "import matplotlib.pyplot as plt\n",
    "from matplotlib.font_manager import FontProperties  # 步骤一\n",
    "\n",
    "plt.rcParams[\"font.sans-serif\"]=[\"AR PL UMing CN\"] #设置字体\n",
    "plt.rcParams[\"axes.unicode_minus\"]=False #该语句解决图像中的“-”负号的乱码问题\n",
    "\n",
    "def num_of_cls(y, target): \n",
    "    N = []\n",
    "    for i in range(len(target)):\n",
    "        print(target[i] + f\":{len(y[y==i])}\", end=\", \")\n",
    "        N.append(len(y[y==i]))\n",
    "    print()\n",
    "    return N\n",
    "\n",
    "for i in range(4):\n",
    "    N = num_of_cls(y[:,i],target[i])\n",
    "    # proportions = [ p/len(y) for p in N]\n",
    "    plt.pie(N,labels=target[i],autopct='%1.1f%%')\n",
    "    plt.show()\n"
   ]
  },
  {
   "attachments": {},
   "cell_type": "markdown",
   "metadata": {},
   "source": [
    "Cross-validation  \n",
    "- 5 folds"
   ]
  },
  {
   "cell_type": "code",
   "execution_count": 17,
   "metadata": {},
   "outputs": [],
   "source": [
    "from sklearn.model_selection import KFold, cross_val_score, cross_validate, GridSearchCV, RandomizedSearchCV\n",
    "from sklearn.metrics import make_scorer, accuracy_score, f1_score, recall_score\n",
    "from sklearn.experimental import enable_halving_search_cv\n",
    "from sklearn.model_selection import HalvingGridSearchCV, HalvingRandomSearchCV\n",
    "\n",
    "def crossVal(rfc, X, y):\n",
    "    kfold = KFold(n_splits=5, shuffle=True, random_state=42)\n",
    "    scoring = ['accuracy', 'f1_weighted', 'recall_weighted', 'precision_weighted']\n",
    "\n",
    "    # 使用交叉验证器对模型进行评估\n",
    "    scores = cross_validate(rfc, X, y, cv=kfold, scoring=scoring)\n",
    "\n",
    "    # 输出交叉验证结果\n",
    "    print('Accuracy:', scores['test_accuracy'].mean())\n",
    "    print('F1 score:', scores['test_f1_weighted'].mean())\n",
    "    print('Recall:', scores['test_recall_weighted'].mean())\n",
    "    print('Precision:', scores['test_precision_weighted'].mean())\n",
    "\n",
    "def GridSearch(estimator, param_grid, X_train, y_train, X_test, y_test, target, cv=5):\n",
    "    # grid_search = GridSearchCV(estimator=estimator, param_grid=param_grid, cv=cv)\n",
    "    # grid_search = RandomizedSearchCV(estimator=estimator, param_grid=param_grid, cv=cv)\n",
    "    # grid_search = HalvingGridSearchCV(estimator=estimator, param_distributions=param_grid, cv=cv)\n",
    "    grid_search = HalvingRandomSearchCV(estimator=estimator,param_distributions=param_grid, cv=cv)\n",
    "\n",
    "\n",
    "    grid_search.fit(X_train, y_train)\n",
    "\n",
    "    # print(grid_search.best_params_, grid_search.best_score_)\n",
    "    print(\"Best hyperparameters:\", grid_search.best_params_)\n",
    "    print(\"Best cross-validation score:\", grid_search.best_score_)\n",
    "    \n",
    "    best_model = grid_search.best_estimator_\n",
    "    test_score = best_model.score(X_test, y_test)\n",
    "    y_predict = best_model.predict(X_test)\n",
    "    print(\"Test score:\", test_score)\n",
    "    print(\"Report:\")\n",
    "    print(classification_report(y_test, y_predict, target_names=target, zero_division=0))\n",
    "    return best_model"
   ]
  },
  {
   "attachments": {},
   "cell_type": "markdown",
   "metadata": {},
   "source": [
    "### Random Forest"
   ]
  },
  {
   "cell_type": "code",
   "execution_count": 18,
   "metadata": {},
   "outputs": [
    {
     "name": "stdout",
     "output_type": "stream",
     "text": [
      "----------------------Task 0----------------------\n",
      "              precision    recall  f1-score   support\n",
      "\n",
      "           强       0.55      0.26      0.36       183\n",
      "           中       0.00      0.00      0.00       103\n",
      "           弱       0.46      0.87      0.60       309\n",
      "    没有回应（忽视）       0.47      0.20      0.28       136\n",
      "\n",
      "    accuracy                           0.47       731\n",
      "   macro avg       0.37      0.33      0.31       731\n",
      "weighted avg       0.42      0.47      0.39       731\n",
      "\n",
      "强:87, 中:0, 弱:587, 没有回应（忽视）:57, \n",
      "----------------------Task 1----------------------\n",
      "              precision    recall  f1-score   support\n",
      "\n",
      "          中性       0.57      0.98      0.72       401\n",
      "          积极       0.79      0.14      0.23       218\n",
      "          消极       0.00      0.00      0.00       112\n",
      "\n",
      "    accuracy                           0.58       731\n",
      "   macro avg       0.45      0.37      0.32       731\n",
      "weighted avg       0.55      0.58      0.47       731\n",
      "\n",
      "中性:693, 积极:38, 消极:0, \n",
      "----------------------Task 2----------------------\n",
      "              precision    recall  f1-score   support\n",
      "\n",
      "     专注（任务中）       0.87      1.00      0.93       638\n",
      "     走神（任务外）       0.00      0.00      0.00        93\n",
      "\n",
      "    accuracy                           0.87       731\n",
      "   macro avg       0.44      0.50      0.47       731\n",
      "weighted avg       0.76      0.87      0.81       731\n",
      "\n",
      "专注（任务中）:731, 走神（任务外）:0, \n",
      "----------------------Task 3----------------------\n",
      "              precision    recall  f1-score   support\n",
      "\n",
      "          玩乐       0.00      0.00      0.00         3\n",
      "          闲聊       0.00      0.00      0.00         7\n",
      "  一人独立尝试一人摸鱼       0.55      0.15      0.24        78\n",
      "        各自神游       0.00      0.00      0.00         5\n",
      "          主导       0.45      0.53      0.48       205\n",
      "          支持       0.44      0.42      0.43       207\n",
      "          旁观       0.45      0.55      0.49       219\n",
      "          冲突       0.00      0.00      0.00         7\n",
      "\n",
      "    accuracy                           0.45       731\n",
      "   macro avg       0.24      0.21      0.21       731\n",
      "weighted avg       0.44      0.45      0.43       731\n",
      "\n",
      "玩乐:0, 闲聊:0, 一人独立尝试一人摸鱼:22, 各自神游:0, 主导:242, 支持:196, 旁观:271, 冲突:0, \n"
     ]
    }
   ],
   "source": [
    "\n",
    "from sklearn.feature_extraction import DictVectorizer\n",
    "from sklearn.metrics import classification_report\n",
    "from sklearn.ensemble import RandomForestClassifier\n",
    "\n",
    "# 使用随机森林预测一个frame\n",
    "rfc = RandomForestClassifier(n_estimators=100, max_depth=10)\n",
    "rfc.fit(X_train, y_train)\n",
    "y_predict = rfc.predict(X_test)\n",
    "\n",
    "for i in range(len(target)):\n",
    "    print(f\"----------------------Task {i}----------------------\")\n",
    "    print(classification_report(y_test[:,i], y_predict[:,i], target_names=target[i],zero_division=0))\n",
    "    num_of_cls(y_predict[:,i],target[i])\n"
   ]
  },
  {
   "attachments": {},
   "cell_type": "markdown",
   "metadata": {},
   "source": [
    "#### task 1"
   ]
  },
  {
   "cell_type": "code",
   "execution_count": 19,
   "metadata": {},
   "outputs": [
    {
     "name": "stdout",
     "output_type": "stream",
     "text": [
      "Best hyperparameters: {'n_estimators': 200, 'min_samples_split': 2, 'min_samples_leaf': 1, 'max_depth': None}\n",
      "Best cross-validation score: 0.43376830318690784\n",
      "Test score: 0.4883720930232558\n",
      "Report:\n",
      "              precision    recall  f1-score   support\n",
      "\n",
      "           强       0.54      0.32      0.40       183\n",
      "           中       0.00      0.00      0.00       103\n",
      "           弱       0.48      0.84      0.61       309\n",
      "    没有回应（忽视）       0.49      0.28      0.36       136\n",
      "\n",
      "    accuracy                           0.49       731\n",
      "   macro avg       0.38      0.36      0.34       731\n",
      "weighted avg       0.43      0.49      0.42       731\n",
      "\n"
     ]
    }
   ],
   "source": [
    "# GridSearch\n",
    "param_grid = {\n",
    "    'n_estimators': [10, 50, 100, 200],\n",
    "    'max_depth': [None, 10, 20, 30],\n",
    "    'min_samples_split': [2, 5, 10],\n",
    "    'min_samples_leaf': [1, 2, 4]\n",
    "}\n",
    "rfc = RandomForestClassifier()\n",
    "RandomForest = GridSearch(estimator=rfc, \n",
    "                            param_grid=param_grid, \n",
    "                            X_train=X_train, y_train=y1_train, \n",
    "                            X_test=X_test, y_test=y1_test,\n",
    "                            target=target[0], cv=5)"
   ]
  },
  {
   "attachments": {},
   "cell_type": "markdown",
   "metadata": {},
   "source": [
    "#### Task 2"
   ]
  },
  {
   "cell_type": "code",
   "execution_count": 20,
   "metadata": {},
   "outputs": [
    {
     "name": "stdout",
     "output_type": "stream",
     "text": [
      "Best hyperparameters: {'n_estimators': 100, 'min_samples_split': 2, 'min_samples_leaf': 4, 'max_depth': 30}\n",
      "Best cross-validation score: 0.6060107759535022\n",
      "Test score: 0.5882352941176471\n",
      "Report:\n",
      "              precision    recall  f1-score   support\n",
      "\n",
      "          中性       0.58      0.96      0.72       401\n",
      "          积极       0.70      0.20      0.31       218\n",
      "          消极       1.00      0.01      0.02       112\n",
      "\n",
      "    accuracy                           0.59       731\n",
      "   macro avg       0.76      0.39      0.35       731\n",
      "weighted avg       0.68      0.59      0.49       731\n",
      "\n"
     ]
    }
   ],
   "source": [
    "# GridSearch\n",
    "param_grid = {\n",
    "    'n_estimators': [10, 50, 100, 200],\n",
    "    'max_depth': [None, 10, 20, 30],\n",
    "    'min_samples_split': [2, 5, 10],\n",
    "    'min_samples_leaf': [1, 2, 4]\n",
    "}\n",
    "rfc = RandomForestClassifier()\n",
    "RandomForest = GridSearch(estimator=rfc, param_grid=param_grid, \n",
    "                            X_train=X_train, y_train=y2_train, \n",
    "                            X_test=X_test, y_test=y2_test,\n",
    "                            target=target[1], cv=5)"
   ]
  },
  {
   "attachments": {},
   "cell_type": "markdown",
   "metadata": {},
   "source": [
    "#### Task 3"
   ]
  },
  {
   "cell_type": "code",
   "execution_count": 21,
   "metadata": {},
   "outputs": [
    {
     "name": "stderr",
     "output_type": "stream",
     "text": [
      "/home/ansonlo/anaconda3/envs/torch/lib/python3.8/site-packages/sklearn/model_selection/_search.py:305: UserWarning: The total space of parameters 144 is smaller than n_iter=146. Running 144 iterations. For exhaustive searches, use GridSearchCV.\n",
      "  warnings.warn(\n"
     ]
    },
    {
     "name": "stdout",
     "output_type": "stream",
     "text": [
      "Best hyperparameters: {'n_estimators': 200, 'min_samples_split': 5, 'min_samples_leaf': 2, 'max_depth': 10}\n",
      "Best cross-validation score: 0.883270267171196\n",
      "Test score: 0.8741450068399452\n",
      "Report:\n",
      "              precision    recall  f1-score   support\n",
      "\n",
      "     专注（任务中）       0.87      1.00      0.93       638\n",
      "     走神（任务外）       1.00      0.01      0.02        93\n",
      "\n",
      "    accuracy                           0.87       731\n",
      "   macro avg       0.94      0.51      0.48       731\n",
      "weighted avg       0.89      0.87      0.82       731\n",
      "\n"
     ]
    }
   ],
   "source": [
    "# GridSearch\n",
    "param_grid = {\n",
    "    'n_estimators': [10, 50, 100, 200],\n",
    "    'max_depth': [None, 10, 20, 30],\n",
    "    'min_samples_split': [2, 5, 10],\n",
    "    'min_samples_leaf': [1, 2, 4]\n",
    "}\n",
    "rfc = RandomForestClassifier()\n",
    "RandomForest = GridSearch(estimator=rfc, param_grid=param_grid, \n",
    "                            X_train=X_train, y_train=y3_train, \n",
    "                            X_test=X_test, y_test=y3_test,\n",
    "                            target=target[2], cv=5)"
   ]
  },
  {
   "cell_type": "code",
   "execution_count": null,
   "metadata": {},
   "outputs": [],
   "source": []
  },
  {
   "attachments": {},
   "cell_type": "markdown",
   "metadata": {},
   "source": [
    "#### Task 4"
   ]
  },
  {
   "cell_type": "code",
   "execution_count": 22,
   "metadata": {},
   "outputs": [
    {
     "name": "stdout",
     "output_type": "stream",
     "text": [
      "Best hyperparameters: {'n_estimators': 100, 'min_samples_split': 2, 'min_samples_leaf': 1, 'max_depth': 20}\n",
      "Best cross-validation score: 0.4432617942768755\n",
      "Test score: 0.4692202462380301\n",
      "Report:\n",
      "              precision    recall  f1-score   support\n",
      "\n",
      "          玩乐       0.00      0.00      0.00         3\n",
      "          闲聊       0.00      0.00      0.00         7\n",
      "  一人独立尝试一人摸鱼       0.56      0.13      0.21        78\n",
      "        各自神游       0.00      0.00      0.00         5\n",
      "          主导       0.47      0.51      0.49       205\n",
      "          支持       0.48      0.50      0.49       207\n",
      "          旁观       0.46      0.57      0.51       219\n",
      "          冲突       0.00      0.00      0.00         7\n",
      "\n",
      "    accuracy                           0.47       731\n",
      "   macro avg       0.24      0.21      0.21       731\n",
      "weighted avg       0.46      0.47      0.45       731\n",
      "\n"
     ]
    }
   ],
   "source": [
    "# GridSearch\n",
    "param_grid = {\n",
    "    'n_estimators': [10, 50, 100, 200],\n",
    "    'max_depth': [None, 10, 20, 30],\n",
    "    'min_samples_split': [2, 5, 10],\n",
    "    'min_samples_leaf': [1, 2, 4]\n",
    "}\n",
    "rfc = RandomForestClassifier()\n",
    "RandomForest = GridSearch(estimator=rfc, param_grid=param_grid, \n",
    "                            X_train=X_train, y_train=y4_train, \n",
    "                            X_test=X_test, y_test=y4_test,\n",
    "                            target=target[3], cv=5)"
   ]
  },
  {
   "attachments": {},
   "cell_type": "markdown",
   "metadata": {},
   "source": [
    "### DT"
   ]
  },
  {
   "cell_type": "code",
   "execution_count": 23,
   "metadata": {},
   "outputs": [
    {
     "name": "stdout",
     "output_type": "stream",
     "text": [
      "----------------------Task 0----------------------\n",
      "              precision    recall  f1-score   support\n",
      "\n",
      "           强       0.36      0.31      0.33       183\n",
      "           中       0.15      0.16      0.15       103\n",
      "           弱       0.45      0.42      0.44       309\n",
      "    没有回应（忽视）       0.27      0.35      0.30       136\n",
      "\n",
      "    accuracy                           0.34       731\n",
      "   macro avg       0.31      0.31      0.30       731\n",
      "weighted avg       0.35      0.34      0.35       731\n",
      "\n",
      "强:156, 中:110, 弱:288, 没有回应（忽视）:177, \n",
      "----------------------Task 1----------------------\n",
      "              precision    recall  f1-score   support\n",
      "\n",
      "          中性       0.58      0.65      0.61       401\n",
      "          积极       0.35      0.31      0.33       218\n",
      "          消极       0.20      0.17      0.18       112\n",
      "\n",
      "    accuracy                           0.47       731\n",
      "   macro avg       0.38      0.37      0.37       731\n",
      "weighted avg       0.46      0.47      0.46       731\n",
      "\n",
      "中性:443, 积极:191, 消极:97, \n",
      "----------------------Task 2----------------------\n",
      "              precision    recall  f1-score   support\n",
      "\n",
      "     专注（任务中）       0.89      0.89      0.89       638\n",
      "     走神（任务外）       0.27      0.28      0.28        93\n",
      "\n",
      "    accuracy                           0.81       731\n",
      "   macro avg       0.58      0.58      0.58       731\n",
      "weighted avg       0.82      0.81      0.81       731\n",
      "\n",
      "专注（任务中）:635, 走神（任务外）:96, \n",
      "----------------------Task 3----------------------\n",
      "              precision    recall  f1-score   support\n",
      "\n",
      "          玩乐       0.00      0.00      0.00         3\n",
      "          闲聊       0.00      0.00      0.00         7\n",
      "  一人独立尝试一人摸鱼       0.26      0.27      0.27        78\n",
      "        各自神游       0.00      0.00      0.00         5\n",
      "          主导       0.37      0.38      0.37       205\n",
      "          支持       0.31      0.30      0.31       207\n",
      "          旁观       0.35      0.35      0.35       219\n",
      "          冲突       0.33      0.14      0.20         7\n",
      "\n",
      "    accuracy                           0.33       731\n",
      "   macro avg       0.20      0.18      0.19       731\n",
      "weighted avg       0.33      0.33      0.33       731\n",
      "\n",
      "玩乐:4, 闲聊:11, 一人独立尝试一人摸鱼:80, 各自神游:3, 主导:208, 支持:205, 旁观:217, 冲突:3, \n"
     ]
    }
   ],
   "source": [
    "from sklearn.tree import DecisionTreeClassifier\n",
    "# 建立决策树分类器\n",
    "clf = DecisionTreeClassifier(random_state=0)\n",
    "clf.fit(X_train, y_train)\n",
    "y_predict = clf.predict(X_test)\n",
    "for i in range(len(target)):\n",
    "    print(f\"----------------------Task {i}----------------------\")\n",
    "    print(classification_report(y_test[:,i], y_predict[:,i], target_names=target[i],zero_division=0))\n",
    "    num_of_cls(y_predict[:,i],target[i])"
   ]
  },
  {
   "attachments": {},
   "cell_type": "markdown",
   "metadata": {},
   "source": [
    "#### task 1"
   ]
  },
  {
   "cell_type": "code",
   "execution_count": 24,
   "metadata": {},
   "outputs": [
    {
     "name": "stdout",
     "output_type": "stream",
     "text": [
      "Best hyperparameters: {'min_samples_split': 2, 'min_samples_leaf': 1, 'max_depth': 5, 'criterion': 'gini'}\n",
      "Best cross-validation score: 0.3929672695951766\n",
      "Test score: 0.426812585499316\n",
      "Report:\n",
      "              precision    recall  f1-score   support\n",
      "\n",
      "           强       0.37      0.39      0.38       183\n",
      "           中       0.00      0.00      0.00       103\n",
      "           弱       0.48      0.69      0.57       309\n",
      "    没有回应（忽视）       0.30      0.20      0.24       136\n",
      "\n",
      "    accuracy                           0.43       731\n",
      "   macro avg       0.29      0.32      0.30       731\n",
      "weighted avg       0.35      0.43      0.38       731\n",
      "\n"
     ]
    }
   ],
   "source": [
    "# GridSearch\n",
    "param_grid = {\n",
    "    'criterion': ['gini', 'entropy'],\n",
    "    'max_depth': [4, 5, 6, 7, 8, 9, 10, 11, 12, 15, 20, 30, 40, 50, 70, 90, 120, 150],\n",
    "    'min_samples_split': [2, 5, 10],\n",
    "    'min_samples_leaf': [1, 2, 4]\n",
    "}\n",
    "clf = DecisionTreeClassifier()\n",
    "DT = GridSearch(estimator=clf, \n",
    "                param_grid=param_grid, \n",
    "                X_train=X_train, y_train=y1_train, \n",
    "                X_test=X_test, y_test=y1_test,\n",
    "                target=target[0], cv=5)"
   ]
  },
  {
   "attachments": {},
   "cell_type": "markdown",
   "metadata": {},
   "source": [
    "#### task 2"
   ]
  },
  {
   "cell_type": "code",
   "execution_count": 25,
   "metadata": {},
   "outputs": [
    {
     "name": "stdout",
     "output_type": "stream",
     "text": [
      "Best hyperparameters: {'min_samples_split': 2, 'min_samples_leaf': 2, 'max_depth': 5, 'criterion': 'entropy'}\n",
      "Best cross-validation score: 0.5714225107123159\n",
      "Test score: 0.5540355677154583\n",
      "Report:\n",
      "              precision    recall  f1-score   support\n",
      "\n",
      "          中性       0.58      0.87      0.69       401\n",
      "          积极       0.45      0.25      0.32       218\n",
      "          消极       0.33      0.02      0.03       112\n",
      "\n",
      "    accuracy                           0.55       731\n",
      "   macro avg       0.45      0.38      0.35       731\n",
      "weighted avg       0.50      0.55      0.48       731\n",
      "\n"
     ]
    }
   ],
   "source": [
    "clf = DecisionTreeClassifier()\n",
    "DT = GridSearch(estimator=clf, \n",
    "                param_grid=param_grid, \n",
    "                X_train=X_train, y_train=y2_train, \n",
    "                X_test=X_test, y_test=y2_test,\n",
    "                target=target[1], cv=5)"
   ]
  },
  {
   "attachments": {},
   "cell_type": "markdown",
   "metadata": {},
   "source": [
    "#### task 3"
   ]
  },
  {
   "cell_type": "code",
   "execution_count": 26,
   "metadata": {},
   "outputs": [
    {
     "name": "stdout",
     "output_type": "stream",
     "text": [
      "Best hyperparameters: {'min_samples_split': 2, 'min_samples_leaf': 1, 'max_depth': 7, 'criterion': 'gini'}\n",
      "Best cross-validation score: 0.8554600007644384\n",
      "Test score: 0.8604651162790697\n",
      "Report:\n",
      "              precision    recall  f1-score   support\n",
      "\n",
      "     专注（任务中）       0.90      0.95      0.92       638\n",
      "     走神（任务外）       0.42      0.26      0.32        93\n",
      "\n",
      "    accuracy                           0.86       731\n",
      "   macro avg       0.66      0.60      0.62       731\n",
      "weighted avg       0.84      0.86      0.85       731\n",
      "\n"
     ]
    }
   ],
   "source": [
    "clf = DecisionTreeClassifier()\n",
    "DT = GridSearch(estimator=clf, \n",
    "                param_grid=param_grid, \n",
    "                X_train=X_train, y_train=y3_train, \n",
    "                X_test=X_test, y_test=y3_test,\n",
    "                target=target[2], cv=5)"
   ]
  },
  {
   "attachments": {},
   "cell_type": "markdown",
   "metadata": {},
   "source": [
    "#### task 4"
   ]
  },
  {
   "cell_type": "code",
   "execution_count": 27,
   "metadata": {},
   "outputs": [
    {
     "name": "stdout",
     "output_type": "stream",
     "text": [
      "Best hyperparameters: {'min_samples_split': 10, 'min_samples_leaf': 2, 'max_depth': 50, 'criterion': 'gini'}\n",
      "Best cross-validation score: 0.3668320873077253\n",
      "Test score: 0.33105335157318744\n",
      "Report:\n",
      "              precision    recall  f1-score   support\n",
      "\n",
      "          玩乐       0.00      0.00      0.00         3\n",
      "          闲聊       0.00      0.00      0.00         7\n",
      "  一人独立尝试一人摸鱼       0.20      0.21      0.20        78\n",
      "        各自神游       0.00      0.00      0.00         5\n",
      "          主导       0.35      0.33      0.34       205\n",
      "          支持       0.35      0.36      0.35       207\n",
      "          旁观       0.38      0.38      0.38       219\n",
      "          冲突       0.00      0.00      0.00         7\n",
      "\n",
      "    accuracy                           0.33       731\n",
      "   macro avg       0.16      0.16      0.16       731\n",
      "weighted avg       0.33      0.33      0.33       731\n",
      "\n"
     ]
    }
   ],
   "source": [
    "clf = DecisionTreeClassifier()\n",
    "DT = GridSearch(estimator=clf, \n",
    "                param_grid=param_grid, \n",
    "                X_train=X_train, y_train=y4_train, \n",
    "                X_test=X_test, y_test=y4_test,\n",
    "                target=target[3], cv=5)"
   ]
  },
  {
   "attachments": {},
   "cell_type": "markdown",
   "metadata": {},
   "source": [
    "### KNN"
   ]
  },
  {
   "cell_type": "code",
   "execution_count": 29,
   "metadata": {},
   "outputs": [],
   "source": [
    "from sklearn.neighbors import KNeighborsClassifier\n",
    "\n",
    "# 建立KNN分类器\n",
    "clf = KNeighborsClassifier(n_neighbors=3)"
   ]
  },
  {
   "attachments": {},
   "cell_type": "markdown",
   "metadata": {},
   "source": [
    "#### task 1"
   ]
  },
  {
   "cell_type": "code",
   "execution_count": 30,
   "metadata": {},
   "outputs": [
    {
     "name": "stdout",
     "output_type": "stream",
     "text": [
      "Best hyperparameters: {'weights': 'uniform', 'p': 1, 'n_neighbors': 24, 'leaf_size': 3}\n",
      "Best cross-validation score: 0.39945305770887163\n",
      "Test score: 0.4363885088919289\n",
      "Report:\n",
      "              precision    recall  f1-score   support\n",
      "\n",
      "           强       0.41      0.25      0.31       183\n",
      "           中       0.33      0.03      0.05       103\n",
      "           弱       0.44      0.82      0.57       309\n",
      "    没有回应（忽视）       0.42      0.13      0.20       136\n",
      "\n",
      "    accuracy                           0.44       731\n",
      "   macro avg       0.40      0.31      0.29       731\n",
      "weighted avg       0.42      0.44      0.37       731\n",
      "\n"
     ]
    }
   ],
   "source": [
    "# GridSearch\n",
    "param_grid = {\n",
    "    'n_neighbors': list(range(1, 31)),\n",
    "    'weights': ['uniform', 'distance'],\n",
    "    'p': [1, 2],\n",
    "    'leaf_size': list(range(1, 51))\n",
    "}\n",
    "clf = KNeighborsClassifier()\n",
    "KNN = GridSearch(estimator=clf, param_grid=param_grid, \n",
    "                            X_train=X_train, y_train=y1_train, \n",
    "                            X_test=X_test, y_test=y1_test,\n",
    "                            target=target[0], cv=5)"
   ]
  },
  {
   "attachments": {},
   "cell_type": "markdown",
   "metadata": {},
   "source": [
    "#### task 2"
   ]
  },
  {
   "cell_type": "code",
   "execution_count": 31,
   "metadata": {},
   "outputs": [
    {
     "name": "stdout",
     "output_type": "stream",
     "text": [
      "Best hyperparameters: {'weights': 'uniform', 'p': 2, 'n_neighbors': 25, 'leaf_size': 10}\n",
      "Best cross-validation score: 0.5683466972126765\n",
      "Test score: 0.5636114911080712\n",
      "Report:\n",
      "              precision    recall  f1-score   support\n",
      "\n",
      "          中性       0.57      0.93      0.70       401\n",
      "          积极       0.53      0.18      0.27       218\n",
      "          消极       0.00      0.00      0.00       112\n",
      "\n",
      "    accuracy                           0.56       731\n",
      "   macro avg       0.36      0.37      0.33       731\n",
      "weighted avg       0.47      0.56      0.47       731\n",
      "\n"
     ]
    }
   ],
   "source": [
    "# GridSearch\n",
    "param_grid = {\n",
    "    'n_neighbors': list(range(1, 29)),\n",
    "    'weights': ['uniform', 'distance'],\n",
    "    'p': [1, 2],\n",
    "    'leaf_size': list(range(1, 51))\n",
    "}\n",
    "clf = KNeighborsClassifier()\n",
    "KNN = GridSearch(estimator=clf, param_grid=param_grid, \n",
    "                            X_train=X_train, y_train=y2_train, \n",
    "                            X_test=X_test, y_test=y2_test,\n",
    "                            target=target[1], cv=6)"
   ]
  },
  {
   "attachments": {},
   "cell_type": "markdown",
   "metadata": {},
   "source": [
    "#### task 3"
   ]
  },
  {
   "cell_type": "code",
   "execution_count": 32,
   "metadata": {},
   "outputs": [
    {
     "name": "stdout",
     "output_type": "stream",
     "text": [
      "Best hyperparameters: {'weights': 'uniform', 'p': 1, 'n_neighbors': 19, 'leaf_size': 33}\n",
      "Best cross-validation score: 0.8798892350294218\n",
      "Test score: 0.8727770177838577\n",
      "Report:\n",
      "              precision    recall  f1-score   support\n",
      "\n",
      "     专注（任务中）       0.87      1.00      0.93       638\n",
      "     走神（任务外）       0.00      0.00      0.00        93\n",
      "\n",
      "    accuracy                           0.87       731\n",
      "   macro avg       0.44      0.50      0.47       731\n",
      "weighted avg       0.76      0.87      0.81       731\n",
      "\n"
     ]
    }
   ],
   "source": [
    "param_grid = {\n",
    "    'n_neighbors': list(range(1, 29)),\n",
    "    'weights': ['uniform', 'distance'],\n",
    "    'p': [1, 2],\n",
    "    'leaf_size': list(range(1, 51))\n",
    "}\n",
    "clf = KNeighborsClassifier()\n",
    "KNN = GridSearch(estimator=clf, param_grid=param_grid, \n",
    "                            X_train=X_train, y_train=y3_train, \n",
    "                            X_test=X_test, y_test=y3_test,\n",
    "                            target=target[2], cv=10)"
   ]
  },
  {
   "attachments": {},
   "cell_type": "markdown",
   "metadata": {},
   "source": [
    "#### task 4"
   ]
  },
  {
   "cell_type": "code",
   "execution_count": 33,
   "metadata": {},
   "outputs": [
    {
     "name": "stdout",
     "output_type": "stream",
     "text": [
      "Best hyperparameters: {'weights': 'uniform', 'p': 1, 'n_neighbors': 13, 'leaf_size': 35}\n",
      "Best cross-validation score: 0.36729934691071586\n",
      "Test score: 0.3912448700410397\n",
      "Report:\n",
      "              precision    recall  f1-score   support\n",
      "\n",
      "          玩乐       0.00      0.00      0.00         3\n",
      "          闲聊       0.00      0.00      0.00         7\n",
      "  一人独立尝试一人摸鱼       0.50      0.01      0.03        78\n",
      "        各自神游       0.00      0.00      0.00         5\n",
      "          主导       0.43      0.40      0.41       205\n",
      "          支持       0.43      0.29      0.35       207\n",
      "          旁观       0.36      0.65      0.47       219\n",
      "          冲突       0.00      0.00      0.00         7\n",
      "\n",
      "    accuracy                           0.39       731\n",
      "   macro avg       0.21      0.17      0.16       731\n",
      "weighted avg       0.40      0.39      0.36       731\n",
      "\n"
     ]
    }
   ],
   "source": [
    "clf = KNeighborsClassifier()\n",
    "KNN = GridSearch(estimator=clf, param_grid=param_grid, \n",
    "                            X_train=X_train, y_train=y4_train, \n",
    "                            X_test=X_test, y_test=y4_test,\n",
    "                            target=target[3], cv=5)"
   ]
  },
  {
   "attachments": {},
   "cell_type": "markdown",
   "metadata": {},
   "source": [
    "### SVM\n",
    "结果很差 看warning原因应该是有一些结果直接没有分类  \n",
    "看看是否需要调参数或者直接去掉 "
   ]
  },
  {
   "cell_type": "code",
   "execution_count": 34,
   "metadata": {},
   "outputs": [],
   "source": [
    "from sklearn.svm import SVC\n",
    "clf = SVC()"
   ]
  },
  {
   "attachments": {},
   "cell_type": "markdown",
   "metadata": {},
   "source": [
    "#### task 1"
   ]
  },
  {
   "cell_type": "code",
   "execution_count": 35,
   "metadata": {},
   "outputs": [
    {
     "name": "stdout",
     "output_type": "stream",
     "text": [
      "Best hyperparameters: {'kernel': 'sigmoid', 'gamma': 1000.0, 'C': 100}\n",
      "Best cross-validation score: 0.402213608957795\n",
      "Test score: 0.3967168262653899\n",
      "Report:\n",
      "              precision    recall  f1-score   support\n",
      "\n",
      "           强       0.29      0.11      0.16       183\n",
      "           中       0.18      0.08      0.11       103\n",
      "           弱       0.43      0.84      0.57       309\n",
      "    没有回应（忽视）       0.12      0.01      0.03       136\n",
      "\n",
      "    accuracy                           0.40       731\n",
      "   macro avg       0.26      0.26      0.22       731\n",
      "weighted avg       0.30      0.40      0.30       731\n",
      "\n"
     ]
    }
   ],
   "source": [
    "# GridSearch\n",
    "param_grid = {\n",
    "    'C': [0.1, 1, 10, 100, 1000],\n",
    "    'kernel': ['linear', 'poly', 'rbf', 'sigmoid'],\n",
    "    'gamma': ['scale', 'auto'] + list(np.logspace(-3, 3, 7))\n",
    "}\n",
    "clf = SVC()\n",
    "svm = GridSearch(estimator=clf, param_grid=param_grid, \n",
    "                            X_train=X_train, y_train=y1_train, \n",
    "                            X_test=X_test, y_test=y1_test,\n",
    "                            target=target[0], cv=5)"
   ]
  },
  {
   "attachments": {},
   "cell_type": "markdown",
   "metadata": {},
   "source": [
    "#### task 2"
   ]
  },
  {
   "cell_type": "code",
   "execution_count": 36,
   "metadata": {},
   "outputs": [
    {
     "name": "stdout",
     "output_type": "stream",
     "text": [
      "Best hyperparameters: {'kernel': 'sigmoid', 'gamma': 'auto', 'C': 1000}\n",
      "Best cross-validation score: 0.5763760553222179\n",
      "Test score: 0.5499316005471956\n",
      "Report:\n",
      "              precision    recall  f1-score   support\n",
      "\n",
      "          中性       0.55      1.00      0.71       401\n",
      "          积极       0.50      0.01      0.02       218\n",
      "          消极       0.00      0.00      0.00       112\n",
      "\n",
      "    accuracy                           0.55       731\n",
      "   macro avg       0.35      0.34      0.24       731\n",
      "weighted avg       0.45      0.55      0.39       731\n",
      "\n"
     ]
    }
   ],
   "source": [
    "clf = SVC()\n",
    "svm = GridSearch(estimator=clf, param_grid=param_grid, \n",
    "                            X_train=X_train, y_train=y2_train, \n",
    "                            X_test=X_test, y_test=y2_test,\n",
    "                            target=target[1], cv=5)"
   ]
  },
  {
   "attachments": {},
   "cell_type": "markdown",
   "metadata": {},
   "source": [
    "#### task 3"
   ]
  },
  {
   "cell_type": "code",
   "execution_count": 37,
   "metadata": {},
   "outputs": [
    {
     "name": "stdout",
     "output_type": "stream",
     "text": [
      "Best hyperparameters: {'kernel': 'linear', 'gamma': 100.0, 'C': 10}\n",
      "Best cross-validation score: 0.8678209685433627\n",
      "Test score: 0.8700410396716827\n",
      "Report:\n",
      "              precision    recall  f1-score   support\n",
      "\n",
      "     专注（任务中）       0.88      0.99      0.93       638\n",
      "     走神（任务外）       0.40      0.04      0.08        93\n",
      "\n",
      "    accuracy                           0.87       731\n",
      "   macro avg       0.64      0.52      0.50       731\n",
      "weighted avg       0.82      0.87      0.82       731\n",
      "\n"
     ]
    }
   ],
   "source": [
    "param_grid = {\n",
    "    'C': [0.1, 1, 10, 100, 1000],\n",
    "    'kernel': ['linear', 'poly', 'rbf', 'sigmoid'],\n",
    "    'gamma': ['scale', 'auto'] + list(np.logspace(-3, 3, 7))\n",
    "}\n",
    "clf = SVC()\n",
    "svm = GridSearch(estimator=clf, param_grid=param_grid, \n",
    "                            X_train=X_train, y_train=y3_train, \n",
    "                            X_test=X_test, y_test=y3_test,\n",
    "                            target=target[2], cv=5)"
   ]
  },
  {
   "attachments": {},
   "cell_type": "markdown",
   "metadata": {},
   "source": [
    "#### task 4"
   ]
  },
  {
   "cell_type": "code",
   "execution_count": 38,
   "metadata": {},
   "outputs": [
    {
     "name": "stdout",
     "output_type": "stream",
     "text": [
      "Best hyperparameters: {'kernel': 'linear', 'gamma': 0.1, 'C': 10}\n",
      "Best cross-validation score: 0.3885956432070122\n",
      "Test score: 0.38303693570451436\n",
      "Report:\n",
      "              precision    recall  f1-score   support\n",
      "\n",
      "          玩乐       0.00      0.00      0.00         3\n",
      "          闲聊       0.00      0.00      0.00         7\n",
      "  一人独立尝试一人摸鱼       0.38      0.19      0.26        78\n",
      "        各自神游       0.00      0.00      0.00         5\n",
      "          主导       0.36      0.43      0.39       205\n",
      "          支持       0.41      0.32      0.36       207\n",
      "          旁观       0.39      0.50      0.44       219\n",
      "          冲突       0.00      0.00      0.00         7\n",
      "\n",
      "    accuracy                           0.38       731\n",
      "   macro avg       0.19      0.18      0.18       731\n",
      "weighted avg       0.37      0.38      0.37       731\n",
      "\n"
     ]
    }
   ],
   "source": [
    "clf = SVC()\n",
    "svm = GridSearch(estimator=clf, param_grid=param_grid, \n",
    "                            X_train=X_train, y_train=y4_train, \n",
    "                            X_test=X_test, y_test=y4_test,\n",
    "                            target=target[3], cv=5)"
   ]
  },
  {
   "attachments": {},
   "cell_type": "markdown",
   "metadata": {},
   "source": [
    "### XGBoost"
   ]
  },
  {
   "cell_type": "code",
   "execution_count": 41,
   "metadata": {},
   "outputs": [
    {
     "ename": "XGBoostError",
     "evalue": "[17:30:27] ../include/xgboost/objective.h:98: multioutput is not supported by current objective function\nStack trace:\n  [bt] (0) /home/ansonlo/anaconda3/envs/torch/lib/python3.8/site-packages/xgboost/lib/libxgboost.so(+0x2d1853) [0x7fe0b76d1853]\n  [bt] (1) /home/ansonlo/anaconda3/envs/torch/lib/python3.8/site-packages/xgboost/lib/libxgboost.so(+0x2df66c) [0x7fe0b76df66c]\n  [bt] (2) /home/ansonlo/anaconda3/envs/torch/lib/python3.8/site-packages/xgboost/lib/libxgboost.so(+0x2df8cd) [0x7fe0b76df8cd]\n  [bt] (3) /home/ansonlo/anaconda3/envs/torch/lib/python3.8/site-packages/xgboost/lib/libxgboost.so(+0x2ec087) [0x7fe0b76ec087]\n  [bt] (4) /home/ansonlo/anaconda3/envs/torch/lib/python3.8/site-packages/xgboost/lib/libxgboost.so(+0x2e02f8) [0x7fe0b76e02f8]\n  [bt] (5) /home/ansonlo/anaconda3/envs/torch/lib/python3.8/site-packages/xgboost/lib/libxgboost.so(XGBoosterUpdateOneIter+0x70) [0x7fe0b753c5f0]\n  [bt] (6) /home/ansonlo/anaconda3/envs/torch/lib/python3.8/lib-dynload/../../libffi.so.8(+0xa052) [0x7fe148cec052]\n  [bt] (7) /home/ansonlo/anaconda3/envs/torch/lib/python3.8/lib-dynload/../../libffi.so.8(+0x88cd) [0x7fe148cea8cd]\n  [bt] (8) /home/ansonlo/anaconda3/envs/torch/lib/python3.8/lib-dynload/_ctypes.cpython-38-x86_64-linux-gnu.so(_ctypes_callproc+0x2fe) [0x7fe148d01d6e]\n\n",
     "output_type": "error",
     "traceback": [
      "\u001b[0;31m---------------------------------------------------------------------------\u001b[0m",
      "\u001b[0;31mXGBoostError\u001b[0m                              Traceback (most recent call last)",
      "Cell \u001b[0;32mIn[41], line 17\u001b[0m\n\u001b[1;32m     15\u001b[0m \u001b[39m# 训练模型\u001b[39;00m\n\u001b[1;32m     16\u001b[0m num_rounds \u001b[39m=\u001b[39m \u001b[39m100\u001b[39m\n\u001b[0;32m---> 17\u001b[0m model \u001b[39m=\u001b[39m xgb\u001b[39m.\u001b[39;49mtrain(params, dtrain, num_rounds)\n\u001b[1;32m     19\u001b[0m \u001b[39m# 在测试集上预测\u001b[39;00m\n\u001b[1;32m     20\u001b[0m y_pred \u001b[39m=\u001b[39m model\u001b[39m.\u001b[39mpredict(dtest)\n",
      "File \u001b[0;32m~/anaconda3/envs/torch/lib/python3.8/site-packages/xgboost/core.py:620\u001b[0m, in \u001b[0;36mrequire_keyword_args.<locals>.throw_if.<locals>.inner_f\u001b[0;34m(*args, **kwargs)\u001b[0m\n\u001b[1;32m    618\u001b[0m \u001b[39mfor\u001b[39;00m k, arg \u001b[39min\u001b[39;00m \u001b[39mzip\u001b[39m(sig\u001b[39m.\u001b[39mparameters, args):\n\u001b[1;32m    619\u001b[0m     kwargs[k] \u001b[39m=\u001b[39m arg\n\u001b[0;32m--> 620\u001b[0m \u001b[39mreturn\u001b[39;00m func(\u001b[39m*\u001b[39;49m\u001b[39m*\u001b[39;49mkwargs)\n",
      "File \u001b[0;32m~/anaconda3/envs/torch/lib/python3.8/site-packages/xgboost/training.py:185\u001b[0m, in \u001b[0;36mtrain\u001b[0;34m(params, dtrain, num_boost_round, evals, obj, feval, maximize, early_stopping_rounds, evals_result, verbose_eval, xgb_model, callbacks, custom_metric)\u001b[0m\n\u001b[1;32m    183\u001b[0m \u001b[39mif\u001b[39;00m cb_container\u001b[39m.\u001b[39mbefore_iteration(bst, i, dtrain, evals):\n\u001b[1;32m    184\u001b[0m     \u001b[39mbreak\u001b[39;00m\n\u001b[0;32m--> 185\u001b[0m bst\u001b[39m.\u001b[39;49mupdate(dtrain, i, obj)\n\u001b[1;32m    186\u001b[0m \u001b[39mif\u001b[39;00m cb_container\u001b[39m.\u001b[39mafter_iteration(bst, i, dtrain, evals):\n\u001b[1;32m    187\u001b[0m     \u001b[39mbreak\u001b[39;00m\n",
      "File \u001b[0;32m~/anaconda3/envs/torch/lib/python3.8/site-packages/xgboost/core.py:1918\u001b[0m, in \u001b[0;36mBooster.update\u001b[0;34m(self, dtrain, iteration, fobj)\u001b[0m\n\u001b[1;32m   1915\u001b[0m \u001b[39mself\u001b[39m\u001b[39m.\u001b[39m_validate_dmatrix_features(dtrain)\n\u001b[1;32m   1917\u001b[0m \u001b[39mif\u001b[39;00m fobj \u001b[39mis\u001b[39;00m \u001b[39mNone\u001b[39;00m:\n\u001b[0;32m-> 1918\u001b[0m     _check_call(_LIB\u001b[39m.\u001b[39;49mXGBoosterUpdateOneIter(\u001b[39mself\u001b[39;49m\u001b[39m.\u001b[39;49mhandle,\n\u001b[1;32m   1919\u001b[0m                                             ctypes\u001b[39m.\u001b[39;49mc_int(iteration),\n\u001b[1;32m   1920\u001b[0m                                             dtrain\u001b[39m.\u001b[39;49mhandle))\n\u001b[1;32m   1921\u001b[0m \u001b[39melse\u001b[39;00m:\n\u001b[1;32m   1922\u001b[0m     pred \u001b[39m=\u001b[39m \u001b[39mself\u001b[39m\u001b[39m.\u001b[39mpredict(dtrain, output_margin\u001b[39m=\u001b[39m\u001b[39mTrue\u001b[39;00m, training\u001b[39m=\u001b[39m\u001b[39mTrue\u001b[39;00m)\n",
      "File \u001b[0;32m~/anaconda3/envs/torch/lib/python3.8/site-packages/xgboost/core.py:279\u001b[0m, in \u001b[0;36m_check_call\u001b[0;34m(ret)\u001b[0m\n\u001b[1;32m    268\u001b[0m \u001b[39m\u001b[39m\u001b[39m\"\"\"Check the return value of C API call\u001b[39;00m\n\u001b[1;32m    269\u001b[0m \n\u001b[1;32m    270\u001b[0m \u001b[39mThis function will raise exception when error occurs.\u001b[39;00m\n\u001b[0;32m   (...)\u001b[0m\n\u001b[1;32m    276\u001b[0m \u001b[39m    return value from API calls\u001b[39;00m\n\u001b[1;32m    277\u001b[0m \u001b[39m\"\"\"\u001b[39;00m\n\u001b[1;32m    278\u001b[0m \u001b[39mif\u001b[39;00m ret \u001b[39m!=\u001b[39m \u001b[39m0\u001b[39m:\n\u001b[0;32m--> 279\u001b[0m     \u001b[39mraise\u001b[39;00m XGBoostError(py_str(_LIB\u001b[39m.\u001b[39mXGBGetLastError()))\n",
      "\u001b[0;31mXGBoostError\u001b[0m: [17:30:27] ../include/xgboost/objective.h:98: multioutput is not supported by current objective function\nStack trace:\n  [bt] (0) /home/ansonlo/anaconda3/envs/torch/lib/python3.8/site-packages/xgboost/lib/libxgboost.so(+0x2d1853) [0x7fe0b76d1853]\n  [bt] (1) /home/ansonlo/anaconda3/envs/torch/lib/python3.8/site-packages/xgboost/lib/libxgboost.so(+0x2df66c) [0x7fe0b76df66c]\n  [bt] (2) /home/ansonlo/anaconda3/envs/torch/lib/python3.8/site-packages/xgboost/lib/libxgboost.so(+0x2df8cd) [0x7fe0b76df8cd]\n  [bt] (3) /home/ansonlo/anaconda3/envs/torch/lib/python3.8/site-packages/xgboost/lib/libxgboost.so(+0x2ec087) [0x7fe0b76ec087]\n  [bt] (4) /home/ansonlo/anaconda3/envs/torch/lib/python3.8/site-packages/xgboost/lib/libxgboost.so(+0x2e02f8) [0x7fe0b76e02f8]\n  [bt] (5) /home/ansonlo/anaconda3/envs/torch/lib/python3.8/site-packages/xgboost/lib/libxgboost.so(XGBoosterUpdateOneIter+0x70) [0x7fe0b753c5f0]\n  [bt] (6) /home/ansonlo/anaconda3/envs/torch/lib/python3.8/lib-dynload/../../libffi.so.8(+0xa052) [0x7fe148cec052]\n  [bt] (7) /home/ansonlo/anaconda3/envs/torch/lib/python3.8/lib-dynload/../../libffi.so.8(+0x88cd) [0x7fe148cea8cd]\n  [bt] (8) /home/ansonlo/anaconda3/envs/torch/lib/python3.8/lib-dynload/_ctypes.cpython-38-x86_64-linux-gnu.so(_ctypes_callproc+0x2fe) [0x7fe148d01d6e]\n\n"
     ]
    }
   ],
   "source": [
    "import xgboost as xgb\n",
    "\n",
    "\n",
    "# 定义模型参数\n",
    "params = {\n",
    "    'objective': 'multi:softmax',\n",
    "    'num_class': 4,\n",
    "    'eval_metric': 'mlogloss'\n",
    "}\n",
    "\n",
    "# 将数据转换为DMatrix格式\n",
    "dtrain = xgb.DMatrix(X_train, label=y_train)\n",
    "dtest = xgb.DMatrix(X_test, label=y_test)\n",
    "\n",
    "# 训练模型\n",
    "num_rounds = 100\n",
    "model = xgb.train(params, dtrain, num_rounds)\n",
    "\n",
    "# 在测试集上预测\n",
    "y_pred = model.predict(dtest)\n",
    "\n",
    "# 计算准确率\n",
    "accuracy = sum(y_pred == y_test) / len(y_test)\n",
    "print('Accuracy:', accuracy)\n",
    "print(classification_report(y_test, y_pred, target_names=[\"强\",\"中\",\"弱\",\"没有回应（忽视）\"]))\n"
   ]
  },
  {
   "cell_type": "code",
   "execution_count": null,
   "metadata": {},
   "outputs": [],
   "source": [
    "from xgboost import XGBClassifier\n",
    "# 使用随机森林预测一个frame\n",
    "xgb = XGBClassifier(n_estimators=1000, random_state=42)\n",
    "\n",
    "xgb.fit(X_train, y4_train)\n",
    "\n",
    "# 在测试集上预测\n",
    "y_predict = xgb.predict(X_test)\n",
    "\n",
    "\n",
    "print(classification_report(y4_test, y_predict, target_names=target[3],zero_division=0))\n",
    "num_of_cls(y_predict,target[3])"
   ]
  },
  {
   "cell_type": "code",
   "execution_count": 43,
   "metadata": {},
   "outputs": [],
   "source": [
    "from xgboost import XGBClassifier\n",
    "# 定义xgboost分类器模型\n",
    "xgb = XGBClassifier(n_estimators=100, random_state=42)"
   ]
  },
  {
   "attachments": {},
   "cell_type": "markdown",
   "metadata": {},
   "source": [
    "#### task 1"
   ]
  },
  {
   "cell_type": "code",
   "execution_count": 44,
   "metadata": {},
   "outputs": [
    {
     "name": "stdout",
     "output_type": "stream",
     "text": [
      "Best hyperparameters: {'subsample': 0.8, 'n_estimators': 200, 'min_child_weight': 3, 'max_depth': 15, 'learning_rate': 0.05, 'gamma': 0.3, 'colsample_bytree': 1.0}\n",
      "Best cross-validation score: 0.4541386735572782\n",
      "Test score: 0.4952120383036936\n",
      "Report:\n",
      "              precision    recall  f1-score   support\n",
      "\n",
      "           强       0.53      0.42      0.47       183\n",
      "           中       0.36      0.05      0.09       103\n",
      "           弱       0.50      0.74      0.60       309\n",
      "    没有回应（忽视）       0.44      0.37      0.40       136\n",
      "\n",
      "    accuracy                           0.50       731\n",
      "   macro avg       0.46      0.40      0.39       731\n",
      "weighted avg       0.48      0.50      0.46       731\n",
      "\n"
     ]
    },
    {
     "data": {
      "text/html": [
       "<style>#sk-container-id-1 {color: black;background-color: white;}#sk-container-id-1 pre{padding: 0;}#sk-container-id-1 div.sk-toggleable {background-color: white;}#sk-container-id-1 label.sk-toggleable__label {cursor: pointer;display: block;width: 100%;margin-bottom: 0;padding: 0.3em;box-sizing: border-box;text-align: center;}#sk-container-id-1 label.sk-toggleable__label-arrow:before {content: \"▸\";float: left;margin-right: 0.25em;color: #696969;}#sk-container-id-1 label.sk-toggleable__label-arrow:hover:before {color: black;}#sk-container-id-1 div.sk-estimator:hover label.sk-toggleable__label-arrow:before {color: black;}#sk-container-id-1 div.sk-toggleable__content {max-height: 0;max-width: 0;overflow: hidden;text-align: left;background-color: #f0f8ff;}#sk-container-id-1 div.sk-toggleable__content pre {margin: 0.2em;color: black;border-radius: 0.25em;background-color: #f0f8ff;}#sk-container-id-1 input.sk-toggleable__control:checked~div.sk-toggleable__content {max-height: 200px;max-width: 100%;overflow: auto;}#sk-container-id-1 input.sk-toggleable__control:checked~label.sk-toggleable__label-arrow:before {content: \"▾\";}#sk-container-id-1 div.sk-estimator input.sk-toggleable__control:checked~label.sk-toggleable__label {background-color: #d4ebff;}#sk-container-id-1 div.sk-label input.sk-toggleable__control:checked~label.sk-toggleable__label {background-color: #d4ebff;}#sk-container-id-1 input.sk-hidden--visually {border: 0;clip: rect(1px 1px 1px 1px);clip: rect(1px, 1px, 1px, 1px);height: 1px;margin: -1px;overflow: hidden;padding: 0;position: absolute;width: 1px;}#sk-container-id-1 div.sk-estimator {font-family: monospace;background-color: #f0f8ff;border: 1px dotted black;border-radius: 0.25em;box-sizing: border-box;margin-bottom: 0.5em;}#sk-container-id-1 div.sk-estimator:hover {background-color: #d4ebff;}#sk-container-id-1 div.sk-parallel-item::after {content: \"\";width: 100%;border-bottom: 1px solid gray;flex-grow: 1;}#sk-container-id-1 div.sk-label:hover label.sk-toggleable__label {background-color: #d4ebff;}#sk-container-id-1 div.sk-serial::before {content: \"\";position: absolute;border-left: 1px solid gray;box-sizing: border-box;top: 0;bottom: 0;left: 50%;z-index: 0;}#sk-container-id-1 div.sk-serial {display: flex;flex-direction: column;align-items: center;background-color: white;padding-right: 0.2em;padding-left: 0.2em;position: relative;}#sk-container-id-1 div.sk-item {position: relative;z-index: 1;}#sk-container-id-1 div.sk-parallel {display: flex;align-items: stretch;justify-content: center;background-color: white;position: relative;}#sk-container-id-1 div.sk-item::before, #sk-container-id-1 div.sk-parallel-item::before {content: \"\";position: absolute;border-left: 1px solid gray;box-sizing: border-box;top: 0;bottom: 0;left: 50%;z-index: -1;}#sk-container-id-1 div.sk-parallel-item {display: flex;flex-direction: column;z-index: 1;position: relative;background-color: white;}#sk-container-id-1 div.sk-parallel-item:first-child::after {align-self: flex-end;width: 50%;}#sk-container-id-1 div.sk-parallel-item:last-child::after {align-self: flex-start;width: 50%;}#sk-container-id-1 div.sk-parallel-item:only-child::after {width: 0;}#sk-container-id-1 div.sk-dashed-wrapped {border: 1px dashed gray;margin: 0 0.4em 0.5em 0.4em;box-sizing: border-box;padding-bottom: 0.4em;background-color: white;}#sk-container-id-1 div.sk-label label {font-family: monospace;font-weight: bold;display: inline-block;line-height: 1.2em;}#sk-container-id-1 div.sk-label-container {text-align: center;}#sk-container-id-1 div.sk-container {/* jupyter's `normalize.less` sets `[hidden] { display: none; }` but bootstrap.min.css set `[hidden] { display: none !important; }` so we also need the `!important` here to be able to override the default hidden behavior on the sphinx rendered scikit-learn.org. See: https://github.com/scikit-learn/scikit-learn/issues/21755 */display: inline-block !important;position: relative;}#sk-container-id-1 div.sk-text-repr-fallback {display: none;}</style><div id=\"sk-container-id-1\" class=\"sk-top-container\"><div class=\"sk-text-repr-fallback\"><pre>XGBClassifier(base_score=None, booster=None, callbacks=None,\n",
       "              colsample_bylevel=None, colsample_bynode=None,\n",
       "              colsample_bytree=1.0, early_stopping_rounds=None,\n",
       "              enable_categorical=False, eval_metric=None, feature_types=None,\n",
       "              gamma=0.3, gpu_id=None, grow_policy=None, importance_type=None,\n",
       "              interaction_constraints=None, learning_rate=0.05, max_bin=None,\n",
       "              max_cat_threshold=None, max_cat_to_onehot=None,\n",
       "              max_delta_step=None, max_depth=15, max_leaves=None,\n",
       "              min_child_weight=3, missing=nan, monotone_constraints=None,\n",
       "              n_estimators=200, n_jobs=None, num_parallel_tree=None,\n",
       "              objective=&#x27;multi:softprob&#x27;, predictor=None, ...)</pre><b>In a Jupyter environment, please rerun this cell to show the HTML representation or trust the notebook. <br />On GitHub, the HTML representation is unable to render, please try loading this page with nbviewer.org.</b></div><div class=\"sk-container\" hidden><div class=\"sk-item\"><div class=\"sk-estimator sk-toggleable\"><input class=\"sk-toggleable__control sk-hidden--visually\" id=\"sk-estimator-id-1\" type=\"checkbox\" checked><label for=\"sk-estimator-id-1\" class=\"sk-toggleable__label sk-toggleable__label-arrow\">XGBClassifier</label><div class=\"sk-toggleable__content\"><pre>XGBClassifier(base_score=None, booster=None, callbacks=None,\n",
       "              colsample_bylevel=None, colsample_bynode=None,\n",
       "              colsample_bytree=1.0, early_stopping_rounds=None,\n",
       "              enable_categorical=False, eval_metric=None, feature_types=None,\n",
       "              gamma=0.3, gpu_id=None, grow_policy=None, importance_type=None,\n",
       "              interaction_constraints=None, learning_rate=0.05, max_bin=None,\n",
       "              max_cat_threshold=None, max_cat_to_onehot=None,\n",
       "              max_delta_step=None, max_depth=15, max_leaves=None,\n",
       "              min_child_weight=3, missing=nan, monotone_constraints=None,\n",
       "              n_estimators=200, n_jobs=None, num_parallel_tree=None,\n",
       "              objective=&#x27;multi:softprob&#x27;, predictor=None, ...)</pre></div></div></div></div></div>"
      ],
      "text/plain": [
       "XGBClassifier(base_score=None, booster=None, callbacks=None,\n",
       "              colsample_bylevel=None, colsample_bynode=None,\n",
       "              colsample_bytree=1.0, early_stopping_rounds=None,\n",
       "              enable_categorical=False, eval_metric=None, feature_types=None,\n",
       "              gamma=0.3, gpu_id=None, grow_policy=None, importance_type=None,\n",
       "              interaction_constraints=None, learning_rate=0.05, max_bin=None,\n",
       "              max_cat_threshold=None, max_cat_to_onehot=None,\n",
       "              max_delta_step=None, max_depth=15, max_leaves=None,\n",
       "              min_child_weight=3, missing=nan, monotone_constraints=None,\n",
       "              n_estimators=200, n_jobs=None, num_parallel_tree=None,\n",
       "              objective='multi:softprob', predictor=None, ...)"
      ]
     },
     "execution_count": 44,
     "metadata": {},
     "output_type": "execute_result"
    }
   ],
   "source": [
    "# GridSearch\n",
    "param_grid = {\n",
    "    'learning_rate': [0.01, 0.05, 0.1, 0.2],\n",
    "    'n_estimators': [100, 200, 500, 1000],\n",
    "    'max_depth': [3, 6, 10, 15],\n",
    "    'min_child_weight': [1, 3, 5, 7],\n",
    "    'gamma': [0, 0.1, 0.2, 0.3, 0.4],\n",
    "    'subsample': [0.6, 0.7, 0.8, 0.9, 1.0],\n",
    "    'colsample_bytree': [0.6, 0.7, 0.8, 0.9, 1.0]\n",
    "}\n",
    "xgb = XGBClassifier(n_estimators=100, random_state=42)\n",
    "GridSearch(estimator=xgb, param_grid=param_grid, \n",
    "                            X_train=X_train, y_train=y1_train, \n",
    "                            X_test=X_test, y_test=y1_test,\n",
    "                            target=target[0], cv=5)"
   ]
  },
  {
   "attachments": {},
   "cell_type": "markdown",
   "metadata": {},
   "source": [
    "#### task 2"
   ]
  },
  {
   "cell_type": "code",
   "execution_count": 45,
   "metadata": {},
   "outputs": [
    {
     "name": "stdout",
     "output_type": "stream",
     "text": [
      "Best hyperparameters: {'subsample': 0.8, 'n_estimators': 200, 'min_child_weight': 5, 'max_depth': 10, 'learning_rate': 0.01, 'gamma': 0.4, 'colsample_bytree': 0.6}\n",
      "Best cross-validation score: 0.6352509439565568\n",
      "Test score: 0.6292749658002736\n",
      "Report:\n",
      "              precision    recall  f1-score   support\n",
      "\n",
      "          中性       0.61      0.94      0.74       401\n",
      "          积极       0.74      0.36      0.49       218\n",
      "          消极       0.83      0.04      0.08       112\n",
      "\n",
      "    accuracy                           0.63       731\n",
      "   macro avg       0.73      0.45      0.44       731\n",
      "weighted avg       0.68      0.63      0.56       731\n",
      "\n"
     ]
    },
    {
     "data": {
      "text/html": [
       "<style>#sk-container-id-2 {color: black;background-color: white;}#sk-container-id-2 pre{padding: 0;}#sk-container-id-2 div.sk-toggleable {background-color: white;}#sk-container-id-2 label.sk-toggleable__label {cursor: pointer;display: block;width: 100%;margin-bottom: 0;padding: 0.3em;box-sizing: border-box;text-align: center;}#sk-container-id-2 label.sk-toggleable__label-arrow:before {content: \"▸\";float: left;margin-right: 0.25em;color: #696969;}#sk-container-id-2 label.sk-toggleable__label-arrow:hover:before {color: black;}#sk-container-id-2 div.sk-estimator:hover label.sk-toggleable__label-arrow:before {color: black;}#sk-container-id-2 div.sk-toggleable__content {max-height: 0;max-width: 0;overflow: hidden;text-align: left;background-color: #f0f8ff;}#sk-container-id-2 div.sk-toggleable__content pre {margin: 0.2em;color: black;border-radius: 0.25em;background-color: #f0f8ff;}#sk-container-id-2 input.sk-toggleable__control:checked~div.sk-toggleable__content {max-height: 200px;max-width: 100%;overflow: auto;}#sk-container-id-2 input.sk-toggleable__control:checked~label.sk-toggleable__label-arrow:before {content: \"▾\";}#sk-container-id-2 div.sk-estimator input.sk-toggleable__control:checked~label.sk-toggleable__label {background-color: #d4ebff;}#sk-container-id-2 div.sk-label input.sk-toggleable__control:checked~label.sk-toggleable__label {background-color: #d4ebff;}#sk-container-id-2 input.sk-hidden--visually {border: 0;clip: rect(1px 1px 1px 1px);clip: rect(1px, 1px, 1px, 1px);height: 1px;margin: -1px;overflow: hidden;padding: 0;position: absolute;width: 1px;}#sk-container-id-2 div.sk-estimator {font-family: monospace;background-color: #f0f8ff;border: 1px dotted black;border-radius: 0.25em;box-sizing: border-box;margin-bottom: 0.5em;}#sk-container-id-2 div.sk-estimator:hover {background-color: #d4ebff;}#sk-container-id-2 div.sk-parallel-item::after {content: \"\";width: 100%;border-bottom: 1px solid gray;flex-grow: 1;}#sk-container-id-2 div.sk-label:hover label.sk-toggleable__label {background-color: #d4ebff;}#sk-container-id-2 div.sk-serial::before {content: \"\";position: absolute;border-left: 1px solid gray;box-sizing: border-box;top: 0;bottom: 0;left: 50%;z-index: 0;}#sk-container-id-2 div.sk-serial {display: flex;flex-direction: column;align-items: center;background-color: white;padding-right: 0.2em;padding-left: 0.2em;position: relative;}#sk-container-id-2 div.sk-item {position: relative;z-index: 1;}#sk-container-id-2 div.sk-parallel {display: flex;align-items: stretch;justify-content: center;background-color: white;position: relative;}#sk-container-id-2 div.sk-item::before, #sk-container-id-2 div.sk-parallel-item::before {content: \"\";position: absolute;border-left: 1px solid gray;box-sizing: border-box;top: 0;bottom: 0;left: 50%;z-index: -1;}#sk-container-id-2 div.sk-parallel-item {display: flex;flex-direction: column;z-index: 1;position: relative;background-color: white;}#sk-container-id-2 div.sk-parallel-item:first-child::after {align-self: flex-end;width: 50%;}#sk-container-id-2 div.sk-parallel-item:last-child::after {align-self: flex-start;width: 50%;}#sk-container-id-2 div.sk-parallel-item:only-child::after {width: 0;}#sk-container-id-2 div.sk-dashed-wrapped {border: 1px dashed gray;margin: 0 0.4em 0.5em 0.4em;box-sizing: border-box;padding-bottom: 0.4em;background-color: white;}#sk-container-id-2 div.sk-label label {font-family: monospace;font-weight: bold;display: inline-block;line-height: 1.2em;}#sk-container-id-2 div.sk-label-container {text-align: center;}#sk-container-id-2 div.sk-container {/* jupyter's `normalize.less` sets `[hidden] { display: none; }` but bootstrap.min.css set `[hidden] { display: none !important; }` so we also need the `!important` here to be able to override the default hidden behavior on the sphinx rendered scikit-learn.org. See: https://github.com/scikit-learn/scikit-learn/issues/21755 */display: inline-block !important;position: relative;}#sk-container-id-2 div.sk-text-repr-fallback {display: none;}</style><div id=\"sk-container-id-2\" class=\"sk-top-container\"><div class=\"sk-text-repr-fallback\"><pre>XGBClassifier(base_score=None, booster=None, callbacks=None,\n",
       "              colsample_bylevel=None, colsample_bynode=None,\n",
       "              colsample_bytree=0.6, early_stopping_rounds=None,\n",
       "              enable_categorical=False, eval_metric=None, feature_types=None,\n",
       "              gamma=0.4, gpu_id=None, grow_policy=None, importance_type=None,\n",
       "              interaction_constraints=None, learning_rate=0.01, max_bin=None,\n",
       "              max_cat_threshold=None, max_cat_to_onehot=None,\n",
       "              max_delta_step=None, max_depth=10, max_leaves=None,\n",
       "              min_child_weight=5, missing=nan, monotone_constraints=None,\n",
       "              n_estimators=200, n_jobs=None, num_parallel_tree=None,\n",
       "              objective=&#x27;multi:softprob&#x27;, predictor=None, ...)</pre><b>In a Jupyter environment, please rerun this cell to show the HTML representation or trust the notebook. <br />On GitHub, the HTML representation is unable to render, please try loading this page with nbviewer.org.</b></div><div class=\"sk-container\" hidden><div class=\"sk-item\"><div class=\"sk-estimator sk-toggleable\"><input class=\"sk-toggleable__control sk-hidden--visually\" id=\"sk-estimator-id-2\" type=\"checkbox\" checked><label for=\"sk-estimator-id-2\" class=\"sk-toggleable__label sk-toggleable__label-arrow\">XGBClassifier</label><div class=\"sk-toggleable__content\"><pre>XGBClassifier(base_score=None, booster=None, callbacks=None,\n",
       "              colsample_bylevel=None, colsample_bynode=None,\n",
       "              colsample_bytree=0.6, early_stopping_rounds=None,\n",
       "              enable_categorical=False, eval_metric=None, feature_types=None,\n",
       "              gamma=0.4, gpu_id=None, grow_policy=None, importance_type=None,\n",
       "              interaction_constraints=None, learning_rate=0.01, max_bin=None,\n",
       "              max_cat_threshold=None, max_cat_to_onehot=None,\n",
       "              max_delta_step=None, max_depth=10, max_leaves=None,\n",
       "              min_child_weight=5, missing=nan, monotone_constraints=None,\n",
       "              n_estimators=200, n_jobs=None, num_parallel_tree=None,\n",
       "              objective=&#x27;multi:softprob&#x27;, predictor=None, ...)</pre></div></div></div></div></div>"
      ],
      "text/plain": [
       "XGBClassifier(base_score=None, booster=None, callbacks=None,\n",
       "              colsample_bylevel=None, colsample_bynode=None,\n",
       "              colsample_bytree=0.6, early_stopping_rounds=None,\n",
       "              enable_categorical=False, eval_metric=None, feature_types=None,\n",
       "              gamma=0.4, gpu_id=None, grow_policy=None, importance_type=None,\n",
       "              interaction_constraints=None, learning_rate=0.01, max_bin=None,\n",
       "              max_cat_threshold=None, max_cat_to_onehot=None,\n",
       "              max_delta_step=None, max_depth=10, max_leaves=None,\n",
       "              min_child_weight=5, missing=nan, monotone_constraints=None,\n",
       "              n_estimators=200, n_jobs=None, num_parallel_tree=None,\n",
       "              objective='multi:softprob', predictor=None, ...)"
      ]
     },
     "execution_count": 45,
     "metadata": {},
     "output_type": "execute_result"
    }
   ],
   "source": [
    "xgb = XGBClassifier(n_estimators=100, random_state=42)\n",
    "GridSearch(estimator=xgb, param_grid=param_grid, \n",
    "                            X_train=X_train, y_train=y2_train, \n",
    "                            X_test=X_test, y_test=y2_test,\n",
    "                            target=target[1], cv=5)"
   ]
  },
  {
   "attachments": {},
   "cell_type": "markdown",
   "metadata": {},
   "source": [
    "#### task 3"
   ]
  },
  {
   "cell_type": "code",
   "execution_count": 46,
   "metadata": {},
   "outputs": [
    {
     "name": "stdout",
     "output_type": "stream",
     "text": [
      "Best hyperparameters: {'subsample': 0.7, 'n_estimators': 500, 'min_child_weight': 7, 'max_depth': 15, 'learning_rate': 0.01, 'gamma': 0.1, 'colsample_bytree': 1.0}\n",
      "Best cross-validation score: 0.9005695065550586\n",
      "Test score: 0.8878248974008208\n",
      "Report:\n",
      "              precision    recall  f1-score   support\n",
      "\n",
      "     专注（任务中）       0.89      0.99      0.94       638\n",
      "     走神（任务外）       0.76      0.17      0.28        93\n",
      "\n",
      "    accuracy                           0.89       731\n",
      "   macro avg       0.83      0.58      0.61       731\n",
      "weighted avg       0.88      0.89      0.86       731\n",
      "\n"
     ]
    },
    {
     "data": {
      "text/html": [
       "<style>#sk-container-id-3 {color: black;background-color: white;}#sk-container-id-3 pre{padding: 0;}#sk-container-id-3 div.sk-toggleable {background-color: white;}#sk-container-id-3 label.sk-toggleable__label {cursor: pointer;display: block;width: 100%;margin-bottom: 0;padding: 0.3em;box-sizing: border-box;text-align: center;}#sk-container-id-3 label.sk-toggleable__label-arrow:before {content: \"▸\";float: left;margin-right: 0.25em;color: #696969;}#sk-container-id-3 label.sk-toggleable__label-arrow:hover:before {color: black;}#sk-container-id-3 div.sk-estimator:hover label.sk-toggleable__label-arrow:before {color: black;}#sk-container-id-3 div.sk-toggleable__content {max-height: 0;max-width: 0;overflow: hidden;text-align: left;background-color: #f0f8ff;}#sk-container-id-3 div.sk-toggleable__content pre {margin: 0.2em;color: black;border-radius: 0.25em;background-color: #f0f8ff;}#sk-container-id-3 input.sk-toggleable__control:checked~div.sk-toggleable__content {max-height: 200px;max-width: 100%;overflow: auto;}#sk-container-id-3 input.sk-toggleable__control:checked~label.sk-toggleable__label-arrow:before {content: \"▾\";}#sk-container-id-3 div.sk-estimator input.sk-toggleable__control:checked~label.sk-toggleable__label {background-color: #d4ebff;}#sk-container-id-3 div.sk-label input.sk-toggleable__control:checked~label.sk-toggleable__label {background-color: #d4ebff;}#sk-container-id-3 input.sk-hidden--visually {border: 0;clip: rect(1px 1px 1px 1px);clip: rect(1px, 1px, 1px, 1px);height: 1px;margin: -1px;overflow: hidden;padding: 0;position: absolute;width: 1px;}#sk-container-id-3 div.sk-estimator {font-family: monospace;background-color: #f0f8ff;border: 1px dotted black;border-radius: 0.25em;box-sizing: border-box;margin-bottom: 0.5em;}#sk-container-id-3 div.sk-estimator:hover {background-color: #d4ebff;}#sk-container-id-3 div.sk-parallel-item::after {content: \"\";width: 100%;border-bottom: 1px solid gray;flex-grow: 1;}#sk-container-id-3 div.sk-label:hover label.sk-toggleable__label {background-color: #d4ebff;}#sk-container-id-3 div.sk-serial::before {content: \"\";position: absolute;border-left: 1px solid gray;box-sizing: border-box;top: 0;bottom: 0;left: 50%;z-index: 0;}#sk-container-id-3 div.sk-serial {display: flex;flex-direction: column;align-items: center;background-color: white;padding-right: 0.2em;padding-left: 0.2em;position: relative;}#sk-container-id-3 div.sk-item {position: relative;z-index: 1;}#sk-container-id-3 div.sk-parallel {display: flex;align-items: stretch;justify-content: center;background-color: white;position: relative;}#sk-container-id-3 div.sk-item::before, #sk-container-id-3 div.sk-parallel-item::before {content: \"\";position: absolute;border-left: 1px solid gray;box-sizing: border-box;top: 0;bottom: 0;left: 50%;z-index: -1;}#sk-container-id-3 div.sk-parallel-item {display: flex;flex-direction: column;z-index: 1;position: relative;background-color: white;}#sk-container-id-3 div.sk-parallel-item:first-child::after {align-self: flex-end;width: 50%;}#sk-container-id-3 div.sk-parallel-item:last-child::after {align-self: flex-start;width: 50%;}#sk-container-id-3 div.sk-parallel-item:only-child::after {width: 0;}#sk-container-id-3 div.sk-dashed-wrapped {border: 1px dashed gray;margin: 0 0.4em 0.5em 0.4em;box-sizing: border-box;padding-bottom: 0.4em;background-color: white;}#sk-container-id-3 div.sk-label label {font-family: monospace;font-weight: bold;display: inline-block;line-height: 1.2em;}#sk-container-id-3 div.sk-label-container {text-align: center;}#sk-container-id-3 div.sk-container {/* jupyter's `normalize.less` sets `[hidden] { display: none; }` but bootstrap.min.css set `[hidden] { display: none !important; }` so we also need the `!important` here to be able to override the default hidden behavior on the sphinx rendered scikit-learn.org. See: https://github.com/scikit-learn/scikit-learn/issues/21755 */display: inline-block !important;position: relative;}#sk-container-id-3 div.sk-text-repr-fallback {display: none;}</style><div id=\"sk-container-id-3\" class=\"sk-top-container\"><div class=\"sk-text-repr-fallback\"><pre>XGBClassifier(base_score=None, booster=None, callbacks=None,\n",
       "              colsample_bylevel=None, colsample_bynode=None,\n",
       "              colsample_bytree=1.0, early_stopping_rounds=None,\n",
       "              enable_categorical=False, eval_metric=None, feature_types=None,\n",
       "              gamma=0.1, gpu_id=None, grow_policy=None, importance_type=None,\n",
       "              interaction_constraints=None, learning_rate=0.01, max_bin=None,\n",
       "              max_cat_threshold=None, max_cat_to_onehot=None,\n",
       "              max_delta_step=None, max_depth=15, max_leaves=None,\n",
       "              min_child_weight=7, missing=nan, monotone_constraints=None,\n",
       "              n_estimators=500, n_jobs=None, num_parallel_tree=None,\n",
       "              predictor=None, random_state=42, ...)</pre><b>In a Jupyter environment, please rerun this cell to show the HTML representation or trust the notebook. <br />On GitHub, the HTML representation is unable to render, please try loading this page with nbviewer.org.</b></div><div class=\"sk-container\" hidden><div class=\"sk-item\"><div class=\"sk-estimator sk-toggleable\"><input class=\"sk-toggleable__control sk-hidden--visually\" id=\"sk-estimator-id-3\" type=\"checkbox\" checked><label for=\"sk-estimator-id-3\" class=\"sk-toggleable__label sk-toggleable__label-arrow\">XGBClassifier</label><div class=\"sk-toggleable__content\"><pre>XGBClassifier(base_score=None, booster=None, callbacks=None,\n",
       "              colsample_bylevel=None, colsample_bynode=None,\n",
       "              colsample_bytree=1.0, early_stopping_rounds=None,\n",
       "              enable_categorical=False, eval_metric=None, feature_types=None,\n",
       "              gamma=0.1, gpu_id=None, grow_policy=None, importance_type=None,\n",
       "              interaction_constraints=None, learning_rate=0.01, max_bin=None,\n",
       "              max_cat_threshold=None, max_cat_to_onehot=None,\n",
       "              max_delta_step=None, max_depth=15, max_leaves=None,\n",
       "              min_child_weight=7, missing=nan, monotone_constraints=None,\n",
       "              n_estimators=500, n_jobs=None, num_parallel_tree=None,\n",
       "              predictor=None, random_state=42, ...)</pre></div></div></div></div></div>"
      ],
      "text/plain": [
       "XGBClassifier(base_score=None, booster=None, callbacks=None,\n",
       "              colsample_bylevel=None, colsample_bynode=None,\n",
       "              colsample_bytree=1.0, early_stopping_rounds=None,\n",
       "              enable_categorical=False, eval_metric=None, feature_types=None,\n",
       "              gamma=0.1, gpu_id=None, grow_policy=None, importance_type=None,\n",
       "              interaction_constraints=None, learning_rate=0.01, max_bin=None,\n",
       "              max_cat_threshold=None, max_cat_to_onehot=None,\n",
       "              max_delta_step=None, max_depth=15, max_leaves=None,\n",
       "              min_child_weight=7, missing=nan, monotone_constraints=None,\n",
       "              n_estimators=500, n_jobs=None, num_parallel_tree=None,\n",
       "              predictor=None, random_state=42, ...)"
      ]
     },
     "execution_count": 46,
     "metadata": {},
     "output_type": "execute_result"
    }
   ],
   "source": [
    "xgb = XGBClassifier(n_estimators=100, random_state=42)\n",
    "GridSearch(estimator=xgb, param_grid=param_grid, \n",
    "                            X_train=X_train, y_train=y3_train, \n",
    "                            X_test=X_test, y_test=y3_test,\n",
    "                            target=target[2], cv=5)"
   ]
  },
  {
   "attachments": {},
   "cell_type": "markdown",
   "metadata": {},
   "source": [
    "#### task 4"
   ]
  },
  {
   "cell_type": "code",
   "execution_count": 49,
   "metadata": {},
   "outputs": [
    {
     "name": "stderr",
     "output_type": "stream",
     "text": [
      "/home/ansonlo/anaconda3/envs/torch/lib/python3.8/site-packages/sklearn/model_selection/_validation.py:378: FitFailedWarning: \n",
      "162 fits failed out of a total of 180.\n",
      "The score on these train-test partitions for these parameters will be set to nan.\n",
      "If these failures are not expected, you can try to debug them by setting error_score='raise'.\n",
      "\n",
      "Below are more details about the failures:\n",
      "--------------------------------------------------------------------------------\n",
      "36 fits failed with the following error:\n",
      "Traceback (most recent call last):\n",
      "  File \"/home/ansonlo/anaconda3/envs/torch/lib/python3.8/site-packages/sklearn/model_selection/_validation.py\", line 686, in _fit_and_score\n",
      "    estimator.fit(X_train, y_train, **fit_params)\n",
      "  File \"/home/ansonlo/anaconda3/envs/torch/lib/python3.8/site-packages/xgboost/core.py\", line 620, in inner_f\n",
      "    return func(**kwargs)\n",
      "  File \"/home/ansonlo/anaconda3/envs/torch/lib/python3.8/site-packages/xgboost/sklearn.py\", line 1440, in fit\n",
      "    raise ValueError(\n",
      "ValueError: Invalid classes inferred from unique values of `y`.  Expected: [0 1 2 3 4 5 6], got [0 1 2 4 5 6 7]\n",
      "\n",
      "--------------------------------------------------------------------------------\n",
      "54 fits failed with the following error:\n",
      "Traceback (most recent call last):\n",
      "  File \"/home/ansonlo/anaconda3/envs/torch/lib/python3.8/site-packages/sklearn/model_selection/_validation.py\", line 686, in _fit_and_score\n",
      "    estimator.fit(X_train, y_train, **fit_params)\n",
      "  File \"/home/ansonlo/anaconda3/envs/torch/lib/python3.8/site-packages/xgboost/core.py\", line 620, in inner_f\n",
      "    return func(**kwargs)\n",
      "  File \"/home/ansonlo/anaconda3/envs/torch/lib/python3.8/site-packages/xgboost/sklearn.py\", line 1440, in fit\n",
      "    raise ValueError(\n",
      "ValueError: Invalid classes inferred from unique values of `y`.  Expected: [0 1 2 3 4 5], got [1 2 4 5 6 7]\n",
      "\n",
      "--------------------------------------------------------------------------------\n",
      "36 fits failed with the following error:\n",
      "Traceback (most recent call last):\n",
      "  File \"/home/ansonlo/anaconda3/envs/torch/lib/python3.8/site-packages/sklearn/model_selection/_validation.py\", line 686, in _fit_and_score\n",
      "    estimator.fit(X_train, y_train, **fit_params)\n",
      "  File \"/home/ansonlo/anaconda3/envs/torch/lib/python3.8/site-packages/xgboost/core.py\", line 620, in inner_f\n",
      "    return func(**kwargs)\n",
      "  File \"/home/ansonlo/anaconda3/envs/torch/lib/python3.8/site-packages/xgboost/sklearn.py\", line 1440, in fit\n",
      "    raise ValueError(\n",
      "ValueError: Invalid classes inferred from unique values of `y`.  Expected: [0 1 2 3 4 5 6], got [1 2 3 4 5 6 7]\n",
      "\n",
      "--------------------------------------------------------------------------------\n",
      "18 fits failed with the following error:\n",
      "Traceback (most recent call last):\n",
      "  File \"/home/ansonlo/anaconda3/envs/torch/lib/python3.8/site-packages/sklearn/model_selection/_validation.py\", line 686, in _fit_and_score\n",
      "    estimator.fit(X_train, y_train, **fit_params)\n",
      "  File \"/home/ansonlo/anaconda3/envs/torch/lib/python3.8/site-packages/xgboost/core.py\", line 620, in inner_f\n",
      "    return func(**kwargs)\n",
      "  File \"/home/ansonlo/anaconda3/envs/torch/lib/python3.8/site-packages/xgboost/sklearn.py\", line 1440, in fit\n",
      "    raise ValueError(\n",
      "ValueError: Invalid classes inferred from unique values of `y`.  Expected: [0 1 2 3 4], got [1 2 4 5 6]\n",
      "\n",
      "--------------------------------------------------------------------------------\n",
      "18 fits failed with the following error:\n",
      "Traceback (most recent call last):\n",
      "  File \"/home/ansonlo/anaconda3/envs/torch/lib/python3.8/site-packages/sklearn/model_selection/_validation.py\", line 686, in _fit_and_score\n",
      "    estimator.fit(X_train, y_train, **fit_params)\n",
      "  File \"/home/ansonlo/anaconda3/envs/torch/lib/python3.8/site-packages/xgboost/core.py\", line 620, in inner_f\n",
      "    return func(**kwargs)\n",
      "  File \"/home/ansonlo/anaconda3/envs/torch/lib/python3.8/site-packages/xgboost/sklearn.py\", line 1440, in fit\n",
      "    raise ValueError(\n",
      "ValueError: Invalid classes inferred from unique values of `y`.  Expected: [0 1 2 3 4], got [0 2 4 5 6]\n",
      "\n",
      "  warnings.warn(some_fits_failed_message, FitFailedWarning)\n",
      "/home/ansonlo/anaconda3/envs/torch/lib/python3.8/site-packages/sklearn/model_selection/_search.py:952: UserWarning: One or more of the test scores are non-finite: [nan nan nan nan nan nan nan nan nan nan nan nan nan nan nan nan nan nan]\n",
      "  warnings.warn(\n",
      "/home/ansonlo/anaconda3/envs/torch/lib/python3.8/site-packages/sklearn/model_selection/_search.py:952: UserWarning: One or more of the train scores are non-finite: [nan nan nan nan nan nan nan nan nan nan nan nan nan nan nan nan nan nan]\n",
      "  warnings.warn(\n",
      "/home/ansonlo/anaconda3/envs/torch/lib/python3.8/site-packages/sklearn/model_selection/_validation.py:378: FitFailedWarning: \n",
      "18 fits failed out of a total of 60.\n",
      "The score on these train-test partitions for these parameters will be set to nan.\n",
      "If these failures are not expected, you can try to debug them by setting error_score='raise'.\n",
      "\n",
      "Below are more details about the failures:\n",
      "--------------------------------------------------------------------------------\n",
      "12 fits failed with the following error:\n",
      "Traceback (most recent call last):\n",
      "  File \"/home/ansonlo/anaconda3/envs/torch/lib/python3.8/site-packages/sklearn/model_selection/_validation.py\", line 686, in _fit_and_score\n",
      "    estimator.fit(X_train, y_train, **fit_params)\n",
      "  File \"/home/ansonlo/anaconda3/envs/torch/lib/python3.8/site-packages/xgboost/core.py\", line 620, in inner_f\n",
      "    return func(**kwargs)\n",
      "  File \"/home/ansonlo/anaconda3/envs/torch/lib/python3.8/site-packages/xgboost/sklearn.py\", line 1440, in fit\n",
      "    raise ValueError(\n",
      "ValueError: Invalid classes inferred from unique values of `y`.  Expected: [0 1 2 3 4 5 6], got [1 2 3 4 5 6 7]\n",
      "\n",
      "--------------------------------------------------------------------------------\n",
      "6 fits failed with the following error:\n",
      "Traceback (most recent call last):\n",
      "  File \"/home/ansonlo/anaconda3/envs/torch/lib/python3.8/site-packages/sklearn/model_selection/_validation.py\", line 686, in _fit_and_score\n",
      "    estimator.fit(X_train, y_train, **fit_params)\n",
      "  File \"/home/ansonlo/anaconda3/envs/torch/lib/python3.8/site-packages/xgboost/core.py\", line 620, in inner_f\n",
      "    return func(**kwargs)\n",
      "  File \"/home/ansonlo/anaconda3/envs/torch/lib/python3.8/site-packages/xgboost/sklearn.py\", line 1440, in fit\n",
      "    raise ValueError(\n",
      "ValueError: Invalid classes inferred from unique values of `y`.  Expected: [0 1 2 3 4 5 6], got [0 1 2 4 5 6 7]\n",
      "\n",
      "  warnings.warn(some_fits_failed_message, FitFailedWarning)\n",
      "/home/ansonlo/anaconda3/envs/torch/lib/python3.8/site-packages/sklearn/model_selection/_search.py:952: UserWarning: One or more of the test scores are non-finite: [nan nan nan nan nan nan nan nan nan nan nan nan nan nan nan nan nan nan\n",
      " nan nan nan nan nan nan]\n",
      "  warnings.warn(\n",
      "/home/ansonlo/anaconda3/envs/torch/lib/python3.8/site-packages/sklearn/model_selection/_search.py:952: UserWarning: One or more of the train scores are non-finite: [nan nan nan nan nan nan nan nan nan nan nan nan nan nan nan nan nan nan\n",
      " nan nan nan nan nan nan]\n",
      "  warnings.warn(\n",
      "/home/ansonlo/anaconda3/envs/torch/lib/python3.8/site-packages/sklearn/model_selection/_search.py:952: UserWarning: One or more of the test scores are non-finite: [       nan        nan        nan        nan        nan        nan\n",
      "        nan        nan        nan        nan        nan        nan\n",
      "        nan        nan        nan        nan        nan        nan\n",
      "        nan        nan        nan        nan        nan        nan\n",
      " 0.42956488 0.43654332]\n",
      "  warnings.warn(\n",
      "/home/ansonlo/anaconda3/envs/torch/lib/python3.8/site-packages/sklearn/model_selection/_search.py:952: UserWarning: One or more of the train scores are non-finite: [       nan        nan        nan        nan        nan        nan\n",
      "        nan        nan        nan        nan        nan        nan\n",
      "        nan        nan        nan        nan        nan        nan\n",
      "        nan        nan        nan        nan        nan        nan\n",
      " 0.99814761 0.99992284]\n",
      "  warnings.warn(\n"
     ]
    },
    {
     "name": "stdout",
     "output_type": "stream",
     "text": [
      "Best hyperparameters: {'subsample': 1.0, 'n_estimators': 1000, 'min_child_weight': 7, 'max_depth': 10, 'learning_rate': 0.2, 'gamma': 0.1, 'colsample_bytree': 0.7}\n",
      "Best cross-validation score: 0.4365433177933178\n",
      "Test score: 0.4637482900136799\n",
      "Report:\n",
      "              precision    recall  f1-score   support\n",
      "\n",
      "          玩乐       0.00      0.00      0.00         3\n",
      "          闲聊       0.00      0.00      0.00         7\n",
      "  一人独立尝试一人摸鱼       0.44      0.31      0.36        78\n",
      "        各自神游       0.00      0.00      0.00         5\n",
      "          主导       0.44      0.49      0.47       205\n",
      "          支持       0.48      0.50      0.49       207\n",
      "          旁观       0.47      0.51      0.49       219\n",
      "          冲突       0.00      0.00      0.00         7\n",
      "\n",
      "    accuracy                           0.46       731\n",
      "   macro avg       0.23      0.23      0.23       731\n",
      "weighted avg       0.45      0.46      0.46       731\n",
      "\n"
     ]
    },
    {
     "data": {
      "text/html": [
       "<style>#sk-container-id-4 {color: black;background-color: white;}#sk-container-id-4 pre{padding: 0;}#sk-container-id-4 div.sk-toggleable {background-color: white;}#sk-container-id-4 label.sk-toggleable__label {cursor: pointer;display: block;width: 100%;margin-bottom: 0;padding: 0.3em;box-sizing: border-box;text-align: center;}#sk-container-id-4 label.sk-toggleable__label-arrow:before {content: \"▸\";float: left;margin-right: 0.25em;color: #696969;}#sk-container-id-4 label.sk-toggleable__label-arrow:hover:before {color: black;}#sk-container-id-4 div.sk-estimator:hover label.sk-toggleable__label-arrow:before {color: black;}#sk-container-id-4 div.sk-toggleable__content {max-height: 0;max-width: 0;overflow: hidden;text-align: left;background-color: #f0f8ff;}#sk-container-id-4 div.sk-toggleable__content pre {margin: 0.2em;color: black;border-radius: 0.25em;background-color: #f0f8ff;}#sk-container-id-4 input.sk-toggleable__control:checked~div.sk-toggleable__content {max-height: 200px;max-width: 100%;overflow: auto;}#sk-container-id-4 input.sk-toggleable__control:checked~label.sk-toggleable__label-arrow:before {content: \"▾\";}#sk-container-id-4 div.sk-estimator input.sk-toggleable__control:checked~label.sk-toggleable__label {background-color: #d4ebff;}#sk-container-id-4 div.sk-label input.sk-toggleable__control:checked~label.sk-toggleable__label {background-color: #d4ebff;}#sk-container-id-4 input.sk-hidden--visually {border: 0;clip: rect(1px 1px 1px 1px);clip: rect(1px, 1px, 1px, 1px);height: 1px;margin: -1px;overflow: hidden;padding: 0;position: absolute;width: 1px;}#sk-container-id-4 div.sk-estimator {font-family: monospace;background-color: #f0f8ff;border: 1px dotted black;border-radius: 0.25em;box-sizing: border-box;margin-bottom: 0.5em;}#sk-container-id-4 div.sk-estimator:hover {background-color: #d4ebff;}#sk-container-id-4 div.sk-parallel-item::after {content: \"\";width: 100%;border-bottom: 1px solid gray;flex-grow: 1;}#sk-container-id-4 div.sk-label:hover label.sk-toggleable__label {background-color: #d4ebff;}#sk-container-id-4 div.sk-serial::before {content: \"\";position: absolute;border-left: 1px solid gray;box-sizing: border-box;top: 0;bottom: 0;left: 50%;z-index: 0;}#sk-container-id-4 div.sk-serial {display: flex;flex-direction: column;align-items: center;background-color: white;padding-right: 0.2em;padding-left: 0.2em;position: relative;}#sk-container-id-4 div.sk-item {position: relative;z-index: 1;}#sk-container-id-4 div.sk-parallel {display: flex;align-items: stretch;justify-content: center;background-color: white;position: relative;}#sk-container-id-4 div.sk-item::before, #sk-container-id-4 div.sk-parallel-item::before {content: \"\";position: absolute;border-left: 1px solid gray;box-sizing: border-box;top: 0;bottom: 0;left: 50%;z-index: -1;}#sk-container-id-4 div.sk-parallel-item {display: flex;flex-direction: column;z-index: 1;position: relative;background-color: white;}#sk-container-id-4 div.sk-parallel-item:first-child::after {align-self: flex-end;width: 50%;}#sk-container-id-4 div.sk-parallel-item:last-child::after {align-self: flex-start;width: 50%;}#sk-container-id-4 div.sk-parallel-item:only-child::after {width: 0;}#sk-container-id-4 div.sk-dashed-wrapped {border: 1px dashed gray;margin: 0 0.4em 0.5em 0.4em;box-sizing: border-box;padding-bottom: 0.4em;background-color: white;}#sk-container-id-4 div.sk-label label {font-family: monospace;font-weight: bold;display: inline-block;line-height: 1.2em;}#sk-container-id-4 div.sk-label-container {text-align: center;}#sk-container-id-4 div.sk-container {/* jupyter's `normalize.less` sets `[hidden] { display: none; }` but bootstrap.min.css set `[hidden] { display: none !important; }` so we also need the `!important` here to be able to override the default hidden behavior on the sphinx rendered scikit-learn.org. See: https://github.com/scikit-learn/scikit-learn/issues/21755 */display: inline-block !important;position: relative;}#sk-container-id-4 div.sk-text-repr-fallback {display: none;}</style><div id=\"sk-container-id-4\" class=\"sk-top-container\"><div class=\"sk-text-repr-fallback\"><pre>XGBClassifier(base_score=None, booster=None, callbacks=None,\n",
       "              colsample_bylevel=None, colsample_bynode=None,\n",
       "              colsample_bytree=0.7, early_stopping_rounds=None,\n",
       "              enable_categorical=False, eval_metric=None, feature_types=None,\n",
       "              gamma=0.1, gpu_id=None, grow_policy=None, importance_type=None,\n",
       "              interaction_constraints=None, learning_rate=0.2, max_bin=None,\n",
       "              max_cat_threshold=None, max_cat_to_onehot=None,\n",
       "              max_delta_step=None, max_depth=10, max_leaves=None,\n",
       "              min_child_weight=7, missing=nan, monotone_constraints=None,\n",
       "              n_estimators=1000, n_jobs=None, num_parallel_tree=None,\n",
       "              objective=&#x27;multi:softprob&#x27;, predictor=None, ...)</pre><b>In a Jupyter environment, please rerun this cell to show the HTML representation or trust the notebook. <br />On GitHub, the HTML representation is unable to render, please try loading this page with nbviewer.org.</b></div><div class=\"sk-container\" hidden><div class=\"sk-item\"><div class=\"sk-estimator sk-toggleable\"><input class=\"sk-toggleable__control sk-hidden--visually\" id=\"sk-estimator-id-4\" type=\"checkbox\" checked><label for=\"sk-estimator-id-4\" class=\"sk-toggleable__label sk-toggleable__label-arrow\">XGBClassifier</label><div class=\"sk-toggleable__content\"><pre>XGBClassifier(base_score=None, booster=None, callbacks=None,\n",
       "              colsample_bylevel=None, colsample_bynode=None,\n",
       "              colsample_bytree=0.7, early_stopping_rounds=None,\n",
       "              enable_categorical=False, eval_metric=None, feature_types=None,\n",
       "              gamma=0.1, gpu_id=None, grow_policy=None, importance_type=None,\n",
       "              interaction_constraints=None, learning_rate=0.2, max_bin=None,\n",
       "              max_cat_threshold=None, max_cat_to_onehot=None,\n",
       "              max_delta_step=None, max_depth=10, max_leaves=None,\n",
       "              min_child_weight=7, missing=nan, monotone_constraints=None,\n",
       "              n_estimators=1000, n_jobs=None, num_parallel_tree=None,\n",
       "              objective=&#x27;multi:softprob&#x27;, predictor=None, ...)</pre></div></div></div></div></div>"
      ],
      "text/plain": [
       "XGBClassifier(base_score=None, booster=None, callbacks=None,\n",
       "              colsample_bylevel=None, colsample_bynode=None,\n",
       "              colsample_bytree=0.7, early_stopping_rounds=None,\n",
       "              enable_categorical=False, eval_metric=None, feature_types=None,\n",
       "              gamma=0.1, gpu_id=None, grow_policy=None, importance_type=None,\n",
       "              interaction_constraints=None, learning_rate=0.2, max_bin=None,\n",
       "              max_cat_threshold=None, max_cat_to_onehot=None,\n",
       "              max_delta_step=None, max_depth=10, max_leaves=None,\n",
       "              min_child_weight=7, missing=nan, monotone_constraints=None,\n",
       "              n_estimators=1000, n_jobs=None, num_parallel_tree=None,\n",
       "              objective='multi:softprob', predictor=None, ...)"
      ]
     },
     "execution_count": 49,
     "metadata": {},
     "output_type": "execute_result"
    }
   ],
   "source": [
    "param_grid = {\n",
    "    'learning_rate': [0.01, 0.05, 0.1, 0.2],\n",
    "    'n_estimators': [100, 200, 500, 1000],\n",
    "    'max_depth': [3, 6, 10, 15],\n",
    "    'min_child_weight': [1, 3, 5, 7],\n",
    "    'gamma': [0, 0.1, 0.2, 0.3, 0.4],\n",
    "    'subsample': [0.6, 0.7, 0.8, 0.9, 1.0],\n",
    "    'colsample_bytree': [0.6, 0.7, 0.8, 0.9, 1.0]\n",
    "}\n",
    "xgb = XGBClassifier()\n",
    "GridSearch(estimator=xgb, param_grid=param_grid, \n",
    "                            X_train=X_train, y_train=y4_train, \n",
    "                            X_test=X_test, y_test=y4_test,\n",
    "                            target=target[3], cv=10)"
   ]
  },
  {
   "attachments": {},
   "cell_type": "markdown",
   "metadata": {},
   "source": [
    "### LSTM  \n",
    "not working so far"
   ]
  },
  {
   "cell_type": "code",
   "execution_count": null,
   "metadata": {},
   "outputs": [
    {
     "name": "stderr",
     "output_type": "stream",
     "text": [
      "/home/ansonlo/anaconda3/envs/torch/lib/python3.8/site-packages/sklearn/model_selection/_validation.py:378: FitFailedWarning: \n",
      "154 fits failed out of a total of 176.\n",
      "The score on these train-test partitions for these parameters will be set to nan.\n",
      "If these failures are not expected, you can try to debug them by setting error_score='raise'.\n",
      "\n",
      "Below are more details about the failures:\n",
      "--------------------------------------------------------------------------------\n",
      "22 fits failed with the following error:\n",
      "Traceback (most recent call last):\n",
      "  File \"/home/ansonlo/anaconda3/envs/torch/lib/python3.8/site-packages/sklearn/model_selection/_validation.py\", line 686, in _fit_and_score\n",
      "    estimator.fit(X_train, y_train, **fit_params)\n",
      "  File \"/home/ansonlo/anaconda3/envs/torch/lib/python3.8/site-packages/xgboost/core.py\", line 620, in inner_f\n",
      "    return func(**kwargs)\n",
      "  File \"/home/ansonlo/anaconda3/envs/torch/lib/python3.8/site-packages/xgboost/sklearn.py\", line 1440, in fit\n",
      "    raise ValueError(\n",
      "ValueError: Invalid classes inferred from unique values of `y`.  Expected: [0 1 2 3 4 5 6], got [0 1 2 4 5 6 7]\n",
      "\n",
      "--------------------------------------------------------------------------------\n",
      "22 fits failed with the following error:\n",
      "Traceback (most recent call last):\n",
      "  File \"/home/ansonlo/anaconda3/envs/torch/lib/python3.8/site-packages/sklearn/model_selection/_validation.py\", line 686, in _fit_and_score\n",
      "    estimator.fit(X_train, y_train, **fit_params)\n",
      "  File \"/home/ansonlo/anaconda3/envs/torch/lib/python3.8/site-packages/xgboost/core.py\", line 620, in inner_f\n",
      "    return func(**kwargs)\n",
      "  File \"/home/ansonlo/anaconda3/envs/torch/lib/python3.8/site-packages/xgboost/sklearn.py\", line 1440, in fit\n",
      "    raise ValueError(\n",
      "ValueError: Invalid classes inferred from unique values of `y`.  Expected: [0 1 2 3], got [2 4 5 6]\n",
      "\n",
      "--------------------------------------------------------------------------------\n",
      "22 fits failed with the following error:\n",
      "Traceback (most recent call last):\n",
      "  File \"/home/ansonlo/anaconda3/envs/torch/lib/python3.8/site-packages/sklearn/model_selection/_validation.py\", line 686, in _fit_and_score\n",
      "    estimator.fit(X_train, y_train, **fit_params)\n",
      "  File \"/home/ansonlo/anaconda3/envs/torch/lib/python3.8/site-packages/xgboost/core.py\", line 620, in inner_f\n",
      "    return func(**kwargs)\n",
      "  File \"/home/ansonlo/anaconda3/envs/torch/lib/python3.8/site-packages/xgboost/sklearn.py\", line 1440, in fit\n",
      "    raise ValueError(\n",
      "ValueError: Invalid classes inferred from unique values of `y`.  Expected: [0 1 2 3 4 5], got [0 1 2 4 5 6]\n",
      "\n",
      "--------------------------------------------------------------------------------\n",
      "22 fits failed with the following error:\n",
      "Traceback (most recent call last):\n",
      "  File \"/home/ansonlo/anaconda3/envs/torch/lib/python3.8/site-packages/sklearn/model_selection/_validation.py\", line 686, in _fit_and_score\n",
      "    estimator.fit(X_train, y_train, **fit_params)\n",
      "  File \"/home/ansonlo/anaconda3/envs/torch/lib/python3.8/site-packages/xgboost/core.py\", line 620, in inner_f\n",
      "    return func(**kwargs)\n",
      "  File \"/home/ansonlo/anaconda3/envs/torch/lib/python3.8/site-packages/xgboost/sklearn.py\", line 1440, in fit\n",
      "    raise ValueError(\n",
      "ValueError: Invalid classes inferred from unique values of `y`.  Expected: [0 1 2 3 4 5 6], got [1 2 3 4 5 6 7]\n",
      "\n",
      "--------------------------------------------------------------------------------\n",
      "22 fits failed with the following error:\n",
      "Traceback (most recent call last):\n",
      "  File \"/home/ansonlo/anaconda3/envs/torch/lib/python3.8/site-packages/sklearn/model_selection/_validation.py\", line 686, in _fit_and_score\n",
      "    estimator.fit(X_train, y_train, **fit_params)\n",
      "  File \"/home/ansonlo/anaconda3/envs/torch/lib/python3.8/site-packages/xgboost/core.py\", line 620, in inner_f\n",
      "    return func(**kwargs)\n",
      "  File \"/home/ansonlo/anaconda3/envs/torch/lib/python3.8/site-packages/xgboost/sklearn.py\", line 1440, in fit\n",
      "    raise ValueError(\n",
      "ValueError: Invalid classes inferred from unique values of `y`.  Expected: [0 1 2 3 4], got [1 2 4 5 6]\n",
      "\n",
      "--------------------------------------------------------------------------------\n",
      "22 fits failed with the following error:\n",
      "Traceback (most recent call last):\n",
      "  File \"/home/ansonlo/anaconda3/envs/torch/lib/python3.8/site-packages/sklearn/model_selection/_validation.py\", line 686, in _fit_and_score\n",
      "    estimator.fit(X_train, y_train, **fit_params)\n",
      "  File \"/home/ansonlo/anaconda3/envs/torch/lib/python3.8/site-packages/xgboost/core.py\", line 620, in inner_f\n",
      "    return func(**kwargs)\n",
      "  File \"/home/ansonlo/anaconda3/envs/torch/lib/python3.8/site-packages/xgboost/sklearn.py\", line 1440, in fit\n",
      "    raise ValueError(\n",
      "ValueError: Invalid classes inferred from unique values of `y`.  Expected: [0 1 2 3 4 5], got [1 2 3 4 5 6]\n",
      "\n",
      "--------------------------------------------------------------------------------\n",
      "22 fits failed with the following error:\n",
      "Traceback (most recent call last):\n",
      "  File \"/home/ansonlo/anaconda3/envs/torch/lib/python3.8/site-packages/sklearn/model_selection/_validation.py\", line 686, in _fit_and_score\n",
      "    estimator.fit(X_train, y_train, **fit_params)\n",
      "  File \"/home/ansonlo/anaconda3/envs/torch/lib/python3.8/site-packages/xgboost/core.py\", line 620, in inner_f\n",
      "    return func(**kwargs)\n",
      "  File \"/home/ansonlo/anaconda3/envs/torch/lib/python3.8/site-packages/xgboost/sklearn.py\", line 1440, in fit\n",
      "    raise ValueError(\n",
      "ValueError: Invalid classes inferred from unique values of `y`.  Expected: [0 1 2 3 4 5], got [1 2 4 5 6 7]\n",
      "\n",
      "  warnings.warn(some_fits_failed_message, FitFailedWarning)\n",
      "/home/ansonlo/anaconda3/envs/torch/lib/python3.8/site-packages/sklearn/model_selection/_search.py:952: UserWarning: One or more of the test scores are non-finite: [nan nan nan nan nan nan nan nan nan nan nan nan nan nan nan nan nan nan\n",
      " nan nan nan nan]\n",
      "  warnings.warn(\n",
      "/home/ansonlo/anaconda3/envs/torch/lib/python3.8/site-packages/sklearn/model_selection/_search.py:952: UserWarning: One or more of the train scores are non-finite: [nan nan nan nan nan nan nan nan nan nan nan nan nan nan nan nan nan nan\n",
      " nan nan nan nan]\n",
      "  warnings.warn(\n",
      "/home/ansonlo/anaconda3/envs/torch/lib/python3.8/site-packages/sklearn/model_selection/_validation.py:378: FitFailedWarning: \n",
      "24 fits failed out of a total of 64.\n",
      "The score on these train-test partitions for these parameters will be set to nan.\n",
      "If these failures are not expected, you can try to debug them by setting error_score='raise'.\n",
      "\n",
      "Below are more details about the failures:\n",
      "--------------------------------------------------------------------------------\n",
      "8 fits failed with the following error:\n",
      "Traceback (most recent call last):\n",
      "  File \"/home/ansonlo/anaconda3/envs/torch/lib/python3.8/site-packages/sklearn/model_selection/_validation.py\", line 686, in _fit_and_score\n",
      "    estimator.fit(X_train, y_train, **fit_params)\n",
      "  File \"/home/ansonlo/anaconda3/envs/torch/lib/python3.8/site-packages/xgboost/core.py\", line 620, in inner_f\n",
      "    return func(**kwargs)\n",
      "  File \"/home/ansonlo/anaconda3/envs/torch/lib/python3.8/site-packages/xgboost/sklearn.py\", line 1440, in fit\n",
      "    raise ValueError(\n",
      "ValueError: Invalid classes inferred from unique values of `y`.  Expected: [0 1 2 3 4 5 6], got [1 2 3 4 5 6 7]\n",
      "\n",
      "--------------------------------------------------------------------------------\n",
      "8 fits failed with the following error:\n",
      "Traceback (most recent call last):\n",
      "  File \"/home/ansonlo/anaconda3/envs/torch/lib/python3.8/site-packages/sklearn/model_selection/_validation.py\", line 686, in _fit_and_score\n",
      "    estimator.fit(X_train, y_train, **fit_params)\n",
      "  File \"/home/ansonlo/anaconda3/envs/torch/lib/python3.8/site-packages/xgboost/core.py\", line 620, in inner_f\n",
      "    return func(**kwargs)\n",
      "  File \"/home/ansonlo/anaconda3/envs/torch/lib/python3.8/site-packages/xgboost/sklearn.py\", line 1440, in fit\n",
      "    raise ValueError(\n",
      "ValueError: Invalid classes inferred from unique values of `y`.  Expected: [0 1 2 3 4 5], got [0 1 2 4 5 6]\n",
      "\n",
      "--------------------------------------------------------------------------------\n",
      "8 fits failed with the following error:\n",
      "Traceback (most recent call last):\n",
      "  File \"/home/ansonlo/anaconda3/envs/torch/lib/python3.8/site-packages/sklearn/model_selection/_validation.py\", line 686, in _fit_and_score\n",
      "    estimator.fit(X_train, y_train, **fit_params)\n",
      "  File \"/home/ansonlo/anaconda3/envs/torch/lib/python3.8/site-packages/xgboost/core.py\", line 620, in inner_f\n",
      "    return func(**kwargs)\n",
      "  File \"/home/ansonlo/anaconda3/envs/torch/lib/python3.8/site-packages/xgboost/sklearn.py\", line 1440, in fit\n",
      "    raise ValueError(\n",
      "ValueError: Invalid classes inferred from unique values of `y`.  Expected: [0 1 2 3 4 5], got [1 2 3 4 5 6]\n",
      "\n",
      "  warnings.warn(some_fits_failed_message, FitFailedWarning)\n",
      "/home/ansonlo/anaconda3/envs/torch/lib/python3.8/site-packages/sklearn/model_selection/_search.py:952: UserWarning: One or more of the test scores are non-finite: [nan nan nan nan nan nan nan nan nan nan nan nan nan nan nan nan nan nan\n",
      " nan nan nan nan nan nan nan nan nan nan nan nan]\n",
      "  warnings.warn(\n",
      "/home/ansonlo/anaconda3/envs/torch/lib/python3.8/site-packages/sklearn/model_selection/_search.py:952: UserWarning: One or more of the train scores are non-finite: [nan nan nan nan nan nan nan nan nan nan nan nan nan nan nan nan nan nan\n",
      " nan nan nan nan nan nan nan nan nan nan nan nan]\n",
      "  warnings.warn(\n",
      "/home/ansonlo/anaconda3/envs/torch/lib/python3.8/site-packages/sklearn/model_selection/_search.py:952: UserWarning: One or more of the test scores are non-finite: [       nan        nan        nan        nan        nan        nan\n",
      "        nan        nan        nan        nan        nan        nan\n",
      "        nan        nan        nan        nan        nan        nan\n",
      "        nan        nan        nan        nan        nan        nan\n",
      "        nan        nan        nan        nan        nan        nan\n",
      " 0.43385174 0.42772679 0.41907051]\n",
      "  warnings.warn(\n",
      "/home/ansonlo/anaconda3/envs/torch/lib/python3.8/site-packages/sklearn/model_selection/_search.py:952: UserWarning: One or more of the train scores are non-finite: [       nan        nan        nan        nan        nan        nan\n",
      "        nan        nan        nan        nan        nan        nan\n",
      "        nan        nan        nan        nan        nan        nan\n",
      "        nan        nan        nan        nan        nan        nan\n",
      "        nan        nan        nan        nan        nan        nan\n",
      " 1.         1.         0.99987599]\n",
      "  warnings.warn(\n"
     ]
    }
   ],
   "source": [
    "param_grid = {\n",
    "    'learning_rate': [0.01, 0.05, 0.1, 0.2],\n",
    "    'n_estimators': [100, 200, 500, 1000],\n",
    "    'max_depth': [3, 6, 10, 15],\n",
    "    'min_child_weight': [1, 3, 5, 7],\n",
    "    'gamma': [0, 0.1, 0.2, 0.3, 0.4],\n",
    "    'subsample': [0.6, 0.7, 0.8, 0.9, 1.0],\n",
    "    'colsample_bytree': [0.6, 0.7, 0.8, 0.9, 1.0]\n",
    "}\n",
    "xgb = XGBClassifier()\n",
    "GridSearch(estimator=xgb, param_grid=param_grid, \n",
    "                            X_train=X_train, y_train=y4_train, \n",
    "                            X_test=X_test, y_test=y4_test,\n",
    "                            target=target[3], cv=8)"
   ]
  },
  {
   "cell_type": "code",
   "execution_count": 77,
   "metadata": {},
   "outputs": [],
   "source": [
    "from torch import nn\n",
    "import torch\n",
    "\n",
    "class LSTM(nn.Module):\n",
    "    def __init__(self,input_size, hidden_size, num_layers):\n",
    "        super(LSTM, self).__init__()\n",
    "        self.lstm = nn.LSTM(input_size=input_size, hidden_size=hidden_size, num_layers=num_layers, batch_first=True)\n",
    "        self.fc1 = nn.Linear(100, 100)\n",
    "        self.relu = nn.ReLU()\n",
    "        self.fc2 = nn.Linear(100, 4) # 4 classes\n",
    "        self.softmax = nn.Softmax(dim=1)\n",
    "\n",
    "    def forward(self, x):\n",
    "        x = x.unsqueeze(1)\n",
    "        out, _ = self.lstm(x) # 1 * 100\n",
    "        out = self.fc1(out[:, -1, :])\n",
    "        out = self.relu(out)\n",
    "        out = self.fc2(out)\n",
    "        out = self.softmax(out)\n",
    "        return out\n",
    "        \n",
    "class mil_regression(nn.Module):\n",
    "    def __init__(self, input_size=786, hidden_size=100, num_layers=1, output_size=1):\n",
    "        ''' use LSTM for MIL '''\n",
    "        super(mil_regression, self).__init__()\n",
    "        self.net = LSTM(input_size, hidden_size, num_layers)\n",
    "        self.class_num = output_size\n",
    "\n",
    "    def forward(self, inputs):\n",
    "        # input shape: (frame_num, feature_size)\n",
    "        \n",
    "\n",
    "        self.seg_num, self.feature_num = inputs.shape #\n",
    "\n",
    "        # outputs = torch.zeros((self.seg_num, self.class_num)).double.cuda() #  frame * 4（bool）\n",
    "\n",
    "        outputs = self.net(inputs)\n",
    "        # for i in range(self.seg_num):\n",
    "        #     outputs[i,:] = self.net(inputs[i]) # 786\n",
    "\n",
    "        # for idx, seg in enumerate(inputs):\n",
    "        #     seg = Variable(seg).cuda()\n",
    "        #     outputs[idx] = self.net(seg)\n",
    "\n",
    "        # 视频特征 = frame取平均\n",
    "        output = torch.mean(outputs, 1).cuda()\n",
    "        return output"
   ]
  },
  {
   "cell_type": "code",
   "execution_count": null,
   "metadata": {},
   "outputs": [],
   "source": [
    "import torch \n",
    "\n",
    "model = mil_regression().cuda()\n",
    "\n",
    "epochs = 150\n",
    "loss_function = nn.MSELoss()\n",
    "optimizer = torch.optim.Adam(model.parameters(), lr=0.001)\n",
    "\n",
    "for epoch in range(epochs):\n",
    "    for i in range(len(X_train)): # 每次处理一个视频(对batch)\n",
    "\n",
    "        x = torch.tensor(X_train[i]).float().cuda()\n",
    "        y = torch.tensor(y_train[i]).float().cuda()\n",
    "        \n",
    "\n",
    "        if len(x.shape) ==1:\n",
    "            continue\n",
    "\n",
    "        optimizer.zero_grad()\n",
    "        \n",
    "        y_pred = model(x)\n",
    "\n",
    "        single_loss = loss_function(y_pred, y)\n",
    "        single_loss.backward()\n",
    "        optimizer.step()\n",
    "        \n",
    "        # if (i+1) % 10 == 0:\n",
    "        #     print('Epoch [{}/{}], Step [{}/{}], Loss: {:.4f}'.format(epoch+1, epochs, i+1, len(X_train), single_loss.item()))\n",
    "\n",
    "    if i%25 == 1:\n",
    "        print(f'epoch: {i:3} loss: {single_loss.item():10.8f}')\n",
    "\n",
    "print(f'epoch: {i:3} loss: {single_loss.item():10.10f}')"
   ]
  },
  {
   "cell_type": "code",
   "execution_count": null,
   "metadata": {},
   "outputs": [],
   "source": [
    "with torch.no_grad():\n",
    "    \n",
    "    correct = 0\n",
    "    total = 0\n",
    "    for i in range(len(X_test)): # 每次处理一个视频(对batch)\n",
    "        x = torch.tensor(X_test[i]).float().cuda()\n",
    "        y = torch.tensor(y_test[i]).float().cuda()\n",
    "        print(y)\n",
    "\n",
    "        if len(x.shape) ==1:\n",
    "            continue\n",
    "\n",
    "        outputs = model(x)\n",
    "        print(outputs)\n",
    "        correct += (outputs == y)"
   ]
  },
  {
   "attachments": {},
   "cell_type": "markdown",
   "metadata": {},
   "source": [
    "### testing"
   ]
  },
  {
   "cell_type": "code",
   "execution_count": 10,
   "metadata": {},
   "outputs": [
    {
     "name": "stdout",
     "output_type": "stream",
     "text": [
      "[array([[ 3. ,  3. ,  3. ],\n",
      "       [ 2. ,  3. , 48.5],\n",
      "       [ 0.5,  1.5, 47. ],\n",
      "       [ 0. ,  0. ,  0. ]]), array([[ 1. ,  1. ,  1. ],\n",
      "       [ 1. ,  1. ,  1. ],\n",
      "       [ 3. , 47.5, 92. ],\n",
      "       [ 3. , 47.5, 92. ]])]\n"
     ]
    }
   ],
   "source": [
    "import numpy as np\n",
    "\n",
    "# 创建一个二维矩阵\n",
    "x = np.array([[1, 2, 3], [4, 5, 6], [5, 8, 100],[5, 8, 100]])\n",
    "\n",
    "# 计算梯度\n",
    "dy = np.gradient(x)\n",
    "\n",
    "# 输出结果\n",
    "print(dy)\n"
   ]
  },
  {
   "cell_type": "code",
   "execution_count": 9,
   "metadata": {},
   "outputs": [
    {
     "name": "stdout",
     "output_type": "stream",
     "text": [
      "[array([nan, nan])]\n"
     ]
    },
    {
     "name": "stderr",
     "output_type": "stream",
     "text": [
      "/tmp/ipykernel_162420/1742590338.py:12: RuntimeWarning: invalid value encountered in divide\n",
      "  d2x.append(np.diff(dx2-dx1) / np.diff(dx3-dx2))\n"
     ]
    }
   ],
   "source": [
    "import numpy as np\n",
    "\n",
    "# 创建一个二维数组\n",
    "x = np.array([[1, 2, 3], [4, 5, 6], [7, 8, 9]])\n",
    "\n",
    "# 计算每一行相邻行之间的二阶导数\n",
    "d2x = []\n",
    "for i in range(1, x.shape[0]-1):\n",
    "    dx1 = np.gradient(x[i-1, :])\n",
    "    dx2 = np.gradient(x[i, :])\n",
    "    dx3 = np.gradient(x[i+1, :])\n",
    "    d2x.append(np.diff(dx2-dx1) / np.diff(dx3-dx2))\n",
    "\n",
    "# 输出结果\n",
    "print(d2x)\n"
   ]
  },
  {
   "cell_type": "code",
   "execution_count": 11,
   "metadata": {},
   "outputs": [
    {
     "name": "stdout",
     "output_type": "stream",
     "text": [
      "[array([1., 1.]), array([1., 1.])]\n"
     ]
    }
   ],
   "source": [
    "import numpy as np\n",
    "\n",
    "# 创建一个二维数组\n",
    "x = np.array([[1, 2, 3], [4, 5, 6], [7, 8, 9]])\n",
    "\n",
    "# 计算每一行数据对上一行数据的导数\n",
    "dx = []\n",
    "for i in range(1, x.shape[0]):\n",
    "    diff = np.diff(x[i, :]) / np.diff(x[i-1, :])\n",
    "    dx.append(diff)\n",
    "\n",
    "# 输出结果\n",
    "print(dx)\n"
   ]
  },
  {
   "cell_type": "code",
   "execution_count": 37,
   "metadata": {},
   "outputs": [
    {
     "name": "stdout",
     "output_type": "stream",
     "text": [
      "   frame  feature\n",
      "0      1      1.0\n",
      "1      2      3.0\n",
      "2      3      5.0\n"
     ]
    }
   ],
   "source": [
    "import pandas as pd\n",
    "\n",
    "# 假设df是一个DataFrame对象，其中包含frame和feature两列\n",
    "df = pd.DataFrame({'frame': [1, 3], 'feature': [1, 5]})\n",
    "\n",
    "# 将df的索引设置为frame列，并增加需要插值的索引值\n",
    "df = df.set_index('frame').reindex(range(df['frame'].min(), df['frame'].max()+1))\n",
    "\n",
    "# 对df进行插值\n",
    "df_interpolated = df.interpolate().reset_index()\n",
    "\n",
    "# 输出插值结果\n",
    "print(df_interpolated)\n"
   ]
  },
  {
   "cell_type": "code",
   "execution_count": null,
   "metadata": {},
   "outputs": [],
   "source": []
  }
 ],
 "metadata": {
  "kernelspec": {
   "display_name": "torch",
   "language": "python",
   "name": "python3"
  },
  "language_info": {
   "codemirror_mode": {
    "name": "ipython",
    "version": 3
   },
   "file_extension": ".py",
   "mimetype": "text/x-python",
   "name": "python",
   "nbconvert_exporter": "python",
   "pygments_lexer": "ipython3",
   "version": "3.8.16"
  },
  "orig_nbformat": 4,
  "vscode": {
   "interpreter": {
    "hash": "1de83ba939c2ac04c4cd5f42769ee29bf75010bc15e3148e0552f0994dd76a71"
   }
  }
 },
 "nbformat": 4,
 "nbformat_minor": 2
}

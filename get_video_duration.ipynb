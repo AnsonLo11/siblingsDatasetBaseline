{
 "cells": [
  {
   "cell_type": "code",
   "execution_count": 1,
   "metadata": {},
   "outputs": [],
   "source": [
    "import csv\n",
    "import pandas as pd\n",
    "import numpy as np\n",
    "import subprocess"
   ]
  },
  {
   "cell_type": "code",
   "execution_count": 2,
   "metadata": {},
   "outputs": [],
   "source": [
    "import os\n",
    "import pandas as pd\n",
    "label1 = pd.read_csv('clean_label_231017/1016_互动情况.csv',header=0).iloc[:,:3]"
   ]
  },
  {
   "cell_type": "code",
   "execution_count": 8,
   "metadata": {},
   "outputs": [
    {
     "name": "stdout",
     "output_type": "stream",
     "text": [
      "[ERROR] in /home/ansonlo/project/videoBaseline/video_1024/27YS_20230319_05/VCAM_0053/VCAM_0053_167.mp4\n",
      "写入{'路径': ['24YS_20230319_02/VCAM_0041_4\\t1\\t0'], '时长': [5.634]}\n",
      "[ERROR] in /home/ansonlo/project/videoBaseline/video_1024/27YS_20230319_05/VCAM_0053/VCAM_0053_167.mp4\n",
      "写入{'路径': ['24YS_20230319_02/VCAM_0041_10\\t1\\t0'], '时长': [8.9]}\n",
      "[ERROR] in /home/ansonlo/project/videoBaseline/video_1024/27YS_20230319_05/VCAM_0053/VCAM_0053_167.mp4\n",
      "写入{'路径': ['24YS_20230319_02/VCAM_0041_14\\t1\\t0'], '时长': [6.134]}\n",
      "[ERROR] in /home/ansonlo/project/videoBaseline/video_1024/27YS_20230319_05/VCAM_0053/VCAM_0053_167.mp4\n",
      "写入{'路径': ['24YS_20230319_02/VCAM_0041_39\\t1\\t0'], '时长': [4.467]}\n",
      "[ERROR] in /home/ansonlo/project/videoBaseline/video_1024/27YS_20230319_05/VCAM_0053/VCAM_0053_167.mp4\n",
      "写入{'路径': ['24YS_20230319_02/VCAM_0041_40\\t0\\t1'], '时长': [4.467]}\n"
     ]
    }
   ],
   "source": [
    "df = pd.DataFrame(columns=['路径', '时长'])\n",
    "df_list = []\n",
    "\n",
    "\n",
    "for i in range(0,len(label1)): # since all labels have the same length\n",
    "    directory = label1.iloc[i, 0]\n",
    "    \n",
    "    try:\n",
    "        # VCAM number\n",
    "        Date = directory.split('/')[0] # 15YS_20230317_01\n",
    "        Vcam = directory.split('/')[-1] # # VCAM_xxxx_xx\\t1\\t0 or 01YS_01 01YS_72_1\\t1\\t0\n",
    "        Vcam = Vcam[:-4]  # VCAM_xxxx_xx del the unwanted \\t1\\t0\n",
    "        # 新旧数据目录不一致\n",
    "        if Vcam[:4] == 'VCAM':\n",
    "            VcamID = Vcam.split('_')[1] # xxxx\n",
    "            # reconstruct the correct Openpose directory\n",
    "            video_directory = os.path.join('/home/ansonlo/project/videoBaseline/video_1024', Date,'VCAM_'+VcamID, Vcam) # 15YS_20230317_01 / VCAM_xxxx / VCAM_xxxx_xx\n",
    "            mp4_directory = video_directory+'.mp4'\n",
    "            \n",
    "        else:\n",
    "            if int(Vcam[:2])<=6: # 01 - 06ys\n",
    "                video_directory = os.path.join('/home/ansonlo/project/videoBaseline/video_1024/output', Vcam[:2]+'YS', Date, Vcam) # 01YS_20230317_01_xxxxxx / 01_YS_01 \n",
    "                mp4_directory = video_directory+'.mp4'\n",
    "            else:\n",
    "                video_directory = os.path.join('/home/ansonlo/project/videoBaseline/video_1024/output', Date, Vcam) # 01YS_20230317_01_xxxxxx / 01_YS_01 \n",
    "                mp4_directory = video_directory+'.mp4'\n",
    "\n",
    "        # mp4_files.append(mp4_directory)\n",
    "        # print(mp4_directory)  \n",
    "        try:\n",
    "            # 使用ffprobe命令行工具获取视频元数据信息\n",
    "            command = ['ffprobe', '-v', 'error', '-show_entries', 'format=duration', '-of', 'default=noprint_wrappers=1:nokey=1', mp4_directory]\n",
    "            result = subprocess.run(command, capture_output=True, text=True)\n",
    "            \n",
    "            # 获取视频时长（以秒为单位）\n",
    "            duration = float(result.stdout.strip())\n",
    "            \n",
    "            # 创建一个临时DataFrame来保存路径和时长\n",
    "            temp_df = pd.DataFrame({'路径': [directory], '时长': [duration]})\n",
    "            \n",
    "            # 将路径和时长添加到DataFrame中\n",
    "            df_list.append(temp_df)\n",
    "        except:\n",
    "            print(\"[ERROR] in \"+mp4_file)\n",
    "            print(\"写入\"+str({'路径': [directory], '时长': [duration]}))\n",
    "            # missing file\n",
    "            temp_df = pd.DataFrame({'路径': [directory], '时长': [duration]})\n",
    "            \n",
    "            # 将路径和时长添加到DataFrame中\n",
    "            df_list.append(temp_df)     \n",
    "    except:\n",
    "        print(f\"[load error]:{directory}\")\n"
   ]
  },
  {
   "cell_type": "code",
   "execution_count": 5,
   "metadata": {},
   "outputs": [
    {
     "name": "stdout",
     "output_type": "stream",
     "text": [
      "[ERROR] in /home/ansonlo/project/videoBaseline/video_1024/24YS_20230319_02/VCAM_0041/VCAM_0041_4.mp4\n",
      "写入{'路径': ['/home/ansonlo/project/videoBaseline/video_1024/24YS_20230319_02/VCAM_0041/VCAM_0041_4.mp4'], '时长': [5.634]}\n",
      "[ERROR] in /home/ansonlo/project/videoBaseline/video_1024/24YS_20230319_02/VCAM_0041/VCAM_0041_10.mp4\n",
      "写入{'路径': ['/home/ansonlo/project/videoBaseline/video_1024/24YS_20230319_02/VCAM_0041/VCAM_0041_10.mp4'], '时长': [8.9]}\n",
      "[ERROR] in /home/ansonlo/project/videoBaseline/video_1024/24YS_20230319_02/VCAM_0041/VCAM_0041_14.mp4\n",
      "写入{'路径': ['/home/ansonlo/project/videoBaseline/video_1024/24YS_20230319_02/VCAM_0041/VCAM_0041_14.mp4'], '时长': [6.134]}\n",
      "[ERROR] in /home/ansonlo/project/videoBaseline/video_1024/24YS_20230319_02/VCAM_0041/VCAM_0041_39.mp4\n",
      "写入{'路径': ['/home/ansonlo/project/videoBaseline/video_1024/24YS_20230319_02/VCAM_0041/VCAM_0041_39.mp4'], '时长': [4.467]}\n",
      "[ERROR] in /home/ansonlo/project/videoBaseline/video_1024/24YS_20230319_02/VCAM_0041/VCAM_0041_40.mp4\n",
      "写入{'路径': ['/home/ansonlo/project/videoBaseline/video_1024/24YS_20230319_02/VCAM_0041/VCAM_0041_40.mp4'], '时长': [4.467]}\n"
     ]
    }
   ],
   "source": [
    "import subprocess\n",
    "import pandas as pd\n",
    "\n",
    "\n",
    "# 创建一个空的DataFrame来保存路径和时长\n",
    "df = pd.DataFrame(columns=['路径', '时长'])\n",
    "df_list = []\n",
    "\n",
    "# 遍历MP4文件路径列表\n",
    "for mp4_file in mp4_files:\n",
    "    try:\n",
    "        # 使用ffprobe命令行工具获取视频元数据信息\n",
    "        command = ['ffprobe', '-v', 'error', '-show_entries', 'format=duration', '-of', 'default=noprint_wrappers=1:nokey=1', mp4_file]\n",
    "        result = subprocess.run(command, capture_output=True, text=True)\n",
    "        \n",
    "        # 获取视频时长（以秒为单位）\n",
    "        duration = float(result.stdout.strip())\n",
    "        \n",
    "        # 创建一个临时DataFrame来保存路径和时长\n",
    "        temp_df = pd.DataFrame({'路径': [mp4_file], '时长': [duration]})\n",
    "        \n",
    "        # 将路径和时长添加到DataFrame中\n",
    "        df_list.append(temp_df)\n",
    "    except:\n",
    "        print(\"[ERROR] in \"+mp4_file)\n",
    "        print(\"写入\"+str({'路径': [mp4_file], '时长': [duration]}))\n",
    "        # missing file\n",
    "        temp_df = pd.DataFrame({'路径': [mp4_file], '时长': [duration]})\n",
    "        \n",
    "        # 将路径和时长添加到DataFrame中\n",
    "        df_list.append(temp_df)\n",
    "# # 保存DataFrame为CSV文件\n",
    "# df.to_csv('/path/to/output.csv', index=False)"
   ]
  },
  {
   "cell_type": "code",
   "execution_count": 9,
   "metadata": {},
   "outputs": [
    {
     "name": "stdout",
     "output_type": "stream",
     "text": [
      "8624\n"
     ]
    }
   ],
   "source": [
    "print(len(df_list))"
   ]
  },
  {
   "cell_type": "code",
   "execution_count": 10,
   "metadata": {},
   "outputs": [],
   "source": [
    "# 将所有临时DataFrame连接成一个DataFrame\n",
    "df = pd.concat(df_list, ignore_index=True)\n",
    "\n",
    "# 保存DataFrame为CSV文件\n",
    "df.to_csv('video_length.csv', index=False)"
   ]
  }
 ],
 "metadata": {
  "kernelspec": {
   "display_name": "torch",
   "language": "python",
   "name": "python3"
  },
  "language_info": {
   "codemirror_mode": {
    "name": "ipython",
    "version": 3
   },
   "file_extension": ".py",
   "mimetype": "text/x-python",
   "name": "python",
   "nbconvert_exporter": "python",
   "pygments_lexer": "ipython3",
   "version": "3.8.16"
  },
  "orig_nbformat": 4
 },
 "nbformat": 4,
 "nbformat_minor": 2
}

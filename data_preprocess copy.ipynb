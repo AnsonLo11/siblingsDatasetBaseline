{
 "cells": [
  {
   "attachments": {},
   "cell_type": "markdown",
   "metadata": {},
   "source": []
  },
  {
   "attachments": {},
   "cell_type": "markdown",
   "metadata": {},
   "source": [
    "### DATA"
   ]
  },
  {
   "attachments": {},
   "cell_type": "markdown",
   "metadata": {},
   "source": [
    "需要分别读入face和pose的数据并对应起来\n",
    "- 对于siblings_face 需要读入json  \n",
    "- 对于siblings_pose 需要读入csv    \n",
    "- 对于Label 需要读入csv\n",
    "\n",
    "\n",
    "*特别注意对于face，需要去除置信度小于阈值的数据  \n",
    "*要将video的label扩展到每个frame"
   ]
  },
  {
   "cell_type": "code",
   "execution_count": 1,
   "metadata": {},
   "outputs": [],
   "source": [
    "import csv\n",
    "import pandas as pd\n",
    "import numpy as np\n",
    "import json"
   ]
  },
  {
   "attachments": {},
   "cell_type": "markdown",
   "metadata": {},
   "source": [
    "1. label1 回应情况"
   ]
  },
  {
   "cell_type": "code",
   "execution_count": 35,
   "metadata": {},
   "outputs": [],
   "source": [
    "import os\n",
    "import pandas as pd\n",
    "\n",
    "# 读取标签文件\n",
    "\n",
    "# 1. 回应情况- ok\n",
    "label1_1 = pd.read_csv('labelA/回应情况-表格 1.csv',header=1).iloc[:,:5]\n",
    "label1_2 = pd.read_csv('label_2/回应情况-表格 1.csv',header=1 ).iloc[:,:5]\n",
    "# label1_3 = pd.read_csv('label_3/回应情况-表格 1.csv')\n",
    "\n",
    "label1 = pd.concat([label1_1, label1_2], axis=0)\n",
    "label1 = label1.rename(columns={\"Unnamed: 0\":\"切片ID\"})\n",
    "\n",
    "\n"
   ]
  },
  {
   "cell_type": "code",
   "execution_count": 36,
   "metadata": {},
   "outputs": [
    {
     "data": {
      "text/html": [
       "<div>\n",
       "<style scoped>\n",
       "    .dataframe tbody tr th:only-of-type {\n",
       "        vertical-align: middle;\n",
       "    }\n",
       "\n",
       "    .dataframe tbody tr th {\n",
       "        vertical-align: top;\n",
       "    }\n",
       "\n",
       "    .dataframe thead th {\n",
       "        text-align: right;\n",
       "    }\n",
       "</style>\n",
       "<table border=\"1\" class=\"dataframe\">\n",
       "  <thead>\n",
       "    <tr style=\"text-align: right;\">\n",
       "      <th></th>\n",
       "      <th>切片ID</th>\n",
       "      <th>强</th>\n",
       "      <th>中</th>\n",
       "      <th>弱</th>\n",
       "      <th>没有回应（忽视）</th>\n",
       "    </tr>\n",
       "  </thead>\n",
       "  <tbody>\n",
       "    <tr>\n",
       "      <th>0</th>\n",
       "      <td>15YS_20230317_01/VCAM_0000</td>\n",
       "      <td>0</td>\n",
       "      <td>0</td>\n",
       "      <td>1</td>\n",
       "      <td>0</td>\n",
       "    </tr>\n",
       "    <tr>\n",
       "      <th>1</th>\n",
       "      <td>15YS_20230317_01/VCAM_0000_1</td>\n",
       "      <td>0</td>\n",
       "      <td>0</td>\n",
       "      <td>1</td>\n",
       "      <td>0</td>\n",
       "    </tr>\n",
       "    <tr>\n",
       "      <th>2</th>\n",
       "      <td>15YS_20230317_01/VCAM_0000_2</td>\n",
       "      <td>1</td>\n",
       "      <td>0</td>\n",
       "      <td>0</td>\n",
       "      <td>0</td>\n",
       "    </tr>\n",
       "    <tr>\n",
       "      <th>3</th>\n",
       "      <td>15YS_20230317_01/VCAM_0000_3</td>\n",
       "      <td>0</td>\n",
       "      <td>0</td>\n",
       "      <td>1</td>\n",
       "      <td>0</td>\n",
       "    </tr>\n",
       "    <tr>\n",
       "      <th>4</th>\n",
       "      <td>15YS_20230317_01/VCAM_0000_4</td>\n",
       "      <td>1</td>\n",
       "      <td>0</td>\n",
       "      <td>0</td>\n",
       "      <td>0</td>\n",
       "    </tr>\n",
       "  </tbody>\n",
       "</table>\n",
       "</div>"
      ],
      "text/plain": [
       "                           切片ID  强  中  弱  没有回应（忽视）\n",
       "0    15YS_20230317_01/VCAM_0000  0  0  1         0\n",
       "1  15YS_20230317_01/VCAM_0000_1  0  0  1         0\n",
       "2  15YS_20230317_01/VCAM_0000_2  1  0  0         0\n",
       "3  15YS_20230317_01/VCAM_0000_3  0  0  1         0\n",
       "4  15YS_20230317_01/VCAM_0000_4  1  0  0         0"
      ]
     },
     "execution_count": 36,
     "metadata": {},
     "output_type": "execute_result"
    }
   ],
   "source": [
    "label1.head()"
   ]
  },
  {
   "cell_type": "code",
   "execution_count": 17,
   "metadata": {},
   "outputs": [
    {
     "data": {
      "text/plain": [
       "(3997, 6)"
      ]
     },
     "execution_count": 17,
     "metadata": {},
     "output_type": "execute_result"
    }
   ],
   "source": [
    "label1.shape"
   ]
  },
  {
   "cell_type": "code",
   "execution_count": 4,
   "metadata": {},
   "outputs": [
    {
     "data": {
      "text/plain": [
       "'0000'"
      ]
     },
     "execution_count": 4,
     "metadata": {},
     "output_type": "execute_result"
    }
   ],
   "source": [
    "label1.iloc[1,0][-4:]"
   ]
  },
  {
   "attachments": {},
   "cell_type": "markdown",
   "metadata": {},
   "source": [
    "2. label2 互动情况积极与消极"
   ]
  },
  {
   "cell_type": "code",
   "execution_count": 47,
   "metadata": {},
   "outputs": [],
   "source": [
    "# 2.互动情况的消极与积极\n",
    "label2_1 = pd.read_csv('labelA/互动情况的消极与积极-表格 1.csv',header=1).iloc[:,:6]\n",
    "label2_2 = pd.read_csv('label_2/互动情况的消极与积极-表格 1.csv',header=1).iloc[:,:6]\n",
    "\n",
    "label2 = pd.concat([label2_1, label2_2], axis=0)\n",
    "label2 = label2.rename(columns={\"Unnamed: 0\":\"切片ID\"})\n",
    "\n",
    "# # 合并整体和部分(积极消极情况)\n",
    "label2['积极'] = label2[['整体积极','部分积极']].sum(axis=1)\n",
    "label2['消极'] = label2[['整体消极','部分消极']].sum(axis=1)\n",
    "\n",
    "label2 = label2.drop(['整体积极','部分积极','部分消极','整体消极'],axis=1)"
   ]
  },
  {
   "cell_type": "code",
   "execution_count": 48,
   "metadata": {},
   "outputs": [
    {
     "data": {
      "text/html": [
       "<div>\n",
       "<style scoped>\n",
       "    .dataframe tbody tr th:only-of-type {\n",
       "        vertical-align: middle;\n",
       "    }\n",
       "\n",
       "    .dataframe tbody tr th {\n",
       "        vertical-align: top;\n",
       "    }\n",
       "\n",
       "    .dataframe thead th {\n",
       "        text-align: right;\n",
       "    }\n",
       "</style>\n",
       "<table border=\"1\" class=\"dataframe\">\n",
       "  <thead>\n",
       "    <tr style=\"text-align: right;\">\n",
       "      <th></th>\n",
       "      <th>切片ID</th>\n",
       "      <th>中性</th>\n",
       "      <th>积极</th>\n",
       "      <th>消极</th>\n",
       "    </tr>\n",
       "  </thead>\n",
       "  <tbody>\n",
       "    <tr>\n",
       "      <th>0</th>\n",
       "      <td>15YS_20230317_01/VCAM_0000</td>\n",
       "      <td>0</td>\n",
       "      <td>1</td>\n",
       "      <td>0</td>\n",
       "    </tr>\n",
       "    <tr>\n",
       "      <th>1</th>\n",
       "      <td>15YS_20230317_01/VCAM_0000_1</td>\n",
       "      <td>0</td>\n",
       "      <td>1</td>\n",
       "      <td>0</td>\n",
       "    </tr>\n",
       "    <tr>\n",
       "      <th>2</th>\n",
       "      <td>15YS_20230317_01/VCAM_0000_2</td>\n",
       "      <td>0</td>\n",
       "      <td>1</td>\n",
       "      <td>0</td>\n",
       "    </tr>\n",
       "    <tr>\n",
       "      <th>3</th>\n",
       "      <td>15YS_20230317_01/VCAM_0000_3</td>\n",
       "      <td>0</td>\n",
       "      <td>1</td>\n",
       "      <td>0</td>\n",
       "    </tr>\n",
       "    <tr>\n",
       "      <th>4</th>\n",
       "      <td>15YS_20230317_01/VCAM_0000_4</td>\n",
       "      <td>0</td>\n",
       "      <td>1</td>\n",
       "      <td>0</td>\n",
       "    </tr>\n",
       "  </tbody>\n",
       "</table>\n",
       "</div>"
      ],
      "text/plain": [
       "                           切片ID  中性  积极  消极\n",
       "0    15YS_20230317_01/VCAM_0000   0   1   0\n",
       "1  15YS_20230317_01/VCAM_0000_1   0   1   0\n",
       "2  15YS_20230317_01/VCAM_0000_2   0   1   0\n",
       "3  15YS_20230317_01/VCAM_0000_3   0   1   0\n",
       "4  15YS_20230317_01/VCAM_0000_4   0   1   0"
      ]
     },
     "execution_count": 48,
     "metadata": {},
     "output_type": "execute_result"
    }
   ],
   "source": [
    "label2.head()"
   ]
  },
  {
   "attachments": {},
   "cell_type": "markdown",
   "metadata": {},
   "source": [
    "3. label3 任务专注"
   ]
  },
  {
   "cell_type": "code",
   "execution_count": 37,
   "metadata": {},
   "outputs": [],
   "source": [
    "# 3.任务专注\n",
    "label3_1 = pd.read_csv('labelA/任务专注-表格 1.csv',header=1).iloc[:,:3]\n",
    "label3_2 = pd.read_csv('label_2/任务专注-表格 1.csv',header=1).iloc[:,:3]\n",
    "\n",
    "label3 = pd.concat([label3_1, label3_2], axis=0)\n",
    "label3 = label3.rename(columns={\"Unnamed: 0\":\"切片ID\"})"
   ]
  },
  {
   "cell_type": "code",
   "execution_count": 38,
   "metadata": {},
   "outputs": [
    {
     "data": {
      "text/html": [
       "<div>\n",
       "<style scoped>\n",
       "    .dataframe tbody tr th:only-of-type {\n",
       "        vertical-align: middle;\n",
       "    }\n",
       "\n",
       "    .dataframe tbody tr th {\n",
       "        vertical-align: top;\n",
       "    }\n",
       "\n",
       "    .dataframe thead th {\n",
       "        text-align: right;\n",
       "    }\n",
       "</style>\n",
       "<table border=\"1\" class=\"dataframe\">\n",
       "  <thead>\n",
       "    <tr style=\"text-align: right;\">\n",
       "      <th></th>\n",
       "      <th>切片ID</th>\n",
       "      <th>专注（任务中）</th>\n",
       "      <th>走神（任务外）</th>\n",
       "    </tr>\n",
       "  </thead>\n",
       "  <tbody>\n",
       "    <tr>\n",
       "      <th>0</th>\n",
       "      <td>15YS_20230317_01/VCAM_0000</td>\n",
       "      <td>1</td>\n",
       "      <td>0</td>\n",
       "    </tr>\n",
       "    <tr>\n",
       "      <th>1</th>\n",
       "      <td>15YS_20230317_01/VCAM_0000_1</td>\n",
       "      <td>1</td>\n",
       "      <td>0</td>\n",
       "    </tr>\n",
       "    <tr>\n",
       "      <th>2</th>\n",
       "      <td>15YS_20230317_01/VCAM_0000_2</td>\n",
       "      <td>1</td>\n",
       "      <td>0</td>\n",
       "    </tr>\n",
       "    <tr>\n",
       "      <th>3</th>\n",
       "      <td>15YS_20230317_01/VCAM_0000_3</td>\n",
       "      <td>1</td>\n",
       "      <td>0</td>\n",
       "    </tr>\n",
       "    <tr>\n",
       "      <th>4</th>\n",
       "      <td>15YS_20230317_01/VCAM_0000_4</td>\n",
       "      <td>1</td>\n",
       "      <td>0</td>\n",
       "    </tr>\n",
       "  </tbody>\n",
       "</table>\n",
       "</div>"
      ],
      "text/plain": [
       "                           切片ID  专注（任务中）  走神（任务外）\n",
       "0    15YS_20230317_01/VCAM_0000        1        0\n",
       "1  15YS_20230317_01/VCAM_0000_1        1        0\n",
       "2  15YS_20230317_01/VCAM_0000_2        1        0\n",
       "3  15YS_20230317_01/VCAM_0000_3        1        0\n",
       "4  15YS_20230317_01/VCAM_0000_4        1        0"
      ]
     },
     "execution_count": 38,
     "metadata": {},
     "output_type": "execute_result"
    }
   ],
   "source": [
    "label3.head()"
   ]
  },
  {
   "attachments": {},
   "cell_type": "markdown",
   "metadata": {},
   "source": [
    "4. label4 任务内外的互动行为"
   ]
  },
  {
   "cell_type": "code",
   "execution_count": 41,
   "metadata": {},
   "outputs": [],
   "source": [
    "# 4.互动行为\n",
    "label4_1_1 = pd.read_csv('labelA/任务外的互动行为-表格 1.csv',header=1).iloc[:,:5]\n",
    "label4_1_2 = pd.read_csv('labelA/任务中的互动行为-表格 1.csv',header=1).iloc[:,1:5]\n",
    "label4_2_1 = pd.read_csv('label_2/任务外的互动行为-表格 1.csv',header=1).iloc[:,:5]\n",
    "label4_2_2 = pd.read_csv('label_2/任务中的互动行为-表格 1.csv',header=1).iloc[:,1:5]\n",
    "\n",
    "# 行连接\n",
    "label4_1 = pd.concat([label4_1_1, label4_1_2], axis=1)\n",
    "label4_2 = pd.concat([label4_2_1, label4_2_2], axis=1)\n",
    "\n",
    "label4 = pd.concat([label4_1, label4_2], axis=0)\n",
    "label4 = label4.rename(columns={\"Unnamed: 0\":\"切片ID\"})"
   ]
  },
  {
   "cell_type": "code",
   "execution_count": 42,
   "metadata": {},
   "outputs": [
    {
     "data": {
      "text/html": [
       "<div>\n",
       "<style scoped>\n",
       "    .dataframe tbody tr th:only-of-type {\n",
       "        vertical-align: middle;\n",
       "    }\n",
       "\n",
       "    .dataframe tbody tr th {\n",
       "        vertical-align: top;\n",
       "    }\n",
       "\n",
       "    .dataframe thead th {\n",
       "        text-align: right;\n",
       "    }\n",
       "</style>\n",
       "<table border=\"1\" class=\"dataframe\">\n",
       "  <thead>\n",
       "    <tr style=\"text-align: right;\">\n",
       "      <th></th>\n",
       "      <th>切片ID</th>\n",
       "      <th>玩乐</th>\n",
       "      <th>闲聊</th>\n",
       "      <th>一人独立尝试一人摸鱼\\n</th>\n",
       "      <th>各自神游</th>\n",
       "      <th>主导</th>\n",
       "      <th>支持</th>\n",
       "      <th>旁观</th>\n",
       "      <th>冲突</th>\n",
       "    </tr>\n",
       "  </thead>\n",
       "  <tbody>\n",
       "    <tr>\n",
       "      <th>0</th>\n",
       "      <td>15YS_20230317_01/VCAM_0000</td>\n",
       "      <td>0</td>\n",
       "      <td>0</td>\n",
       "      <td>0</td>\n",
       "      <td>0</td>\n",
       "      <td>0</td>\n",
       "      <td>0</td>\n",
       "      <td>1</td>\n",
       "      <td>0</td>\n",
       "    </tr>\n",
       "    <tr>\n",
       "      <th>1</th>\n",
       "      <td>15YS_20230317_01/VCAM_0000_1</td>\n",
       "      <td>0</td>\n",
       "      <td>0</td>\n",
       "      <td>0</td>\n",
       "      <td>0</td>\n",
       "      <td>0</td>\n",
       "      <td>0</td>\n",
       "      <td>1</td>\n",
       "      <td>0</td>\n",
       "    </tr>\n",
       "    <tr>\n",
       "      <th>2</th>\n",
       "      <td>15YS_20230317_01/VCAM_0000_2</td>\n",
       "      <td>0</td>\n",
       "      <td>0</td>\n",
       "      <td>0</td>\n",
       "      <td>0</td>\n",
       "      <td>1</td>\n",
       "      <td>0</td>\n",
       "      <td>0</td>\n",
       "      <td>0</td>\n",
       "    </tr>\n",
       "    <tr>\n",
       "      <th>3</th>\n",
       "      <td>15YS_20230317_01/VCAM_0000_3</td>\n",
       "      <td>0</td>\n",
       "      <td>0</td>\n",
       "      <td>0</td>\n",
       "      <td>0</td>\n",
       "      <td>1</td>\n",
       "      <td>0</td>\n",
       "      <td>0</td>\n",
       "      <td>0</td>\n",
       "    </tr>\n",
       "    <tr>\n",
       "      <th>4</th>\n",
       "      <td>15YS_20230317_01/VCAM_0000_4</td>\n",
       "      <td>0</td>\n",
       "      <td>0</td>\n",
       "      <td>0</td>\n",
       "      <td>0</td>\n",
       "      <td>1</td>\n",
       "      <td>0</td>\n",
       "      <td>0</td>\n",
       "      <td>0</td>\n",
       "    </tr>\n",
       "  </tbody>\n",
       "</table>\n",
       "</div>"
      ],
      "text/plain": [
       "                           切片ID  玩乐  闲聊  一人独立尝试一人摸鱼\\n  各自神游  主导  支持  旁观  冲突\n",
       "0    15YS_20230317_01/VCAM_0000   0   0             0     0   0   0   1   0\n",
       "1  15YS_20230317_01/VCAM_0000_1   0   0             0     0   0   0   1   0\n",
       "2  15YS_20230317_01/VCAM_0000_2   0   0             0     0   1   0   0   0\n",
       "3  15YS_20230317_01/VCAM_0000_3   0   0             0     0   1   0   0   0\n",
       "4  15YS_20230317_01/VCAM_0000_4   0   0             0     0   1   0   0   0"
      ]
     },
     "execution_count": 42,
     "metadata": {},
     "output_type": "execute_result"
    }
   ],
   "source": [
    "label4.head()"
   ]
  },
  {
   "cell_type": "code",
   "execution_count": 4,
   "metadata": {},
   "outputs": [],
   "source": [
    "# missing features\n",
    "\n",
    "missing =[\"19YS_20230318_03/VCAM_0017_1\", \"19YS_20230318_03/VCAM_0016\", \"19YS_20230318_03/VCAM_0016_1\"]\n",
    "\n",
    "for i in missing:\n",
    "    label1 = label1[label1['切片ID'] != i]\n",
    "    label2 = label2[label2['切片ID'] != i]\n",
    "    label3 = label3[label3['切片ID'] != i]\n",
    "    label4 = label4[label4['切片ID'] != i]\n"
   ]
  },
  {
   "attachments": {},
   "cell_type": "markdown",
   "metadata": {},
   "source": [
    "### 合并读取face和pose特征  \n",
    "按照视频读取frame"
   ]
  },
  {
   "cell_type": "code",
   "execution_count": 5,
   "metadata": {},
   "outputs": [],
   "source": [
    "def get_vel_and_acc(features):\n",
    "    \"\"\"\n",
    "    cal the mean and var of velocity and acceleration respectively of input features\n",
    "    \"\"\"\n",
    "    try:\n",
    "        first_order_derivatives = np.gradient(features, axis=0)\n",
    "        second_order_derivatives = np.gradient(first_order_derivatives, axis=0)\n",
    "    except:\n",
    "        print(\"Error in get_vel_and_acc\")\n",
    "        print(features.shape)\n",
    "        print(print(f\"len:{len(face_df0)} and {len(face_df1)}\"))\n",
    "        print(max_fm)\n",
    "        print(\"------------------\")\n",
    "\n",
    "    # velecity\n",
    "    vel_means = np.mean(first_order_derivatives, axis=0)\n",
    "    vel_var = np.var(first_order_derivatives, axis=0)\n",
    "\n",
    "    # acceleration\n",
    "    acc_means = np.mean(second_order_derivatives, axis=0)\n",
    "    acc_var = np.var(second_order_derivatives, axis=0)\n",
    "    \n",
    "    return vel_means, vel_var, acc_means, acc_var\n"
   ]
  },
  {
   "cell_type": "code",
   "execution_count": 6,
   "metadata": {},
   "outputs": [
    {
     "name": "stdout",
     "output_type": "stream",
     "text": [
      "[face error] in siblings_face_1024/VCAM_0011_22.csv: not enough frames\n",
      "[face error] in siblings_face_1024/VCAM_0011_29.csv: not enough frames\n",
      "[face error] in siblings_face_1024/VCAM_0011_103.csv: not enough frames\n",
      "[face error] in siblings_face_1024/VCAM_0011_144.csv: not enough frames\n",
      "[face error] in siblings_face_1024/VCAM_0010_8.csv: not enough frames\n",
      "[face error] in siblings_face_1024/VCAM_0010_29.csv: not enough frames\n",
      "[face error] in siblings_face_1024/VCAM_0010_55.csv: not enough frames\n",
      "[face error] in siblings_face_1024/VCAM_0010_108.csv: not enough frames\n",
      "[face error] in siblings_face_1024/VCAM_0010_112.csv: not enough frames\n",
      "[face error] in siblings_face_1024/VCAM_0009_14.csv: not enough frames\n",
      "[face error] in siblings_face_1024/VCAM_0009_17.csv: not enough frames\n",
      "[face error] in siblings_face_1024/VCAM_0009_19.csv: not enough frames\n",
      "[face error] in siblings_face_1024/VCAM_0009_24.csv: not enough frames\n",
      "[face error] in siblings_face_1024/VCAM_0009_31.csv: not enough frames\n",
      "[face error] in siblings_face_1024/VCAM_0009_32.csv: not enough frames\n",
      "[face error] in siblings_face_1024/VCAM_0009_35.csv: not enough frames\n",
      "[face error] in siblings_face_1024/VCAM_0009_39.csv: not enough frames\n",
      "[face error] in siblings_face_1024/VCAM_0009_40.csv: not enough frames\n",
      "[face error] in siblings_face_1024/VCAM_0009_41.csv: not enough frames\n",
      "[face error] in siblings_face_1024/VCAM_0009_42.csv: not enough frames\n",
      "[face error] in siblings_face_1024/VCAM_0009_43.csv: not enough frames\n",
      "[face error] in siblings_face_1024/VCAM_0009_44.csv: not enough frames\n",
      "[face error] in siblings_face_1024/VCAM_0009_76.csv: not enough frames\n",
      "[face error] in siblings_face_1024/VCAM_0009_95.csv: not enough frames\n",
      "[face error] in siblings_face_1024/VCAM_0009_101.csv: not enough frames\n",
      "[face error] in siblings_face_1024/VCAM_0008_51.csv: not enough frames\n",
      "[face error] in siblings_face_1024/VCAM_0008_98.csv: not enough frames\n",
      "[face error] in siblings_face_1024/VCAM_0008_158.csv: not enough frames\n",
      "[face error] in siblings_face_1024/VCAM_0008_159.csv: not enough frames\n",
      "[face error] in siblings_face_1024/VCAM_0015_12.csv: not enough frames\n",
      "[face error] in siblings_face_1024/VCAM_0015_13.csv: not enough frames\n",
      "[face error] in siblings_face_1024/VCAM_0015_27.csv: not enough frames\n",
      "[face error] in siblings_face_1024/VCAM_0015_30.csv: not enough frames\n",
      "[face error] in siblings_face_1024/VCAM_0015_32.csv: not enough frames\n",
      "[face error] in siblings_face_1024/VCAM_0015_33.csv: not enough frames\n",
      "[face error] in siblings_face_1024/VCAM_0015_45.csv: not enough frames\n",
      "[face error] in siblings_face_1024/VCAM_0015_69.csv: not enough frames\n",
      "[face error] in siblings_face_1024/VCAM_0015_74.csv: not enough frames\n",
      "[face error] in siblings_face_1024/VCAM_0014.csv: not enough frames\n",
      "[face error] in siblings_face_1024/VCAM_0014_154.csv: not enough frames\n",
      "[face error] in siblings_face_1024/VCAM_0013_9.csv: not enough frames\n",
      "[face error] in siblings_face_1024/VCAM_0013_86.csv: not enough frames\n",
      "[face error] in siblings_face_1024/VCAM_0013_88.csv: not enough frames\n",
      "[face error] in siblings_face_1024/VCAM_0013_96.csv: not enough frames\n",
      "[face error] in siblings_face_1024/VCAM_0013_146.csv: not enough frames\n",
      "[face error] in siblings_face_1024/VCAM_0013_154.csv: not enough frames\n",
      "[pose error] in siblings_face_1024/VCAM_0013_165.csv: not enough frames\n",
      "[pose error]: VCAM_0013_166_000000000000_keypoints.json not exist\n",
      "[pose error] in siblings_face_1024/VCAM_0013_166.csv: not enough frames\n",
      "[pose error]: VCAM_0013_167_000000000000_keypoints.json not exist\n",
      "[pose error] in siblings_face_1024/VCAM_0013_167.csv: not enough frames\n",
      "[pose error]: VCAM_0013_168_000000000000_keypoints.json not exist\n",
      "[pose error] in siblings_face_1024/VCAM_0013_168.csv: not enough frames\n",
      "[pose error]: VCAM_0013_169_000000000000_keypoints.json not exist\n",
      "[pose error] in siblings_face_1024/VCAM_0013_169.csv: not enough frames\n"
     ]
    },
    {
     "name": "stderr",
     "output_type": "stream",
     "text": [
      "/tmp/ipykernel_562253/2068437869.py:170: RuntimeWarning: invalid value encountered in arccos\n",
      "  angles = np.arccos(cos_angles)\n"
     ]
    },
    {
     "name": "stdout",
     "output_type": "stream",
     "text": [
      "[face error] in siblings_face_1024/VCAM_0018_7.csv: not enough frames\n",
      "[face error] in siblings_face_1024/VCAM_0018_59.csv: not enough frames\n",
      "[face error] in siblings_face_1024/VCAM_0018_101.csv: not enough frames\n",
      "[face error] in siblings_face_1024/VCAM_0018_126.csv: not enough frames\n",
      "[face error] in siblings_face_1024/VCAM_0017_10.csv: not enough frames\n",
      "[face error] in siblings_face_1024/VCAM_0017_59.csv: not enough frames\n",
      "[face error] in siblings_face_1024/VCAM_0016_47.csv: not enough frames\n",
      "[pose error] in siblings_face_1024/VCAM_0020.csv: not enough frames\n",
      "[pose error]: VCAM_0020_1_000000000000_keypoints.json not exist\n",
      "[pose error] in siblings_face_1024/VCAM_0020_1.csv: not enough frames\n",
      "[pose error]: VCAM_0021_000000000000_keypoints.json not exist\n",
      "[pose error] in siblings_face_1024/VCAM_0021.csv: not enough frames\n",
      "[pose error]: VCAM_0021_1_000000000000_keypoints.json not exist\n",
      "[pose error] in siblings_face_1024/VCAM_0021_1.csv: not enough frames\n",
      "[face error] in siblings_face_1024/VCAM_0021_9.csv: not enough frames\n",
      "[face error] in siblings_face_1024/VCAM_0021_17.csv: not enough frames\n",
      "[face error] in siblings_face_1024/VCAM_0021_18.csv: not enough frames\n",
      "[face error] in siblings_face_1024/VCAM_0021_61.csv: not enough frames\n",
      "[face error] in siblings_face_1024/VCAM_0023_10.csv: not enough frames\n",
      "[face error] in siblings_face_1024/VCAM_0023_13.csv: not enough frames\n",
      "[face error] in siblings_face_1024/VCAM_0023_25.csv: not enough frames\n",
      "[face error] in siblings_face_1024/VCAM_0023_30.csv: not enough frames\n",
      "[face error] in siblings_face_1024/VCAM_0023_48.csv: not enough frames\n",
      "[face error] in siblings_face_1024/VCAM_0024_136.csv: not enough frames\n",
      "[face error] in siblings_face_1024/VCAM_0024_137.csv: not enough frames\n",
      "[face error] in siblings_face_1024/VCAM_0025_21.csv: not enough frames\n",
      "[face error] in siblings_face_1024/VCAM_0027_11.csv: not enough frames\n",
      "[face error] in siblings_face_1024/VCAM_0027_28.csv: not enough frames\n",
      "[face error] in siblings_face_1024/VCAM_0027_48.csv: not enough frames\n",
      "[face error] in siblings_face_1024/VCAM_0027_73.csv: not enough frames\n",
      "[face error] in siblings_face_1024/VCAM_0027_137.csv: not enough frames\n",
      "[face error] in siblings_face_1024/VCAM_0027_139.csv: not enough frames\n",
      "[face error] in siblings_face_1024/VCAM_0027_161.csv: not enough frames\n",
      "[face error] in siblings_face_1024/VCAM_0027_165.csv: not enough frames\n",
      "[face error] in siblings_face_1024/VCAM_0028_41.csv: not enough frames\n",
      "[face error] in siblings_face_1024/VCAM_0028_42.csv: not enough frames\n",
      "[face error] in siblings_face_1024/VCAM_0028_43.csv: not enough frames\n",
      "[face error] in siblings_face_1024/VCAM_0028_55.csv: not enough frames\n",
      "[face error] in siblings_face_1024/VCAM_0028_57.csv: not enough frames\n",
      "[face error] in siblings_face_1024/VCAM_0028_58.csv: not enough frames\n",
      "[face error] in siblings_face_1024/VCAM_0028_59.csv: not enough frames\n",
      "[face error] in siblings_face_1024/VCAM_0028_122.csv: not enough frames\n",
      "[face error] in siblings_face_1024/VCAM_0029_121.csv: not enough frames\n",
      "Total face feat:936507, pose feat:192635\n",
      "Read in videos X:3032, face_feat:694744,pose_feat:191272\n",
      "Drop 241763 face features, 1363 pose features\n"
     ]
    }
   ],
   "source": [
    "# set openface confidence threshold\n",
    "confidence_threshold = 0.1\n",
    "\n",
    "# 导入特征并对齐标签\n",
    "low_video_features = []\n",
    "high_video_features = []\n",
    "video_labels = []\n",
    "labels = []\n",
    "frame2video_id = [] # 记录frame属于哪个video\n",
    "# 记录原本有多少条记录\n",
    "face_count = 0\n",
    "pose_count = 0\n",
    "# 记录读入的记录\n",
    "rface_count = 0\n",
    "rpose_count = 0\n",
    "\n",
    "# for each video\n",
    "for i in range(1,len(label)):\n",
    "    directory = label.iloc[i, 0]\n",
    "    frame_features = []\n",
    "    try:\n",
    "        # VCAM number\n",
    "        Date = directory.split('/')[0] # 15YS_20230317_01\n",
    "        Vcam = directory.split('/')[-1]  # VCAM_xxxx_xx\n",
    "        VcamID = Vcam.split('_')[1] # xxxx\n",
    "\n",
    "        # reconstruct the correct Openpose directory\n",
    "        video_directory = os.path.join('siblings_pose', Date,'VCAM_'+VcamID, Vcam)\n",
    "        json_directory = os.path.join(video_directory, 'json')\n",
    "    except:\n",
    "        print(f\"[load error]:{directory}\")\n",
    "\n",
    "    json_files = os.listdir(json_directory)\n",
    "    json_files.sort(key=lambda x: int(x.split('_')[2])) # sort by the frame id\n",
    "    \n",
    "\n",
    "    # the correct Openface csv file\n",
    "    # feature_file = os.path.join('siblings_face', directory + '.csv')\n",
    "    feature_file = os.path.join('siblings_face_1024', Vcam + '.csv')\n",
    "\n",
    "\n",
    "    # the label data for this video\n",
    "    label_value = label.iloc[i, 1:] # 取1-4位的标签\n",
    "    video_id = i # video id\n",
    "\n",
    "    # Load face data of a video\n",
    "    try:\n",
    "        face_csv_data = pd.read_csv(feature_file)\n",
    "    except:\n",
    "        print(f\"[face error]: {feature_file} not exist\")\n",
    "        continue\n",
    "    \n",
    "    # log the num of face data rows\n",
    "    face_count += face_csv_data.shape[0]\n",
    "\n",
    "    # 丢弃置信度小于0.5的数据\n",
    "    face_csv_data = face_csv_data[face_csv_data['confidence'] >= confidence_threshold]\n",
    "\n",
    "    # TODO 丢弃 success = 0 的数据\n",
    "    face_csv_data = face_csv_data[face_csv_data['success'] ==1]\n",
    "\n",
    "    # 找到frame中有多于2个不同face_id的帧\n",
    "    counts = face_csv_data.groupby('frame')['face_id'].nunique()\n",
    "    frames_to_drop = counts[counts > 2].index.tolist()\n",
    "\n",
    "    \n",
    "    # 对于每个需要处理的帧，删除置信度最低的行，直到只剩下2个face_id\n",
    "    for frame in frames_to_drop:\n",
    "        frame_df = face_csv_data[face_csv_data['frame'] == frame]\n",
    "        while frame_df['face_id'].nunique() > 2:\n",
    "            min_confidence = frame_df['confidence'].min()\n",
    "            rows_to_drop = frame_df[(frame_df['confidence'] == min_confidence)]['face_id'].tolist()\n",
    "            frame_df = frame_df[~frame_df['face_id'].isin(rows_to_drop)]\n",
    "        face_csv_data = face_csv_data[face_csv_data['frame'] != frame]\n",
    "        face_csv_data = pd.concat([face_csv_data, frame_df], ignore_index=True)\n",
    "\n",
    "    # 丢弃只有1个face_id的帧 \n",
    "    # TODO 是否可以不丢弃？\n",
    "    face_csv_data = face_csv_data.groupby('frame').filter(lambda x: len(x) == 2)\n",
    "\n",
    "\n",
    "    # 按照frame分组，并根据x_30(nose x位置)的大小对face_id进行赋值 x较小标记为0\n",
    "    def assign_face_id(group):\n",
    "        if len(group) != 2:\n",
    "            return None\n",
    "        else:\n",
    "            if group['x_30'].iloc[0] < group['x_30'].iloc[1]:\n",
    "                group['face_id'] = [0, 1]\n",
    "            else:\n",
    "                group['face_id'] = [1, 0]\n",
    "            return group\n",
    "\n",
    "    face_csv_data = face_csv_data.groupby('frame').apply(assign_face_id).reset_index(drop=True)\n",
    "    # # 重新排序\n",
    "    # face_csv_data= face_csv_data.set_index(['face_id', 'frame'])\n",
    "\n",
    "    # def sort_by_frame(group):\n",
    "    #     return group.sort_values(by='frame')\n",
    "\n",
    "    # face_csv_data = face_csv_data.groupby('face_id').apply(sort_by_frame)\n",
    "\n",
    "\n",
    "    # 将df根据face_id列分成两个DataFrame对象\n",
    "    face_df0 = face_csv_data[face_csv_data['face_id'] == 0]\n",
    "    face_df1 = face_csv_data[face_csv_data['face_id'] == 1]\n",
    "\n",
    "    # 按照frame_id列进行排序\n",
    "    # face_df0 = face_df0.sort_values(by='frame')\n",
    "    # face_df1 = face_df1.sort_values(by='frame')\n",
    "\n",
    "\n",
    "\n",
    "\n",
    "    # 将df的索引设置为frame_id,并且插值\n",
    "    try:\n",
    "        min_fm, max_fm = face_df0['frame'].min(), face_df0['frame'].max()\n",
    "        if(max_fm - min_fm >2):\n",
    "            # 记录contribute 数据数量\n",
    "            rface_count += 2*face_df0.shape[0]\n",
    "            # 插值\n",
    "            face_df0 = face_df0.set_index('frame').reindex(range(min_fm, max_fm+1)).interpolate()\n",
    "            face_df1 = face_df1.set_index('frame').reindex(range(min_fm, max_fm+1)).interpolate()\n",
    "        else:\n",
    "            print(f\"[face error] in {feature_file}: not enough frames\")\n",
    "            # print(f\"len:{len(face_df0)} and {len(face_df1)}\")\n",
    "            continue\n",
    "    except:\n",
    "        print(f\"[face error] in {feature_file}:unknown error in interpolation and reindex\")\n",
    "        continue\n",
    "    # # 对df进行插值\n",
    "    #  face_df0.reset_index()\n",
    "    \n",
    "    ###############  face low feature #######################\n",
    "    # low level feat to cal vel and acc\n",
    "    face_low_feat = ['pose_Tx', 'pose_Ty', 'pose_Tz','pose_Rx', 'pose_Ry', 'pose_Rz', 'gaze_angle_x', 'gaze_angle_y']\n",
    "    au_feat = ['AU04_r', 'AU05_r', 'AU06_r', 'AU07_r', 'AU09_r', 'AU15_r',  'AU20_r', 'AU23_r', 'AU26_r']\n",
    "    \n",
    "\n",
    "    # 每个人的low feat 的 vel and acc\n",
    "    v_mean_0, v_var_0, a_mean_0, a_var_0 = get_vel_and_acc(face_df0[face_low_feat])\n",
    "    v_mean_1, v_var_1, a_mean_1, a_var_1 = get_vel_and_acc(face_df1[face_low_feat])\n",
    "    au_mean_0 = np.array(face_df0[au_feat].mean())\n",
    "    au_mean_1 = np.array(face_df1[au_feat].mean())  \n",
    "    au_var_0 = np.array(face_df0[au_feat].var())\n",
    "    au_var_1 = np.array(face_df1[au_feat].var())\n",
    "\n",
    "\n",
    "    # 每一frame的 face feature\n",
    "    # features_face = face_csv_data.values \n",
    "    low_features_face_0 = np.concatenate((v_mean_0, v_var_0, a_mean_0, a_var_0,au_mean_0,au_var_0))\n",
    "    low_features_face_1 = np.concatenate((v_mean_1, v_var_1, a_mean_1, a_var_1,au_mean_1,au_var_1))\n",
    "\n",
    "    ###############  face high feature #######################\n",
    "\n",
    "    # @1 gaze_angle -> indicating gaze direction\n",
    "    gaze_angle_0 = np.array(face_df0[['gaze_angle_x','gaze_angle_y']])\n",
    "    gaze_angle_1 = np.array(face_df1[['gaze_angle_x','gaze_angle_y']])\n",
    "\n",
    "    gaze_mean_0 = gaze_angle_0.mean(axis=0)\n",
    "    gaze_mean_1 = gaze_angle_1.mean(axis=0) \n",
    "    gaze_var_0 = gaze_angle_0.var(axis=0)\n",
    "    gaze_var_1 = gaze_angle_0.var(axis=0)\n",
    "\n",
    "\n",
    "    # @2 计算两个人之间的角度夹角\n",
    "    # gaze_diff_x = face_df0['gaze_angle_x'] - face_df1['gaze_angle_x']\n",
    "    # gaze_diff_y = face_df0['gaze_angle_y'] - face_df1['gaze_angle_y']\n",
    "\n",
    "    cos_angles = np.sum(gaze_angle_0 * gaze_angle_1, axis=1) / (np.linalg.norm(gaze_angle_0, axis=1) * np.linalg.norm(gaze_angle_1, axis=1))\n",
    "    angles = np.arccos(cos_angles)\n",
    "    # 将弧度值转换为角度值\n",
    "    gaze_angles = np.degrees(angles)\n",
    "\n",
    "    gaze_angle_mean = gaze_angles.mean(axis=0)\n",
    "    gaze_angle_var = gaze_angles.var(axis=0) \n",
    "    v_mean_ga, v_var_ga, a_mean_ga, a_var_ga = get_vel_and_acc(gaze_angles)\n",
    "    # 单个数值合并成 array\n",
    "    gaze_feat = np.array([gaze_angle_mean, gaze_angle_var, v_mean_ga, v_var_ga, a_mean_ga, a_var_ga])\n",
    "\n",
    "\n",
    "    # @3 Motion synchronization -> abs\n",
    "    v_mean_ms, v_var_ms, a_mean_ms, a_var_ms = get_vel_and_acc((face_df0[face_low_feat] - face_df1[face_low_feat]).abs())\n",
    "\n",
    "\n",
    "    # 每一frame的 face feature\n",
    "    # features_face = face_csv_data.values \n",
    "    high_features_face = np.concatenate((gaze_mean_0, gaze_mean_1, gaze_var_0, gaze_var_1, \\\n",
    "                                         gaze_feat,\n",
    "                                         v_mean_ms, v_var_ms, a_mean_ms, a_var_ms\n",
    "                                        ))\n",
    "\n",
    "\n",
    "    ###############  pose feature #######################\n",
    "    \n",
    "    \n",
    "    pose_json_data = [] # save all frame data\n",
    "\n",
    "    # feature names in 'pose_keypoints_2d' in json file\n",
    "    col_name = [\n",
    "        'frame','face_id',\n",
    "       'x0', 'y0', 'c0', 'x1', 'y1', 'c1', 'x2', 'y2', 'c2', 'x3', 'y3', 'c3', 'x4', 'y4', 'c4',\n",
    "       'x5', 'y5', 'c5', 'x6', 'y6', 'c6', 'x7', 'y7', 'c7', 'x8', 'y8', 'c8',\n",
    "       'x9', 'y9', 'c9', 'x10', 'y10', 'c10', 'x11', 'y11', 'c11', 'x12', 'y12', 'c12',\n",
    "       'x13', 'y13', 'c13', 'x14', 'y14', 'c14', 'x15', 'y15', 'c15', 'x16', 'y16', 'c16', \n",
    "       'x17', 'y17', 'c17', 'x18', 'y18', 'c18', 'x19', 'y19', 'c19', 'x20', 'y20', 'c20', \n",
    "       'x21', 'y21', 'c21', 'x22', 'y22', 'c22', 'x23', 'y23', 'c23', 'x24', 'y24', 'c24'\n",
    "       ]\n",
    "\n",
    "    # 创建空的 dataframe\n",
    "    pose_df0 = pd.DataFrame(columns=col_name)\n",
    "    pose_df1 = pd.DataFrame(columns=col_name)\n",
    "    \n",
    "    \n",
    "    # Load pose data of a video frame\n",
    "    for file in json_files: # for a single frame\n",
    "        file_path = os.path.join(json_directory, file)\n",
    "        try:\n",
    "            with open(file_path, 'r') as f:\n",
    "                data = json.load(f)\n",
    "        except:\n",
    "            print(f\"[pose error]: {file} not exist\")\n",
    "            continue\n",
    "\n",
    "        # log the number\n",
    "        pose_count += len(data['people'])\n",
    "        \n",
    "        # 漏检测 只有1人的情况\n",
    "        if len(data['people']) != 2:\n",
    "            # drop this frame\n",
    "            continue\n",
    "        \n",
    "        row0 = data['people'][0]['pose_keypoints_2d'] # x0,y0,c0,x1,y1,c1,... x24,y24,c24\n",
    "        row1 = data['people'][1]['pose_keypoints_2d']\n",
    "\n",
    "        # face_id对应 x较小 标记为0，x较大 标记为1 \n",
    "        if(row0[0]>row1[0]):\n",
    "            row0,row1 = row1,row0 # swap\n",
    "\n",
    "        # 插入face_id\n",
    "        # TODO del face_id no need anymore\n",
    "        row0.insert(0,0)\n",
    "        row1.insert(0,1)\n",
    "\n",
    "        # 插入frame\n",
    "        frame_id = int(file.split('_')[-2]) # 文件 frame_id\n",
    "\n",
    "        # 去掉多余的最后一 frame 文件 否者会导致 frame 重复\n",
    "        if frame_id % 5 != 0:\n",
    "            continue\n",
    "\n",
    "        frame_id = frame_id // 5 + 1 # 恢复frame id 抽帧后的 id\n",
    "        row0.insert(0,frame_id)\n",
    "        row1.insert(0,frame_id)\n",
    "\n",
    "        pose_df0.loc[len(pose_df0)] = row0\n",
    "        pose_df1.loc[len(pose_df1)] = row1\n",
    "\n",
    "     # 将df的索引设置为frame_id,并且插值\n",
    "    try:\n",
    "        # set frame to int type\n",
    "        pose_df0['frame'] = pose_df0['frame'].astype(int)\n",
    "        pose_df1['frame'] = pose_df1['frame'].astype(int)\n",
    "        min_fm, max_fm = pose_df0['frame'].min(), pose_df0['frame'].max()\n",
    "\n",
    "        if(max_fm - min_fm >2):\n",
    "            # 记录contribute 数据数量\n",
    "            rpose_count += 2*pose_df0.shape[0]\n",
    "            # 插值\n",
    "            pose_df0 = pose_df0.set_index('frame').reindex(range(min_fm, max_fm+1)).interpolate()\n",
    "            pose_df1 = pose_df1.set_index('frame').reindex(range(min_fm, max_fm+1)).interpolate()\n",
    "        else:\n",
    "            print(f\"[pose error] in {feature_file}: not enough frames\")\n",
    "            # print(f\"len:{len(face_df0)} and {len(face_df1)}\")\n",
    "            continue\n",
    "    except:\n",
    "        print(f\"[pose error] in {feature_file}:unknown error in interpolation and reindex\")\n",
    "        continue\n",
    "\n",
    "    ###############  pose low feature #######################\n",
    "    \n",
    "    # TODO select low feat\n",
    "    # pose_low_feat = ['x','y']\n",
    "    pose_low_feat = col_name[2:]\n",
    "    pose_low_feat = [col for col in pose_low_feat if not col.startswith('c')] # filter all confidence\n",
    "\n",
    "    # 每个人的low feat 的 vel and acc\n",
    "    v_mean_0, v_var_0, a_mean_0, a_var_0 = get_vel_and_acc(pose_df0[pose_low_feat])\n",
    "    v_mean_1, v_var_1, a_mean_1, a_var_1 = get_vel_and_acc(pose_df1[pose_low_feat])\n",
    "    mean_0 = np.array(pose_df0[pose_low_feat].mean())\n",
    "    mean_1 = np.array(pose_df1[pose_low_feat].mean())\n",
    "    var_0 = np.array(pose_df0[pose_low_feat].var())\n",
    "    var_1 = np.array(pose_df1[pose_low_feat].var())\n",
    "    \n",
    "\n",
    "    ###############  pose high feature #######################\n",
    "    # TODO pose high feature\n",
    "\n",
    "    # # @1 left and right shoulder distance vel → (mean + var) = 2\n",
    "    # shoulder_lf_diff_0 = (pose_df0[['x2','y2']] - pose_df0[['x5','y5']]).abs()\n",
    "    # shoulder_lf_diff_1 = (pose_df1[['x2','y2']] - pose_df1[['x5','y5']]).abs()\n",
    "\n",
    "    # v_mean_lrs, v_var_lrs, a_mean_lrs, a_var_lrs = get_vel_and_acc(np.concatenate(shoulder_lf_diff_0,shoulder_lf_diff_1))\n",
    "\n",
    "    # # @2 质心靠近程度\n",
    "    # centroid_diff_x = np.abs(mean_0[0:-1:2].mean() - mean_1[0:-1:2].mean()) # 所有 x 平均(单数 index)\n",
    "    # centroid_diff_y = np.abs(mean_0[1:-1:2].mean() - mean_1[1:-1:2].mean()) # 所有 y 平均(双数 index)\n",
    "\n",
    "\n",
    "    # features_pose = np.array(pose_json_data)\n",
    "    low_features_pose_0 = np.concatenate((v_mean_0, v_var_0, a_mean_0, a_var_0,mean_0,var_0))\n",
    "    low_features_pose_1 = np.concatenate((v_mean_1, v_var_1, a_mean_1, a_var_1,mean_1,var_1))\n",
    "\n",
    "    # 将记录视频特征\n",
    "    low_video_features.append(np.concatenate((low_features_face_0, low_features_pose_0, low_features_face_1, low_features_pose_1))) # simply attach them all together\n",
    "    high_video_features.append(np.concatenate((high_features_face, low_features_face_0, low_features_pose_0, low_features_face_1, low_features_pose_1)))\n",
    "\n",
    "\n",
    "    # video 级别label\n",
    "    video_labels.append(np.argmax(label_value.astype(\"int\"),axis=0)) # one-hot to class id\n",
    "    \n",
    "    # # frame级别label\n",
    "    # video_labels.append(np.array(labels))\n",
    "\n",
    "X_low = low_video_features\n",
    "X_high = high_video_features\n",
    "\n",
    "y = video_labels\n",
    "\n",
    "\n",
    "# 总共遍历的face特征和pose特征数\n",
    "print(f\"Total face feat:{face_count}, pose feat:{pose_count}\")\n",
    "# 读入的数量\n",
    "print(f\"Read in videos X:{len(X_low)}, face_feat:{rface_count},pose_feat:{rpose_count}\")\n",
    "# # drop\n",
    "print(f\"Drop {face_count - rface_count} face features ({1 - rface_count/face_count:.2f}%), {pose_count - rpose_count} pose features({1 - rpose_count/pose_count:.2f}%)\")\n"
   ]
  },
  {
   "cell_type": "code",
   "execution_count": 8,
   "metadata": {},
   "outputs": [
    {
     "name": "stdout",
     "output_type": "stream",
     "text": [
      "Total face feat:936507, pose feat:192635\n",
      "Read in videos X:3032, face_feat:694744,pose_feat:191272\n",
      "Drop 241763 face features (0.26%), 1363 pose features(0.01%)\n"
     ]
    }
   ],
   "source": [
    "# 总共遍历的face特征和pose特征数\n",
    "print(f\"Total face feat:{face_count}, pose feat:{pose_count}\")\n",
    "# 读入的数量\n",
    "print(f\"Read in videos X:{len(X_low)}, face_feat:{rface_count},pose_feat:{rpose_count}\")\n",
    "# # drop\n",
    "print(f\"Drop {face_count - rface_count} face features ({1 - rface_count/face_count:.2f}%), {pose_count - rpose_count} pose features({1 - rpose_count/pose_count:.2f}%)\")"
   ]
  },
  {
   "attachments": {},
   "cell_type": "markdown",
   "metadata": {},
   "source": [
    "### 数据选择和预处理"
   ]
  },
  {
   "cell_type": "code",
   "execution_count": 9,
   "metadata": {},
   "outputs": [],
   "source": [
    "X = high_video_features"
   ]
  },
  {
   "attachments": {},
   "cell_type": "markdown",
   "metadata": {},
   "source": [
    "检查 nan"
   ]
  },
  {
   "cell_type": "code",
   "execution_count": 17,
   "metadata": {},
   "outputs": [
    {
     "data": {
      "text/plain": [
       "array([940])"
      ]
     },
     "execution_count": 17,
     "metadata": {},
     "output_type": "execute_result"
    }
   ],
   "source": [
    "idx = np.where(np.isnan(X).any(axis=1)==True)[0]\n",
    "idx"
   ]
  },
  {
   "cell_type": "code",
   "execution_count": 18,
   "metadata": {},
   "outputs": [],
   "source": [
    "if len(idx) != 0:\n",
    "    print(f\"drop {len(idx)} rows with nan value)}\")\n",
    "    for i in idx:\n",
    "        X = np.delete(X, i, axis=0)\n",
    "        y = np.delete(y, i, axis=0)"
   ]
  },
  {
   "cell_type": "code",
   "execution_count": 19,
   "metadata": {},
   "outputs": [],
   "source": [
    "X_norm = np.apply_along_axis(lambda x: x / np.linalg.norm(x), axis=0, arr=X)\n"
   ]
  },
  {
   "cell_type": "code",
   "execution_count": 21,
   "metadata": {},
   "outputs": [
    {
     "data": {
      "text/plain": [
       "(array([], dtype=int64),)"
      ]
     },
     "execution_count": 21,
     "metadata": {},
     "output_type": "execute_result"
    }
   ],
   "source": [
    "np.where(np.isnan(X_norm).any(axis=1)==True)"
   ]
  },
  {
   "cell_type": "code",
   "execution_count": 22,
   "metadata": {},
   "outputs": [
    {
     "name": "stdout",
     "output_type": "stream",
     "text": [
      "Read in videos y:3031\n"
     ]
    }
   ],
   "source": [
    "print(f\"Read in videos y:{len(y)}\")"
   ]
  },
  {
   "attachments": {},
   "cell_type": "markdown",
   "metadata": {},
   "source": [
    "维度"
   ]
  },
  {
   "cell_type": "code",
   "execution_count": 23,
   "metadata": {},
   "outputs": [
    {
     "name": "stdout",
     "output_type": "stream",
     "text": [
      "X:746\n"
     ]
    }
   ],
   "source": [
    "print(f\"X:{len(X[0])}\")"
   ]
  },
  {
   "cell_type": "code",
   "execution_count": 34,
   "metadata": {},
   "outputs": [
    {
     "data": {
      "text/plain": [
       "0"
      ]
     },
     "execution_count": 34,
     "metadata": {},
     "output_type": "execute_result"
    }
   ],
   "source": [
    "y.min()"
   ]
  }
 ],
 "metadata": {
  "kernelspec": {
   "display_name": "torch",
   "language": "python",
   "name": "python3"
  },
  "language_info": {
   "codemirror_mode": {
    "name": "ipython",
    "version": 3
   },
   "file_extension": ".py",
   "mimetype": "text/x-python",
   "name": "python",
   "nbconvert_exporter": "python",
   "pygments_lexer": "ipython3",
   "version": "3.8.16"
  },
  "orig_nbformat": 4,
  "vscode": {
   "interpreter": {
    "hash": "1de83ba939c2ac04c4cd5f42769ee29bf75010bc15e3148e0552f0994dd76a71"
   }
  }
 },
 "nbformat": 4,
 "nbformat_minor": 2
}
